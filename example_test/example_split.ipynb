{
 "cells": [
  {
   "cell_type": "markdown",
   "id": "published-corporation",
   "metadata": {},
   "source": [
    "<center><h1> data-splitting test : post-solar vs post-lasso </h1></center>\n",
    "\n",
    "# In this file, we show the detailed step and resut of post-solar and post-lasso data-splitting test."
   ]
  },
  {
   "cell_type": "code",
   "execution_count": 1,
   "id": "first-envelope",
   "metadata": {},
   "outputs": [],
   "source": [
    "%reset -f"
   ]
  },
  {
   "cell_type": "code",
   "execution_count": 2,
   "id": "minimal-manor",
   "metadata": {},
   "outputs": [],
   "source": [
    "import itertools\n",
    "import time\n",
    "import pickle\n",
    "\n",
    "import numpy             as np\n",
    "import pandas            as pd\n",
    "import seaborn           as sns\n",
    "import statsmodels.api   as sm\n",
    "import matplotlib.pyplot as plt\n",
    "\n",
    "\n",
    "from sklearn              import linear_model\n",
    "from sklearn.metrics      import mean_squared_error\n",
    "from tqdm                 import tqdm_notebook\n",
    "from tqdm.notebook        import trange\n",
    "from tqdm                 import tqdm\n",
    "from solar                import solar\n",
    "from sklearn.linear_model import LassoCV"
   ]
  },
  {
   "cell_type": "markdown",
   "id": "numerous-venezuela",
   "metadata": {},
   "source": [
    "# fix random seeds"
   ]
  },
  {
   "cell_type": "code",
   "execution_count": 3,
   "id": "twenty-glenn",
   "metadata": {},
   "outputs": [],
   "source": [
    "np.random.seed(0)"
   ]
  },
  {
   "cell_type": "markdown",
   "id": "stock-printer",
   "metadata": {},
   "source": [
    "# define data generator for simulation (copied from \"simulator.py\")"
   ]
  },
  {
   "cell_type": "code",
   "execution_count": 4,
   "id": "flying-petersburg",
   "metadata": {},
   "outputs": [],
   "source": [
    "def data_gen(sample_size, n_dim, n_info):  \n",
    "  \n",
    "    ############ generate data #################\n",
    "    ##1. generating the covariance matrix for X,\n",
    "    #we add a matrix full of 1/2 with an identity matrix multiplied with 1/2\n",
    "    a     = np.ones((n_dim, n_dim)) * 0.5\n",
    "    A     = np.eye(n_dim)*0.5\n",
    "    cov_x = a + A\n",
    "    ##2. generating the mean of each column in X (which is 0)\n",
    "    mean_x = np.zeros(n_dim)\n",
    "    ##3. generating X as a multivariate Gaussian\n",
    "    X_org = np.random.multivariate_normal(mean_x, cov_x, sample_size)\n",
    "    ##4. generate regression coefficients in DGP as an increasing sequence (2,3,4,5,6 in our paper)\n",
    "    beta_info = np.arange(1, n_info+1)\n",
    "    #in DGP, generate regression coefficients of redundant variables as 0\n",
    "    #concatenate the regression coefficients of informative variables and redundant variables\n",
    "    beta = np.concatenate((beta_info, np.zeros(n_dim - n_info)), axis = 0)\n",
    "    ##5. generate the Gaussian random noise\n",
    "    noise = np.random.normal(0, 1, sample_size)\n",
    "    #transform Gaussian random noise into a column\n",
    "    #transform regression coefficients in DGP into a row (based on the requirement of np.inner )\n",
    "    noise.shape = (sample_size, 1); beta.shape = (1, n_dim)\n",
    "    ##6. generate Y by adding random noise with the inner product of X and beta\n",
    "    Y_org = np.inner(X_org,beta) + noise\n",
    "\n",
    "    return X_org, Y_org"
   ]
  },
  {
   "cell_type": "markdown",
   "id": "superb-williams",
   "metadata": {},
   "source": [
    "# Now let's automate everything above for 100 repetitions"
   ]
  },
  {
   "cell_type": "code",
   "execution_count": 5,
   "id": "framed-celebration",
   "metadata": {},
   "outputs": [],
   "source": [
    "np.random.seed(0)\n",
    "\n",
    "n_dim = 140\n",
    "sample_size = 120"
   ]
  },
  {
   "cell_type": "code",
   "execution_count": 6,
   "id": "present-lebanon",
   "metadata": {},
   "outputs": [],
   "source": [
    "def simul_func():\n",
    "  \n",
    "    ############ lists #################\n",
    "\n",
    "    X0_t = list()\n",
    "    X1_t = list()\n",
    "    X2_t = list()\n",
    "    X3_t = list()\n",
    "    X4_t = list()\n",
    "    X5_t = list()\n",
    "    X6_t = list()\n",
    "    X0_p = list()\n",
    "    X1_p = list()\n",
    "    X2_p = list()\n",
    "    X3_p = list()\n",
    "    X4_p = list()\n",
    "    X5_p = list()\n",
    "    X6_p = list()\n",
    "\n",
    "    X0_t_lasso = list()\n",
    "    X1_t_lasso = list()\n",
    "    X2_t_lasso = list()\n",
    "    X3_t_lasso = list()\n",
    "    X4_t_lasso = list()\n",
    "    X5_t_lasso = list()\n",
    "    X6_t_lasso = list()\n",
    "    X0_p_lasso = list()\n",
    "    X1_p_lasso = list()\n",
    "    X2_p_lasso = list()\n",
    "    X3_p_lasso = list()\n",
    "    X4_p_lasso = list()\n",
    "    X5_p_lasso = list()\n",
    "    X6_p_lasso = list()\n",
    "\n",
    "    for i in tqdm(range(0,100)):\n",
    "\n",
    "        X_org, Y_org = data_gen(sample_size, n_dim, 5)\n",
    "        \n",
    "        ###### post-solar hold-out average ###########\n",
    "        \n",
    "        X_half_1 = X_org[0:int(sample_size/2),:]\n",
    "        Y_half_1 = Y_org[0:int(sample_size/2),:]\n",
    "        X_half_2 = X_org[int(sample_size/2):sample_size,:]\n",
    "        Y_half_2 = Y_org[int(sample_size/2):sample_size,:]\n",
    "\n",
    "        trial2_h1 = solar(X_half_1, Y_half_1, 10, -0.01, lasso=False)\n",
    "        trial2_h2 = solar(X_half_2, Y_half_2, 10, -0.01, lasso=False)\n",
    "\n",
    "        _, _, _, _, Q_opt_c_h1, _, _, _, _ = trial2_h1.fit()\n",
    "        _, _, _, _, Q_opt_c_h2, _, _, _, _ = trial2_h2.fit()\n",
    "\n",
    "        Q_opt_c = np.unique(np.concatenate((Q_opt_c_h1, Q_opt_c_h2, np.arange(0,7)),axis=0))\n",
    "\n",
    "        # train lasso\n",
    "        YY_half_1 = Y_half_1; YY_half_1.shape = (Y_half_1.shape[0],)\n",
    "\n",
    "        trial3_h1 = LassoCV(cv=10, random_state=0)\n",
    "\n",
    "        trial3_h1.fit(X_half_1, YY_half_1)\n",
    "\n",
    "        lasso_active_h1 = np.nonzero(trial3_h1.coef_)[0]\n",
    "\n",
    "        YY_half_2 = Y_half_2; YY_half_2.shape = (Y_half_2.shape[0],)\n",
    "\n",
    "        trial3_h2 = LassoCV(cv=10, random_state=0)\n",
    "\n",
    "        trial3_h2.fit(X_half_2, YY_half_2)\n",
    "\n",
    "        lasso_active_h2 = np.nonzero(trial3_h2.coef_)[0]\n",
    "\n",
    "        joint_lasso = np.unique(np.concatenate((lasso_active_h1, lasso_active_h2, np.arange(0,7)),axis=0))\n",
    "\n",
    "        #### 2 halves of the hold-out ####\n",
    "        solar_active_var = ['X' + str(i) for i in Q_opt_c]\n",
    "        \n",
    "        var_name = ['X' + str(i) for i in np.arange(0,n_dim)]\n",
    "        \n",
    "        X_half_1 = pd.DataFrame(X_half_1, columns=var_name)\n",
    "        Y_half_1 = pd.DataFrame(Y_half_1, columns=['Y'])\n",
    "        X_half_2 = pd.DataFrame(X_half_2, columns=var_name)\n",
    "        Y_half_2 = pd.DataFrame(Y_half_2, columns=['Y'])\n",
    "\n",
    "        #first half OLS\n",
    "        solar_active_var = ['X' + str(i) for i in Q_opt_c]\n",
    "        XX_half_1 = X_half_1[solar_active_var]\n",
    "        YY_half_1 = Y_half_1\n",
    "        XX_half_1 = sm.add_constant(XX_half_1)\n",
    "        reg_half_1 = sm.OLS(YY_half_1, XX_half_1)\n",
    "\n",
    "        result_half_1 = reg_half_1.fit()\n",
    "\n",
    "        #2nd half\n",
    "\n",
    "        XX_half_2 = X_half_2[solar_active_var]\n",
    "        YY_half_2 = Y_half_2\n",
    "        XX_half_2 = sm.add_constant(XX_half_2)\n",
    "        reg_half_2 = sm.OLS(YY_half_2, XX_half_2)\n",
    "\n",
    "        result_half_2 = reg_half_2.fit()\n",
    "\n",
    "        #post-lasso 1st half\n",
    "\n",
    "        lasso_active_var = ['X' + str(i) for i in joint_lasso]\n",
    "        XX_half_1 = X_half_1[lasso_active_var]\n",
    "        YY_half_1 = Y_half_1\n",
    "        XX_half_1 = sm.add_constant(XX_half_1)\n",
    "        reg_lasso_1 = sm.OLS(YY_half_1, XX_half_1)\n",
    "\n",
    "        result_lasso_1 = reg_lasso_1.fit()\n",
    "\n",
    "        #post-lasso 2nd half\n",
    "\n",
    "        XX_half_2 = X_half_2[lasso_active_var]\n",
    "        YY_half_2 = Y_half_2\n",
    "        XX_half_2 = sm.add_constant(XX_half_2)\n",
    "        reg_lasso_2 = sm.OLS(YY_half_2, XX_half_2)\n",
    "\n",
    "        result_lasso_2 = reg_lasso_2.fit()\n",
    "\n",
    "        #hold-out average\n",
    "        X0_t.append((result_half_1.tvalues[1] + result_half_2.tvalues[1])/2)\n",
    "        X1_t.append((result_half_1.tvalues[2] + result_half_2.tvalues[2])/2)\n",
    "        X2_t.append((result_half_1.tvalues[3] + result_half_2.tvalues[3])/2)\n",
    "        X3_t.append((result_half_1.tvalues[4] + result_half_2.tvalues[4])/2)\n",
    "        X4_t.append((result_half_1.tvalues[5] + result_half_2.tvalues[5])/2)\n",
    "        X5_t.append((result_half_1.tvalues[6] + result_half_2.tvalues[6])/2)\n",
    "        X6_t.append((result_half_1.tvalues[7] + result_half_2.tvalues[7])/2)\n",
    "        \n",
    "        X0_t_lasso.append((result_lasso_1.tvalues[1] + result_lasso_2.tvalues[1])/2)\n",
    "        X1_t_lasso.append((result_lasso_1.tvalues[2] + result_lasso_2.tvalues[2])/2)\n",
    "        X2_t_lasso.append((result_lasso_1.tvalues[3] + result_lasso_2.tvalues[3])/2)\n",
    "        X3_t_lasso.append((result_lasso_1.tvalues[4] + result_lasso_2.tvalues[4])/2)\n",
    "        X4_t_lasso.append((result_lasso_1.tvalues[5] + result_lasso_2.tvalues[5])/2)\n",
    "        X5_t_lasso.append((result_lasso_1.tvalues[6] + result_lasso_2.tvalues[6])/2)\n",
    "        X6_t_lasso.append((result_lasso_1.tvalues[7] + result_lasso_2.tvalues[7])/2)\n",
    "        \n",
    "        #extract p values#\n",
    "        X0_p.append((result_half_1.pvalues[1] + result_half_2.pvalues[1])/2)\n",
    "        X1_p.append((result_half_1.pvalues[2] + result_half_2.pvalues[2])/2)\n",
    "        X2_p.append((result_half_1.pvalues[3] + result_half_2.pvalues[3])/2)\n",
    "        X3_p.append((result_half_1.pvalues[4] + result_half_2.pvalues[4])/2)\n",
    "        X4_p.append((result_half_1.pvalues[5] + result_half_2.pvalues[5])/2)\n",
    "        X5_p.append((result_half_1.pvalues[6] + result_half_2.pvalues[6])/2)\n",
    "        X6_p.append((result_half_1.pvalues[7] + result_half_2.pvalues[7])/2)\n",
    "\n",
    "        X0_p_lasso.append((result_lasso_1.pvalues[1] + result_lasso_2.pvalues[1])/2)\n",
    "        X1_p_lasso.append((result_lasso_1.pvalues[2] + result_lasso_2.pvalues[2])/2)\n",
    "        X2_p_lasso.append((result_lasso_1.pvalues[3] + result_lasso_2.pvalues[3])/2)\n",
    "        X3_p_lasso.append((result_lasso_1.pvalues[4] + result_lasso_2.pvalues[4])/2)\n",
    "        X4_p_lasso.append((result_lasso_1.pvalues[5] + result_lasso_2.pvalues[5])/2)\n",
    "        X5_p_lasso.append((result_lasso_1.pvalues[6] + result_lasso_2.pvalues[6])/2)\n",
    "        X6_p_lasso.append((result_lasso_1.pvalues[7] + result_lasso_2.pvalues[7])/2)\n",
    "        \n",
    "    return X0_t, X1_t, X2_t, X3_t, X4_t, X5_t, X6_t, X0_p, X1_p, X2_p, X3_p, X4_p, X5_p, X6_p, X0_t_lasso, X1_t_lasso, X2_t_lasso, X3_t_lasso, X4_t_lasso, X5_t_lasso, X6_t_lasso,X0_p_lasso, X1_p_lasso, X2_p_lasso, X3_p_lasso, X4_p_lasso, X5_p_lasso, X6_p_lasso"
   ]
  },
  {
   "cell_type": "markdown",
   "id": "completed-identification",
   "metadata": {},
   "source": [
    "# compute 100 repetitions"
   ]
  },
  {
   "cell_type": "code",
   "execution_count": 7,
   "id": "hollywood-vienna",
   "metadata": {},
   "outputs": [
    {
     "name": "stderr",
     "output_type": "stream",
     "text": [
      "100%|█████████████████████████████████████████████████████████████████████████████| 100/100 [00:46<00:00,  2.13it/s]\n"
     ]
    }
   ],
   "source": [
    "X0_t, X1_t, X2_t, X3_t, X4_t, X5_t, X6_t, X0_p, X1_p, X2_p, X3_p, X4_p, X5_p, X6_p, X0_t_lasso, X1_t_lasso, X2_t_lasso, X3_t_lasso, X4_t_lasso, X5_t_lasso, X6_t_lasso,X0_p_lasso, X1_p_lasso, X2_p_lasso, X3_p_lasso, X4_p_lasso, X5_p_lasso, X6_p_lasso = simul_func()"
   ]
  },
  {
   "cell_type": "markdown",
   "id": "grand-front",
   "metadata": {},
   "source": [
    "# save results as tables"
   ]
  },
  {
   "cell_type": "code",
   "execution_count": 8,
   "id": "nutritional-reputation",
   "metadata": {},
   "outputs": [],
   "source": [
    "df_t = pd.DataFrame(list(zip(X0_t, X0_t_lasso, X1_t, X1_t_lasso, X2_t, X2_t_lasso, X3_t, X3_t_lasso, X4_t, X4_t_lasso, X5_t, X5_t_lasso, X6_t, X6_t_lasso)), columns =['X0 SL', 'X0 LA', 'X1 SL', 'X1 LA', 'X2 SL', 'X2 LA', 'X3 SL', 'X3 LA', 'X4 SL', 'X4 LA', 'X5 SL', 'X5 LA', 'X6 SL', 'X6 LA'])\n",
    "\n",
    "df_p = pd.DataFrame(list(zip(X0_p, X0_p_lasso, X1_p, X1_p_lasso, X2_p, X2_p_lasso, X3_p, X3_p_lasso, X4_p, X4_p_lasso, X5_p, X5_p_lasso, X6_p, X6_p_lasso)),columns =['X0 SL', 'X0 LA', 'X1 SL', 'X1 LA', 'X2 SL', 'X2 LA', 'X3 SL', 'X3 LA', 'X4 SL', 'X4 LA', 'X5 SL', 'X5 LA', 'X6 SL', 'X6 LA'])"
   ]
  },
  {
   "cell_type": "code",
   "execution_count": 9,
   "id": "greenhouse-injury",
   "metadata": {},
   "outputs": [],
   "source": [
    "df_SL = pd.DataFrame(list(zip(X0_t, X1_t, X2_t, X3_t, X4_t, X5_t, X6_t)), columns =['X0', 'X1', 'X2', 'X3', 'X4', 'X5', 'X6'])\n",
    "\n",
    "df_LA = pd.DataFrame(list(zip(X0_t_lasso, X1_t_lasso, X2_t_lasso, X3_t_lasso, X4_t_lasso, X5_t_lasso, X6_t_lasso)), columns =['X0', 'X1', 'X2', 'X3', 'X4', 'X5', 'X6'])"
   ]
  },
  {
   "cell_type": "code",
   "execution_count": 10,
   "id": "4d52d917-8423-470d-afd0-e5eb263468ed",
   "metadata": {},
   "outputs": [],
   "source": [
    "df_SL_p = pd.DataFrame(list(zip(X0_p, X1_p, X2_p, X3_p, X4_p, X5_p, X6_p)), columns =['X0', 'X1', 'X2', 'X3', 'X4', 'X5', 'X6'])\n",
    "\n",
    "df_LA_p = pd.DataFrame(list(zip(X0_p_lasso, X1_p_lasso, X2_p_lasso, X3_p_lasso, X4_p_lasso, X5_p_lasso, X6_p_lasso)), columns =['X0', 'X1', 'X2', 'X3', 'X4', 'X5', 'X6'])"
   ]
  },
  {
   "cell_type": "code",
   "execution_count": 11,
   "id": "suburban-photograph",
   "metadata": {},
   "outputs": [],
   "source": [
    "SL = [df_SL['X0'], df_SL['X1'], df_SL['X2'], df_SL['X3'], df_SL['X4']]\n",
    "LA = [df_LA['X0'], df_LA['X1'], df_LA['X2'], df_LA['X3'], df_LA['X4']]\n",
    "\n",
    "SL_p = [df_SL_p['X0'].dropna(), df_SL_p['X1'].dropna(), df_SL_p['X2'].dropna(), df_SL_p['X3'].dropna(), df_SL_p['X4'].dropna()]\n",
    "LA_p = [df_LA_p['X0'].dropna(), df_LA_p['X1'].dropna(), df_LA_p['X2'].dropna(), df_LA_p['X3'].dropna(), df_LA_p['X4'].dropna()]"
   ]
  },
  {
   "cell_type": "markdown",
   "id": "informational-species",
   "metadata": {},
   "source": [
    "# boxplot"
   ]
  },
  {
   "cell_type": "code",
   "execution_count": 12,
   "id": "bcd40d61-8539-4200-b849-a9cc751b7a43",
   "metadata": {},
   "outputs": [
    {
     "data": {
      "image/png": "[encoded data removed]",
      "text/plain": [
       "<Figure size 576x216 with 1 Axes>"
      ]
     },
     "metadata": {
      "needs_background": "light"
     },
     "output_type": "display_data"
    }
   ],
   "source": [
    "ticks = ['X0', 'X1', 'X2', 'X3', 'X4']\n",
    "\n",
    "def set_box_color(bp, color):\n",
    "    plt.setp(bp['boxes'], color=color)\n",
    "    plt.setp(bp['whiskers'], color=color)\n",
    "    plt.setp(bp['caps'], color=color)\n",
    "    plt.setp(bp['medians'], color=color)\n",
    "\n",
    "fig = plt.figure()\n",
    "\n",
    "bp1 = plt.boxplot(SL_p,  positions=np.arange(0,5)*2-0.5, widths=0.5)\n",
    "bp2 = plt.boxplot(LA_p,  positions=np.arange(0,5)*2+0.5  , widths=0.5)\n",
    "\n",
    "plt.axhline(y=0.05, linewidth=1.5, color='r',linestyle='--',label='sig level=0.05')\n",
    "\n",
    "set_box_color(bp1, 'b')\n",
    "set_box_color(bp2, 'g')\n",
    "\n",
    "# draw temporary red and blue lines and use them to create a legend\n",
    "plt.plot([], c='b', label='solar + split')\n",
    "plt.plot([], c='g', label='lasso + split')\n",
    "\n",
    "plt.legend(bbox_to_anchor=(0.5, -0.1), loc='upper center', ncol=5)\n",
    "plt.xticks(range(0, len(ticks) * 2, 2), ticks)\n",
    "#plt.ylim(-0.05, 0.36)\n",
    "#plt.xlim(-1, 9)\n",
    "\n",
    "plt.tight_layout()\n",
    "fig.set_size_inches(8,3)\n",
    "fig.savefig('p_value_compare.pdf', dpi=1200)"
   ]
  },
  {
   "cell_type": "code",
   "execution_count": 13,
   "id": "artistic-pierce",
   "metadata": {},
   "outputs": [
    {
     "name": "stdout",
     "output_type": "stream",
     "text": [
      "[NbConvertApp] Converting notebook example_split.ipynb to html\n",
      "[NbConvertApp] Writing 664095 bytes to example_split.html\n"
     ]
    }
   ],
   "source": [
    "!rm -rf example_split.html\n",
    "!jupyter nbconvert --to html example_split.ipynb "
   ]
  },
  {
   "cell_type": "code",
   "execution_count": null,
   "id": "379d6e76-7f65-4ed9-8944-8ea13d852aeb",
   "metadata": {},
   "outputs": [],
   "source": []
  }
 ],
 "metadata": {
  "kernelspec": {
   "display_name": "Python 3 (ipykernel)",
   "language": "python",
   "name": "python3"
  },
  "language_info": {
   "codemirror_mode": {
    "name": "ipython",
    "version": 3
   },
   "file_extension": ".py",
   "mimetype": "text/x-python",
   "name": "python",
   "nbconvert_exporter": "python",
   "pygments_lexer": "ipython3",
   "version": "3.9.12"
  }
 },
 "nbformat": 4,
 "nbformat_minor": 5
}
