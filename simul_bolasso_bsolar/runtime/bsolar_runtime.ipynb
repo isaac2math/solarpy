{
 "cells": [
  {
   "cell_type": "markdown",
   "metadata": {},
   "source": [
    "<center><h1> Runtime comparison : bsolar under customized Joblib parallel scheme </h1></center>"
   ]
  },
  {
   "cell_type": "markdown",
   "metadata": {},
   "source": [
    "---\n",
    "\n",
    "## Check the following before running the code\n",
    "\n",
    "### (a) Read \"README.pdf\" in this folder first, which introduces the package\n",
    "\n",
    "### (b) Before replication, delete all .p files in the \"./numerical_result\" folder. The .p files record the numerical results of the our computation.\n",
    "\n",
    "### (c) To avoid confusion, reset your kernel before you running the notebook (to clear memory): \n",
    "* <font size=\"4.5\"> In Jupyter Notebook/Lab : go to Menu \"Kernel\" $\\rightarrow$ \"Restart Kernel and clear all outputs\". </font> \n",
    "\n",
    "### (d) To evaluate the code for simulation replication in Jupyter Notebook/Lab,\n",
    "* <font size=\"4.5\"> click : Menu \"Kernel\" $\\rightarrow$ \"Restart Kernel and Run All Cells\" </font>\n",
    "* <font size=\"4.5\"> or, select a cell of code, press \"shift\" and \"enter\". Run all cells to avoid errors </font>\n",
    "\n",
    "### (e) Check \"joblib\", \"scikit-learn\", \"numpy\", \"matplotlib\" and \"tqdm\" are installed. If not,\n",
    "* <font size=\"4.5\"> we highly recommend installing Anaconda3 version 2020-11 directly to avoid package management (all packages mentioned above are installed by default).</font>\n",
    "\n",
    "---"
   ]
  },
  {
   "cell_type": "markdown",
   "metadata": {},
   "source": [
    "## #1: import all modules\n",
    "\n",
    "* <font size=\"4\"> \"pickle\" is used to save all computation results into \".p\" files, which can be loaded later. </font>\n",
    "\n",
    "* <font size=\"4\"> For simplicity and elegancy, all relevant functions and classes are coded in \"simul_joblib_parallel.py\". </font>"
   ]
  },
  {
   "cell_type": "code",
   "execution_count": 1,
   "metadata": {},
   "outputs": [],
   "source": [
    "%reset -f\n",
    "\n",
    "from simul_joblib_parallel import simul_func\n",
    "\n",
    "import numpy             as np\n",
    "import matplotlib.pyplot as plt\n",
    "import pickle\n",
    "import os\n",
    "import errno"
   ]
  },
  {
   "cell_type": "markdown",
   "metadata": {},
   "source": [
    "## make sure we use the Intel MKL C++/Fortran compiler for maximum performance."
   ]
  },
  {
   "cell_type": "code",
   "execution_count": 2,
   "metadata": {},
   "outputs": [
    {
     "data": {
      "text/plain": [
       "'Intel(R) oneAPI Math Kernel Library Version 2021.4-Product Build 20210904 for Intel(R) 64 architecture applications'"
      ]
     },
     "execution_count": 2,
     "metadata": {},
     "output_type": "execute_result"
    }
   ],
   "source": [
    "import mkl\n",
    "\n",
    "mkl.get_version_string()"
   ]
  },
  {
   "cell_type": "code",
   "execution_count": 3,
   "metadata": {},
   "outputs": [
    {
     "name": "stdout",
     "output_type": "stream",
     "text": [
      "This was obtained using the following Numpy configuration:\n",
      "blas_mkl_info:\n",
      "    libraries = ['mkl_rt', 'pthread']\n",
      "    library_dirs = ['/home/ning/anaconda3/lib']\n",
      "    define_macros = [('SCIPY_MKL_H', None), ('HAVE_CBLAS', None)]\n",
      "    include_dirs = ['/home/ning/anaconda3/include']\n",
      "blas_opt_info:\n",
      "    libraries = ['mkl_rt', 'pthread']\n",
      "    library_dirs = ['/home/ning/anaconda3/lib']\n",
      "    define_macros = [('SCIPY_MKL_H', None), ('HAVE_CBLAS', None)]\n",
      "    include_dirs = ['/home/ning/anaconda3/include']\n",
      "lapack_mkl_info:\n",
      "    libraries = ['mkl_rt', 'pthread']\n",
      "    library_dirs = ['/home/ning/anaconda3/lib']\n",
      "    define_macros = [('SCIPY_MKL_H', None), ('HAVE_CBLAS', None)]\n",
      "    include_dirs = ['/home/ning/anaconda3/include']\n",
      "lapack_opt_info:\n",
      "    libraries = ['mkl_rt', 'pthread']\n",
      "    library_dirs = ['/home/ning/anaconda3/lib']\n",
      "    define_macros = [('SCIPY_MKL_H', None), ('HAVE_CBLAS', None)]\n",
      "    include_dirs = ['/home/ning/anaconda3/include']\n",
      "Supported SIMD extensions in this NumPy install:\n",
      "    baseline = SSE,SSE2,SSE3\n",
      "    found = SSSE3,SSE41,POPCNT,SSE42,AVX,F16C,FMA3,AVX2\n",
      "    not found = AVX512F,AVX512CD,AVX512_KNL,AVX512_KNM,AVX512_SKX,AVX512_CNL\n"
     ]
    }
   ],
   "source": [
    "print('This was obtained using the following Numpy configuration:')\n",
    "\n",
    "np.show_config()"
   ]
  },
  {
   "cell_type": "code",
   "execution_count": 4,
   "metadata": {},
   "outputs": [],
   "source": [
    "n_info           = 5\n",
    "step_size        = -0.01\n",
    "rnd_seed         = 0\n",
    "n_repeat_solar   = 3\n",
    "n_repeat_bsolar  = 3     \n",
    "\n",
    "n_dim_0 = 400 ; sample_size_0 = 200\n",
    "n_dim_1 = 800 ; sample_size_1 = 400\n",
    "n_dim_2 = 1200; sample_size_2 = 600"
   ]
  },
  {
   "cell_type": "markdown",
   "metadata": {},
   "source": [
    "---\n",
    "\n",
    "## **Read this before replication**\n",
    "\n",
    "## #1. the [\"tqdm progress bar\"](https://github.com/tqdm/tqdm)\n",
    "### After runing all the codes, you should see a progress bar below each simulation function. The progress bars are made by Python package *\"tqdm\"* with negligible overheads (80ns for the graphical output). As a result, it does not affect the accuracy of measuring runtime. \n",
    "\n",
    "## #2. the graphical interface of progress bar\n",
    "\n",
    "### The progress bar looks as follows (such as the one below *trial.simul_bsolar()* ). \n",
    "\n",
    "![the tqdm progress bar](./progress_bar.png)\n",
    "\n",
    "### From left to right, it displays\n",
    "\n",
    "* <font size=\"4.5\"> percentage of finished repetitions </font>\n",
    "* <font size=\"4.5\"> the progress bar </font>\n",
    "* <font size=\"4.5\"> number of finished repetitions &nbsp; $/$ &nbsp; number of total repetitions </font>\n",
    "* <font size=\"4.5\"> $[$ time spent &nbsp;  $<$ &nbsp;  time left to finish all repetitions, &nbsp;  average runtime based on finished repititions $]$ </font>\n",
    "* <font size=\"4.5\"> Note that the average time in either **iteration per second (it/s)** or **second per iteration (s/it)**; take the reciprical of **it/s** to make a clear comparison </font>\n",
    "\n",
    "## #3. the runtime length issue of bolasso\n",
    "\n",
    "### Beware that bolasso computation could take very long time. On a Thinkpad T480 laptop with i5-8500u CPU and 8G Ram, sometimes bolasso takes around 60 mins for each repetition at $p/n=1200/600$, implying that 200 hours for all 200 repetitions.\n",
    "\n",
    "### we highly recommend set num_rep = 30 if your CPU frequency is lower than 3.6GHz.\n",
    "\n",
    "---"
   ]
  },
  {
   "cell_type": "markdown",
   "metadata": {},
   "source": [
    "## $\\log(p)/n \\rightarrow 0$\n",
    "## #4(b): $p/n=400/200$"
   ]
  },
  {
   "cell_type": "code",
   "execution_count": 5,
   "metadata": {},
   "outputs": [],
   "source": [
    "num_rep = 10"
   ]
  },
  {
   "cell_type": "markdown",
   "metadata": {},
   "source": [
    "## call the simulation function"
   ]
  },
  {
   "cell_type": "code",
   "execution_count": 6,
   "metadata": {},
   "outputs": [],
   "source": [
    "trial = simul_func(sample_size_0, n_dim_0, n_info, n_repeat_solar, n_repeat_bsolar, num_rep, step_size, rnd_seed)"
   ]
  },
  {
   "cell_type": "markdown",
   "metadata": {},
   "source": [
    "## compute 10 bsolar-3 and average the run time"
   ]
  },
  {
   "cell_type": "code",
   "execution_count": 7,
   "metadata": {},
   "outputs": [
    {
     "name": "stderr",
     "output_type": "stream",
     "text": [
      "100%|███████████████████████████████████████████████████████████████████████████████| 10/10 [00:04<00:00,  2.34it/s]\n"
     ]
    }
   ],
   "source": [
    "trial.simul_bsolar()"
   ]
  },
  {
   "cell_type": "markdown",
   "metadata": {},
   "source": [
    "## #4(c): $p/n=800/400$"
   ]
  },
  {
   "cell_type": "markdown",
   "metadata": {},
   "source": [
    "## call the simulation function"
   ]
  },
  {
   "cell_type": "code",
   "execution_count": 9,
   "metadata": {},
   "outputs": [],
   "source": [
    "trial = simul_func(sample_size_1, n_dim_1, n_info, n_repeat_solar, n_repeat_bsolar, num_rep, step_size, rnd_seed)"
   ]
  },
  {
   "cell_type": "markdown",
   "metadata": {},
   "source": [
    "## compute 10 bsolar-3 and average the run time"
   ]
  },
  {
   "cell_type": "code",
   "execution_count": 10,
   "metadata": {},
   "outputs": [
    {
     "name": "stderr",
     "output_type": "stream",
     "text": [
      "100%|██████████| 10/10 [00:05<00:00,  1.97it/s]\n"
     ]
    }
   ],
   "source": [
    "trial.simul_bsolar()"
   ]
  },
  {
   "cell_type": "markdown",
   "metadata": {},
   "source": [
    "## #4(d): $p/n=1200/600$"
   ]
  },
  {
   "cell_type": "markdown",
   "metadata": {},
   "source": [
    "## call the simulation function"
   ]
  },
  {
   "cell_type": "code",
   "execution_count": 11,
   "metadata": {},
   "outputs": [],
   "source": [
    "trial = simul_func(sample_size_2, n_dim_2, n_info, n_repeat_solar, n_repeat_bsolar, num_rep, step_size, rnd_seed)"
   ]
  },
  {
   "cell_type": "markdown",
   "metadata": {},
   "source": [
    "## compute 10 bsolar-3 and average the run time"
   ]
  },
  {
   "cell_type": "code",
   "execution_count": 12,
   "metadata": {},
   "outputs": [
    {
     "name": "stderr",
     "output_type": "stream",
     "text": [
      "100%|██████████| 10/10 [00:09<00:00,  1.04it/s]\n"
     ]
    }
   ],
   "source": [
    "trial.simul_bsolar()"
   ]
  },
  {
   "cell_type": "markdown",
   "metadata": {},
   "source": [
    "---\n",
    "## $p/n \\rightarrow 0$"
   ]
  },
  {
   "cell_type": "code",
   "execution_count": 13,
   "metadata": {},
   "outputs": [],
   "source": [
    "n_dim_3 = 100 ; sample_size_3 = 100\n",
    "n_dim_4 = 100 ; sample_size_4 = 150\n",
    "n_dim_5 = 100 ; sample_size_5 = 200"
   ]
  },
  {
   "cell_type": "markdown",
   "metadata": {},
   "source": [
    "## #4(e): $p/n=100/100$"
   ]
  },
  {
   "cell_type": "markdown",
   "metadata": {},
   "source": [
    "## call the simulation function"
   ]
  },
  {
   "cell_type": "code",
   "execution_count": 14,
   "metadata": {},
   "outputs": [],
   "source": [
    "trial = simul_func(sample_size_3, n_dim_3, n_info, n_repeat_solar, n_repeat_bsolar, num_rep, step_size, rnd_seed)"
   ]
  },
  {
   "cell_type": "markdown",
   "metadata": {},
   "source": [
    "## compute 10 bsolar-3 and average the run time"
   ]
  },
  {
   "cell_type": "code",
   "execution_count": 15,
   "metadata": {},
   "outputs": [
    {
     "name": "stderr",
     "output_type": "stream",
     "text": [
      "100%|██████████| 10/10 [00:00<00:00, 18.45it/s]\n"
     ]
    }
   ],
   "source": [
    "trial.simul_bsolar()"
   ]
  },
  {
   "cell_type": "markdown",
   "metadata": {},
   "source": [
    "## #4(f): $p/n=100/150$"
   ]
  },
  {
   "cell_type": "markdown",
   "metadata": {},
   "source": [
    "## call the simulation function"
   ]
  },
  {
   "cell_type": "code",
   "execution_count": 16,
   "metadata": {},
   "outputs": [],
   "source": [
    "trial = simul_func(sample_size_4, n_dim_4, n_info, n_repeat_solar, n_repeat_bsolar, num_rep, step_size, rnd_seed)"
   ]
  },
  {
   "cell_type": "markdown",
   "metadata": {},
   "source": [
    "## compute 10 bsolar-3 and average the run time"
   ]
  },
  {
   "cell_type": "code",
   "execution_count": 17,
   "metadata": {},
   "outputs": [
    {
     "name": "stderr",
     "output_type": "stream",
     "text": [
      "100%|██████████| 10/10 [00:00<00:00, 14.23it/s]\n"
     ]
    }
   ],
   "source": [
    "trial.simul_bsolar()"
   ]
  },
  {
   "cell_type": "markdown",
   "metadata": {},
   "source": [
    "## #4(g): $p/n=100/200$"
   ]
  },
  {
   "cell_type": "markdown",
   "metadata": {},
   "source": [
    "## call the simulation function"
   ]
  },
  {
   "cell_type": "code",
   "execution_count": 18,
   "metadata": {},
   "outputs": [],
   "source": [
    "trial = simul_func(sample_size_5, n_dim_5, n_info, n_repeat_solar, n_repeat_bsolar, num_rep, step_size, rnd_seed)"
   ]
  },
  {
   "cell_type": "markdown",
   "metadata": {},
   "source": [
    "## compute 10 bsolar-3 and average the run time"
   ]
  },
  {
   "cell_type": "code",
   "execution_count": 19,
   "metadata": {},
   "outputs": [
    {
     "name": "stderr",
     "output_type": "stream",
     "text": [
      "100%|██████████| 10/10 [00:00<00:00, 13.40it/s]\n"
     ]
    }
   ],
   "source": [
    "trial.simul_bsolar()"
   ]
  },
  {
   "cell_type": "markdown",
   "metadata": {},
   "source": [
    "---\n",
    "## $p/n \\rightarrow 1$"
   ]
  },
  {
   "cell_type": "code",
   "execution_count": 20,
   "metadata": {},
   "outputs": [],
   "source": [
    "n_dim_6 = 150 ; sample_size_6 = 100\n",
    "n_dim_7 = 200 ; sample_size_7 = 150\n",
    "n_dim_8 = 250 ; sample_size_8 = 200"
   ]
  },
  {
   "cell_type": "markdown",
   "metadata": {},
   "source": [
    "## #4(h): $p/n=150/100$"
   ]
  },
  {
   "cell_type": "markdown",
   "metadata": {},
   "source": [
    "## call the simulation function"
   ]
  },
  {
   "cell_type": "code",
   "execution_count": 21,
   "metadata": {},
   "outputs": [],
   "source": [
    "trial = simul_func(sample_size_6, n_dim_6, n_info, n_repeat_solar, n_repeat_bsolar, num_rep, step_size, rnd_seed)"
   ]
  },
  {
   "cell_type": "markdown",
   "metadata": {},
   "source": [
    "## compute 10 bsolar-3 and average the run time"
   ]
  },
  {
   "cell_type": "code",
   "execution_count": 22,
   "metadata": {},
   "outputs": [
    {
     "name": "stderr",
     "output_type": "stream",
     "text": [
      "100%|██████████| 10/10 [00:00<00:00, 17.98it/s]\n"
     ]
    }
   ],
   "source": [
    "trial.simul_bsolar()"
   ]
  },
  {
   "cell_type": "markdown",
   "metadata": {},
   "source": [
    "## #4(i): $p/n=200/100$"
   ]
  },
  {
   "cell_type": "markdown",
   "metadata": {},
   "source": [
    "## call the simulation function"
   ]
  },
  {
   "cell_type": "code",
   "execution_count": 23,
   "metadata": {},
   "outputs": [],
   "source": [
    "trial = simul_func(sample_size_7, n_dim_7, n_info, n_repeat_solar, n_repeat_bsolar, num_rep, step_size, rnd_seed)"
   ]
  },
  {
   "cell_type": "markdown",
   "metadata": {},
   "source": [
    "## compute 30 bsolar-3 and average the run time"
   ]
  },
  {
   "cell_type": "code",
   "execution_count": 24,
   "metadata": {},
   "outputs": [
    {
     "name": "stderr",
     "output_type": "stream",
     "text": [
      "100%|██████████| 10/10 [00:00<00:00, 12.23it/s]\n"
     ]
    }
   ],
   "source": [
    "trial.simul_bsolar()"
   ]
  },
  {
   "cell_type": "markdown",
   "metadata": {},
   "source": [
    "## #4(j): $p/n=250/200$"
   ]
  },
  {
   "cell_type": "markdown",
   "metadata": {},
   "source": [
    "## call the simulation function"
   ]
  },
  {
   "cell_type": "code",
   "execution_count": 25,
   "metadata": {},
   "outputs": [],
   "source": [
    "trial = simul_func(sample_size_8, n_dim_8, n_info, n_repeat_solar, n_repeat_bsolar, num_rep, step_size, rnd_seed)"
   ]
  },
  {
   "cell_type": "markdown",
   "metadata": {},
   "source": [
    "## compute 10 bsolar-3 and average the run time"
   ]
  },
  {
   "cell_type": "code",
   "execution_count": 26,
   "metadata": {},
   "outputs": [
    {
     "name": "stderr",
     "output_type": "stream",
     "text": [
      "100%|██████████| 10/10 [00:01<00:00,  8.32it/s]\n"
     ]
    }
   ],
   "source": [
    "trial.simul_bsolar()"
   ]
  },
  {
   "cell_type": "markdown",
   "metadata": {
    "pycharm": {
     "name": "#%% md\n"
    }
   },
   "source": [
    "---\n",
    "\n",
    "# Bsolar runtime graph for input matrix $X \\in \\mathbf{n \\times p}$, where $n=p$"
   ]
  },
  {
   "cell_type": "code",
   "execution_count": 28,
   "metadata": {},
   "outputs": [],
   "source": [
    "num_rep          = 3\n",
    "n_info           = 5\n",
    "step_size        = -0.02\n",
    "rnd_seed         = 0\n",
    "n_repeat_solar   = 3\n",
    "n_repeat_bsolar  = 3     "
   ]
  },
  {
   "cell_type": "markdown",
   "metadata": {},
   "source": [
    "# feature number = 100"
   ]
  },
  {
   "cell_type": "code",
   "execution_count": 29,
   "metadata": {},
   "outputs": [
    {
     "name": "stderr",
     "output_type": "stream",
     "text": [
      "100%|██████████| 3/3 [00:00<00:00, 12.40it/s]\n"
     ]
    }
   ],
   "source": [
    "n_dim       = 100   \n",
    "sample_size = 100\n",
    "\n",
    "trial = simul_func(sample_size, n_dim, n_info, n_repeat_solar, n_repeat_bsolar, num_rep, step_size, rnd_seed)\n",
    "trial.simul_bsolar_cd()"
   ]
  },
  {
   "cell_type": "markdown",
   "metadata": {
    "tags": []
   },
   "source": [
    "# feature number = 200"
   ]
  },
  {
   "cell_type": "code",
   "execution_count": 31,
   "metadata": {},
   "outputs": [
    {
     "name": "stderr",
     "output_type": "stream",
     "text": [
      "100%|██████████| 3/3 [00:00<00:00,  5.07it/s]\n"
     ]
    }
   ],
   "source": [
    "n_dim       = 200   \n",
    "sample_size = 200\n",
    "\n",
    "trial = simul_func(sample_size, n_dim, n_info, n_repeat_solar, n_repeat_bsolar, num_rep, step_size, rnd_seed)\n",
    "trial.simul_bsolar_cd()"
   ]
  },
  {
   "cell_type": "markdown",
   "metadata": {},
   "source": [
    "# feature number = 400"
   ]
  },
  {
   "cell_type": "code",
   "execution_count": 33,
   "metadata": {},
   "outputs": [
    {
     "name": "stderr",
     "output_type": "stream",
     "text": [
      "100%|██████████| 3/3 [00:02<00:00,  1.48it/s]\n"
     ]
    }
   ],
   "source": [
    "n_dim       = 400   \n",
    "sample_size = 400\n",
    "\n",
    "trial = simul_func(sample_size, n_dim, n_info, n_repeat_solar, n_repeat_bsolar, num_rep, step_size, rnd_seed)\n",
    "trial.simul_bsolar_cd()"
   ]
  },
  {
   "cell_type": "markdown",
   "metadata": {},
   "source": [
    "# feature number = 600"
   ]
  },
  {
   "cell_type": "code",
   "execution_count": 35,
   "metadata": {},
   "outputs": [
    {
     "name": "stderr",
     "output_type": "stream",
     "text": [
      "100%|██████████| 3/3 [00:04<00:00,  1.39s/it]\n"
     ]
    }
   ],
   "source": [
    "n_dim       = 600   \n",
    "sample_size = 600\n",
    "\n",
    "trial = simul_func(sample_size, n_dim, n_info, n_repeat_solar, n_repeat_bsolar, num_rep, step_size, rnd_seed)\n",
    "trial.simul_bsolar_cd()"
   ]
  },
  {
   "cell_type": "markdown",
   "metadata": {},
   "source": [
    "# feature number = 800"
   ]
  },
  {
   "cell_type": "code",
   "execution_count": 37,
   "metadata": {},
   "outputs": [
    {
     "name": "stderr",
     "output_type": "stream",
     "text": [
      "100%|██████████| 3/3 [00:06<00:00,  2.32s/it]\n"
     ]
    }
   ],
   "source": [
    "n_dim       = 800   \n",
    "sample_size = 800\n",
    "\n",
    "trial = simul_func(sample_size, n_dim, n_info, n_repeat_solar, n_repeat_bsolar, num_rep, step_size, rnd_seed)\n",
    "trial.simul_bsolar_cd()"
   ]
  },
  {
   "cell_type": "markdown",
   "metadata": {},
   "source": [
    "# feature number = 1000"
   ]
  },
  {
   "cell_type": "code",
   "execution_count": 39,
   "metadata": {},
   "outputs": [
    {
     "name": "stderr",
     "output_type": "stream",
     "text": [
      "100%|██████████| 3/3 [00:11<00:00,  3.82s/it]\n"
     ]
    }
   ],
   "source": [
    "n_dim       = 1000   \n",
    "sample_size = 1000\n",
    "\n",
    "trial = simul_func(sample_size, n_dim, n_info, n_repeat_solar, n_repeat_bsolar, num_rep, step_size, rnd_seed)\n",
    "trial.simul_bsolar_cd()"
   ]
  },
  {
   "cell_type": "markdown",
   "metadata": {},
   "source": [
    "# feature number = 1200"
   ]
  },
  {
   "cell_type": "code",
   "execution_count": 41,
   "metadata": {},
   "outputs": [
    {
     "name": "stderr",
     "output_type": "stream",
     "text": [
      "100%|██████████| 3/3 [00:18<00:00,  6.22s/it]\n"
     ]
    }
   ],
   "source": [
    "n_dim       = 1200   \n",
    "sample_size = 1200\n",
    "\n",
    "trial = simul_func(sample_size, n_dim, n_info, n_repeat_solar, n_repeat_bsolar, num_rep, step_size, rnd_seed)\n",
    "trial.simul_bsolar_cd()"
   ]
  },
  {
   "cell_type": "markdown",
   "metadata": {},
   "source": [
    "# feature number = 1400"
   ]
  },
  {
   "cell_type": "code",
   "execution_count": 43,
   "metadata": {},
   "outputs": [
    {
     "name": "stderr",
     "output_type": "stream",
     "text": [
      "100%|██████████| 3/3 [00:23<00:00,  7.73s/it]\n"
     ]
    }
   ],
   "source": [
    "n_dim_      = 1400  \n",
    "sample_size = 1400\n",
    "\n",
    "trial = simul_func(sample_size, n_dim, n_info, n_repeat_solar, n_repeat_bsolar, num_rep, step_size, rnd_seed)\n",
    "trial.simul_bsolar_cd()"
   ]
  },
  {
   "cell_type": "markdown",
   "metadata": {},
   "source": [
    "# feature number = 1600"
   ]
  },
  {
   "cell_type": "code",
   "execution_count": 45,
   "metadata": {},
   "outputs": [
    {
     "name": "stderr",
     "output_type": "stream",
     "text": [
      "100%|██████████| 3/3 [00:40<00:00, 13.33s/it]\n"
     ]
    }
   ],
   "source": [
    "n_dim       = 1600  \n",
    "sample_size = 1600\n",
    "\n",
    "trial = simul_func(sample_size, n_dim, n_info, n_repeat_solar, n_repeat_bsolar, num_rep, step_size, rnd_seed)\n",
    "trial.simul_bsolar_cd()"
   ]
  },
  {
   "cell_type": "markdown",
   "metadata": {},
   "source": [
    "---\n",
    "\n",
    "# output the raw results into HTML"
   ]
  },
  {
   "cell_type": "code",
   "execution_count": 1,
   "metadata": {},
   "outputs": [
    {
     "name": "stdout",
     "output_type": "stream",
     "text": [
      "[NbConvertApp] Converting notebook bsolar_runtime.ipynb to html\n",
      "[NbConvertApp] Writing 653006 bytes to bsolar_runtime.html\n"
     ]
    }
   ],
   "source": [
    "!rm -rf bsolar_runtime.html\n",
    "!jupyter nbconvert --to html bsolar_runtime.ipynb"
   ]
  },
  {
   "cell_type": "code",
   "execution_count": null,
   "metadata": {},
   "outputs": [],
   "source": []
  }
 ],
 "metadata": {
  "kernelspec": {
   "display_name": "Python 3 (ipykernel)",
   "language": "python",
   "name": "python3"
  },
  "language_info": {
   "codemirror_mode": {
    "name": "ipython",
    "version": 3
   },
   "file_extension": ".py",
   "mimetype": "text/x-python",
   "name": "python",
   "nbconvert_exporter": "python",
   "pygments_lexer": "ipython3",
   "version": "3.9.12"
  }
 },
 "nbformat": 4,
 "nbformat_minor": 4
}
