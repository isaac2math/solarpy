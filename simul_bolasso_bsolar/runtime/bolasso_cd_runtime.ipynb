{
 "cells": [
  {
   "cell_type": "markdown",
   "metadata": {},
   "source": [
    "<center><h1> Runtime of bolasso (by coordinate descent) under sklearn built-in parallel </h1></center>"
   ]
  },
  {
   "cell_type": "markdown",
   "metadata": {},
   "source": [
    "## #1: import all modules\n",
    "\n",
    "* <font size=\"4\"> \"pickle\" is used to save all computation results into \".p\" files, which can be loaded later. </font>\n",
    "\n",
    "* <font size=\"4\"> For simplicity and elegancy, all relevant functions and classes are coded in \"simul_built_in_parallel.py\". </font>"
   ]
  },
  {
   "cell_type": "code",
   "execution_count": 1,
   "metadata": {},
   "outputs": [],
   "source": [
    "%reset -f\n",
    "\n",
    "from simul_cd_parallel import simul_func\n",
    "\n",
    "import mkl\n",
    "import numpy             as np\n",
    "import matplotlib.pyplot as plt\n",
    "import pickle\n",
    "import os\n",
    "import errno"
   ]
  },
  {
   "cell_type": "markdown",
   "metadata": {},
   "source": [
    "## make sure we use the Intel MKL C++/Fortran compiler for maximum performance."
   ]
  },
  {
   "cell_type": "code",
   "execution_count": 2,
   "metadata": {},
   "outputs": [
    {
     "data": {
      "text/plain": [
       "'Intel(R) oneAPI Math Kernel Library Version 2021.4-Product Build 20210904 for Intel(R) 64 architecture applications'"
      ]
     },
     "execution_count": 2,
     "metadata": {},
     "output_type": "execute_result"
    }
   ],
   "source": [
    "mkl.get_version_string()"
   ]
  },
  {
   "cell_type": "code",
   "execution_count": 3,
   "metadata": {},
   "outputs": [
    {
     "name": "stdout",
     "output_type": "stream",
     "text": [
      "This was obtained using the following MKL configuration:\n",
      "blas_mkl_info:\n",
      "    libraries = ['mkl_rt', 'pthread']\n",
      "    library_dirs = ['/home/ning/anaconda3/lib']\n",
      "    define_macros = [('SCIPY_MKL_H', None), ('HAVE_CBLAS', None)]\n",
      "    include_dirs = ['/home/ning/anaconda3/include']\n",
      "blas_opt_info:\n",
      "    libraries = ['mkl_rt', 'pthread']\n",
      "    library_dirs = ['/home/ning/anaconda3/lib']\n",
      "    define_macros = [('SCIPY_MKL_H', None), ('HAVE_CBLAS', None)]\n",
      "    include_dirs = ['/home/ning/anaconda3/include']\n",
      "lapack_mkl_info:\n",
      "    libraries = ['mkl_rt', 'pthread']\n",
      "    library_dirs = ['/home/ning/anaconda3/lib']\n",
      "    define_macros = [('SCIPY_MKL_H', None), ('HAVE_CBLAS', None)]\n",
      "    include_dirs = ['/home/ning/anaconda3/include']\n",
      "lapack_opt_info:\n",
      "    libraries = ['mkl_rt', 'pthread']\n",
      "    library_dirs = ['/home/ning/anaconda3/lib']\n",
      "    define_macros = [('SCIPY_MKL_H', None), ('HAVE_CBLAS', None)]\n",
      "    include_dirs = ['/home/ning/anaconda3/include']\n",
      "Supported SIMD extensions in this NumPy install:\n",
      "    baseline = SSE,SSE2,SSE3\n",
      "    found = SSSE3,SSE41,POPCNT,SSE42,AVX,F16C,FMA3,AVX2\n",
      "    not found = AVX512F,AVX512CD,AVX512_KNL,AVX512_KNM,AVX512_SKX,AVX512_CNL\n"
     ]
    }
   ],
   "source": [
    "print('This was obtained using the following MKL configuration:')\n",
    "\n",
    "np.show_config()"
   ]
  },
  {
   "cell_type": "markdown",
   "metadata": {},
   "source": [
    "# set simulation parameters"
   ]
  },
  {
   "cell_type": "code",
   "execution_count": 4,
   "metadata": {},
   "outputs": [],
   "source": [
    "n_info    = 5\n",
    "step_size = -0.01\n",
    "num_rep   = 200\n",
    "rnd_seed  = 0\n",
    "\n",
    "n_dim_0 = 400 ; sample_size_0 = 200\n",
    "n_dim_1 = 800 ; sample_size_1 = 400\n",
    "n_dim_2 = 1200; sample_size_2 = 600"
   ]
  },
  {
   "cell_type": "markdown",
   "metadata": {},
   "source": [
    "---\n",
    "\n",
    "## **Read this before replication**\n",
    "\n",
    "## #1. the [\"tqdm progress bar\"](https://github.com/tqdm/tqdm)\n",
    "### After runing all the codes, you should see a progress bar below each simulation function. The progress bars are made by Python package *\"tqdm\"* with negligible overheads (80ns for the graphical output). As a result, it does not affect the accuracy of measuring runtime. \n",
    "\n",
    "## #2. the graphical interface of progress bar\n",
    "\n",
    "### The progress bar looks as follows (such as the one below *trial.simul_bsolar()* ). \n",
    "\n",
    "![the tqdm progress bar](./progress_bar.png)\n",
    "\n",
    "### From left to right, it displays\n",
    "\n",
    "* <font size=\"4.5\"> percentage of finished repetitions </font>\n",
    "* <font size=\"4.5\"> the progress bar </font>\n",
    "* <font size=\"4.5\"> number of finished repetitions &nbsp; $/$ &nbsp; number of total repetitions </font>\n",
    "* <font size=\"4.5\"> $[$ time spent &nbsp;  $<$ &nbsp;  time left to finish all repetitions, &nbsp;  average runtime based on finished repititions $]$ </font>\n",
    "* <font size=\"4.5\"> Note that the average time in either **iteration per second (it/s)** or **second per iteration (s/it)**; take the reciprical of **it/s** to make a clear comparison </font>\n",
    "\n",
    "## #3. the runtime length issue of bolasso\n",
    "\n",
    "### Beware that bolasso computation could take very long time on some CPU\n",
    "\n",
    "---"
   ]
  },
  {
   "cell_type": "markdown",
   "metadata": {
    "pycharm": {
     "name": "#%% md\n"
    }
   },
   "source": [
    "# #3(a) : the runtime for Amdal's law : $p/n = 1000/100$"
   ]
  },
  {
   "cell_type": "code",
   "execution_count": 5,
   "metadata": {},
   "outputs": [
    {
     "name": "stderr",
     "output_type": "stream",
     "text": [
      "100%|██████████| 3/3 [02:28<00:00, 49.61s/it]\n"
     ]
    }
   ],
   "source": [
    "n_dim_00 = 1000 ; sample_size_00 = 100\n",
    "\n",
    "trial = simul_func(sample_size_00, n_dim_00, n_info, 3, step_size, rnd_seed)\n",
    "\n",
    "trial.simul_bolasso()"
   ]
  },
  {
   "cell_type": "markdown",
   "metadata": {},
   "source": [
    "## #4 : $\\log(p)/n \\rightarrow 0$"
   ]
  },
  {
   "cell_type": "code",
   "execution_count": 6,
   "metadata": {},
   "outputs": [],
   "source": [
    "num_rep = 10"
   ]
  },
  {
   "cell_type": "markdown",
   "metadata": {},
   "source": [
    "## #4(a): $p/n=400/200$ "
   ]
  },
  {
   "cell_type": "code",
   "execution_count": 7,
   "metadata": {},
   "outputs": [],
   "source": [
    "trial = simul_func(sample_size_0, n_dim_0, n_info, num_rep, step_size, rnd_seed)"
   ]
  },
  {
   "cell_type": "markdown",
   "metadata": {},
   "source": [
    "### run 10 repetitions for bolasso "
   ]
  },
  {
   "cell_type": "code",
   "execution_count": 8,
   "metadata": {},
   "outputs": [
    {
     "name": "stderr",
     "output_type": "stream",
     "text": [
      "100%|██████████| 10/10 [04:23<00:00, 26.32s/it]\n"
     ]
    }
   ],
   "source": [
    "trial.simul_bolasso()"
   ]
  },
  {
   "cell_type": "markdown",
   "metadata": {},
   "source": [
    "## #4(b): $p/n=800/400$"
   ]
  },
  {
   "cell_type": "code",
   "execution_count": 9,
   "metadata": {},
   "outputs": [],
   "source": [
    "trial = simul_func(sample_size_1, n_dim_1, n_info, num_rep, step_size, rnd_seed)"
   ]
  },
  {
   "cell_type": "markdown",
   "metadata": {},
   "source": [
    "### run 10 repetitions for bolasso "
   ]
  },
  {
   "cell_type": "code",
   "execution_count": 10,
   "metadata": {},
   "outputs": [
    {
     "name": "stderr",
     "output_type": "stream",
     "text": [
      "100%|██████████| 10/10 [15:42<00:00, 94.24s/it]\n"
     ]
    }
   ],
   "source": [
    "trial.simul_bolasso()"
   ]
  },
  {
   "cell_type": "markdown",
   "metadata": {},
   "source": [
    "## #4(c): $p/n=1200/600$"
   ]
  },
  {
   "cell_type": "code",
   "execution_count": 11,
   "metadata": {},
   "outputs": [],
   "source": [
    "trial = simul_func(sample_size_2, n_dim_2, n_info, num_rep, step_size, rnd_seed)"
   ]
  },
  {
   "cell_type": "markdown",
   "metadata": {},
   "source": [
    "### run 10 repetitions for bolasso "
   ]
  },
  {
   "cell_type": "code",
   "execution_count": 12,
   "metadata": {},
   "outputs": [
    {
     "name": "stderr",
     "output_type": "stream",
     "text": [
      "100%|██████████| 10/10 [46:59<00:00, 281.95s/it]\n"
     ]
    }
   ],
   "source": [
    "trial.simul_bolasso()"
   ]
  },
  {
   "cell_type": "markdown",
   "metadata": {},
   "source": [
    "---\n",
    "## #4 : $p/n \\rightarrow 0$"
   ]
  },
  {
   "cell_type": "code",
   "execution_count": 13,
   "metadata": {},
   "outputs": [],
   "source": [
    "n_dim_3 = 100 ; sample_size_3 = 100\n",
    "n_dim_4 = 100 ; sample_size_4 = 150\n",
    "n_dim_5 = 100 ; sample_size_5 = 200"
   ]
  },
  {
   "cell_type": "markdown",
   "metadata": {},
   "source": [
    "## #4(d) : $p/n = 100/100$"
   ]
  },
  {
   "cell_type": "code",
   "execution_count": 14,
   "metadata": {},
   "outputs": [],
   "source": [
    "trial = simul_func(sample_size_3, n_dim_3, n_info, num_rep, step_size, rnd_seed)"
   ]
  },
  {
   "cell_type": "markdown",
   "metadata": {},
   "source": [
    "### run 10 repetitions for bolasso "
   ]
  },
  {
   "cell_type": "code",
   "execution_count": 15,
   "metadata": {},
   "outputs": [
    {
     "name": "stderr",
     "output_type": "stream",
     "text": [
      "100%|██████████| 10/10 [02:15<00:00, 13.55s/it]\n"
     ]
    }
   ],
   "source": [
    "trial.simul_bolasso()"
   ]
  },
  {
   "cell_type": "markdown",
   "metadata": {},
   "source": [
    "## #4(d): $p/n = 100/150$"
   ]
  },
  {
   "cell_type": "code",
   "execution_count": 16,
   "metadata": {},
   "outputs": [],
   "source": [
    "trial = simul_func(sample_size_4, n_dim_4, n_info, num_rep, step_size, rnd_seed)"
   ]
  },
  {
   "cell_type": "markdown",
   "metadata": {},
   "source": [
    "### run 10 repetitions for bolasso "
   ]
  },
  {
   "cell_type": "code",
   "execution_count": 17,
   "metadata": {},
   "outputs": [
    {
     "name": "stderr",
     "output_type": "stream",
     "text": [
      "100%|██████████| 10/10 [10:31<00:00, 63.11s/it]\n"
     ]
    }
   ],
   "source": [
    "trial.simul_bolasso()"
   ]
  },
  {
   "cell_type": "markdown",
   "metadata": {},
   "source": [
    "## #4(e): $p/n=100/200$"
   ]
  },
  {
   "cell_type": "code",
   "execution_count": 18,
   "metadata": {},
   "outputs": [],
   "source": [
    "trial = simul_func(sample_size_5, n_dim_5, n_info, num_rep, step_size, rnd_seed)"
   ]
  },
  {
   "cell_type": "markdown",
   "metadata": {},
   "source": [
    "### run 10 repetitions for bolasso "
   ]
  },
  {
   "cell_type": "code",
   "execution_count": 19,
   "metadata": {},
   "outputs": [
    {
     "name": "stderr",
     "output_type": "stream",
     "text": [
      "100%|██████████| 10/10 [10:30<00:00, 63.06s/it]\n"
     ]
    }
   ],
   "source": [
    "trial.simul_bolasso()"
   ]
  },
  {
   "cell_type": "markdown",
   "metadata": {},
   "source": [
    "---\n",
    "## #4 : $p/n \\rightarrow 1$"
   ]
  },
  {
   "cell_type": "code",
   "execution_count": 20,
   "metadata": {},
   "outputs": [],
   "source": [
    "n_dim_6 = 150 ; sample_size_6 = 100\n",
    "n_dim_7 = 200 ; sample_size_7 = 150\n",
    "n_dim_8 = 250 ; sample_size_8 = 200"
   ]
  },
  {
   "cell_type": "markdown",
   "metadata": {},
   "source": [
    "## #4(f): $p/n=150/100$"
   ]
  },
  {
   "cell_type": "code",
   "execution_count": 21,
   "metadata": {},
   "outputs": [],
   "source": [
    "trial = simul_func(sample_size_6, n_dim_6, n_info, num_rep, step_size, rnd_seed)"
   ]
  },
  {
   "cell_type": "markdown",
   "metadata": {},
   "source": [
    "### run 10 repetitions for bolasso "
   ]
  },
  {
   "cell_type": "code",
   "execution_count": 22,
   "metadata": {},
   "outputs": [
    {
     "name": "stderr",
     "output_type": "stream",
     "text": [
      "100%|██████████| 10/10 [02:13<00:00, 13.39s/it]\n"
     ]
    }
   ],
   "source": [
    "trial.simul_bolasso()"
   ]
  },
  {
   "cell_type": "markdown",
   "metadata": {},
   "source": [
    "## #4(g): $p/n=200/150$"
   ]
  },
  {
   "cell_type": "code",
   "execution_count": 23,
   "metadata": {},
   "outputs": [],
   "source": [
    "trial = simul_func(sample_size_7, n_dim_7, n_info, num_rep, step_size, rnd_seed)"
   ]
  },
  {
   "cell_type": "markdown",
   "metadata": {},
   "source": [
    "### run 10 repetitions for bolasso "
   ]
  },
  {
   "cell_type": "code",
   "execution_count": 24,
   "metadata": {},
   "outputs": [
    {
     "name": "stderr",
     "output_type": "stream",
     "text": [
      "100%|██████████| 10/10 [02:40<00:00, 16.05s/it]\n"
     ]
    }
   ],
   "source": [
    "trial.simul_bolasso()"
   ]
  },
  {
   "cell_type": "markdown",
   "metadata": {},
   "source": [
    "## #4(h): $p/n=250/200$"
   ]
  },
  {
   "cell_type": "code",
   "execution_count": 25,
   "metadata": {},
   "outputs": [],
   "source": [
    "trial = simul_func(sample_size_8, n_dim_8, n_info, num_rep, step_size, rnd_seed)"
   ]
  },
  {
   "cell_type": "markdown",
   "metadata": {},
   "source": [
    "### run 10 repetitions for bolasso "
   ]
  },
  {
   "cell_type": "code",
   "execution_count": 26,
   "metadata": {},
   "outputs": [
    {
     "name": "stderr",
     "output_type": "stream",
     "text": [
      "100%|██████████| 10/10 [03:10<00:00, 19.01s/it]\n"
     ]
    }
   ],
   "source": [
    "trial.simul_bolasso()"
   ]
  },
  {
   "cell_type": "markdown",
   "metadata": {},
   "source": [
    "---\n",
    "\n",
    "## #5. runtime graph plot"
   ]
  },
  {
   "cell_type": "code",
   "execution_count": 5,
   "metadata": {},
   "outputs": [],
   "source": [
    "num_rep          = 3\n",
    "n_info           = 5\n",
    "step_size        = -0.02\n",
    "rnd_seed         = 0\n",
    "n_repeat_solar   = 10    \n",
    "n_repeat_bsolar  = 3     "
   ]
  },
  {
   "cell_type": "markdown",
   "metadata": {},
   "source": [
    "# feature number = 100"
   ]
  },
  {
   "cell_type": "code",
   "execution_count": 6,
   "metadata": {},
   "outputs": [
    {
     "name": "stderr",
     "output_type": "stream",
     "text": [
      "100%|████████████████████████████████████████████████████████████████████████████████| 3/3 [00:41<00:00, 13.84s/it]\n"
     ]
    }
   ],
   "source": [
    "n_dim       = 100   \n",
    "sample_size = 100\n",
    "\n",
    "trial = simul_func(sample_size, n_dim, n_info, num_rep, step_size, rnd_seed)\n",
    "trial.simul_bolasso()"
   ]
  },
  {
   "cell_type": "markdown",
   "metadata": {
    "tags": []
   },
   "source": [
    "# feature number = 200"
   ]
  },
  {
   "cell_type": "code",
   "execution_count": 7,
   "metadata": {},
   "outputs": [
    {
     "name": "stderr",
     "output_type": "stream",
     "text": [
      "100%|████████████████████████████████████████████████████████████████████████████████| 3/3 [00:54<00:00, 18.14s/it]\n"
     ]
    }
   ],
   "source": [
    "n_dim       = 200   \n",
    "sample_size = 200\n",
    "\n",
    "trial = simul_func(sample_size, n_dim, n_info, num_rep, step_size, rnd_seed)\n",
    "trial.simul_bolasso()"
   ]
  },
  {
   "cell_type": "markdown",
   "metadata": {},
   "source": [
    "# feature number = 400"
   ]
  },
  {
   "cell_type": "code",
   "execution_count": 8,
   "metadata": {},
   "outputs": [
    {
     "name": "stderr",
     "output_type": "stream",
     "text": [
      "100%|████████████████████████████████████████████████████████████████████████████████| 3/3 [02:18<00:00, 46.10s/it]\n"
     ]
    }
   ],
   "source": [
    "n_dim       = 400   \n",
    "sample_size = 400\n",
    "\n",
    "trial = simul_func(sample_size, n_dim, n_info, num_rep, step_size, rnd_seed)\n",
    "trial.simul_bolasso()"
   ]
  },
  {
   "cell_type": "markdown",
   "metadata": {},
   "source": [
    "# feature number = 600"
   ]
  },
  {
   "cell_type": "code",
   "execution_count": 9,
   "metadata": {},
   "outputs": [
    {
     "name": "stderr",
     "output_type": "stream",
     "text": [
      "100%|███████████████████████████████████████████████████████████████████████████████| 3/3 [06:32<00:00, 130.67s/it]\n"
     ]
    }
   ],
   "source": [
    "n_dim       = 600   \n",
    "sample_size = 600\n",
    "\n",
    "trial = simul_func(sample_size, n_dim, n_info, num_rep, step_size, rnd_seed)\n",
    "trial.simul_bolasso()"
   ]
  },
  {
   "cell_type": "markdown",
   "metadata": {},
   "source": [
    "# feature number = 800"
   ]
  },
  {
   "cell_type": "code",
   "execution_count": 10,
   "metadata": {},
   "outputs": [
    {
     "name": "stderr",
     "output_type": "stream",
     "text": [
      "100%|███████████████████████████████████████████████████████████████████████████████████████████████████████████████████████| 3/3 [13:15<00:00, 265.29s/it]\n"
     ]
    }
   ],
   "source": [
    "n_dim       = 800   \n",
    "sample_size = 800\n",
    "\n",
    "trial = simul_func(sample_size, n_dim, n_info, num_rep, step_size, rnd_seed)\n",
    "trial.simul_bolasso()"
   ]
  },
  {
   "cell_type": "markdown",
   "metadata": {},
   "source": [
    "# feature number = 1000"
   ]
  },
  {
   "cell_type": "code",
   "execution_count": 11,
   "metadata": {},
   "outputs": [
    {
     "name": "stderr",
     "output_type": "stream",
     "text": [
      "100%|███████████████████████████████████████████████████████████████████████████████████████████████████████████████████████| 3/3 [22:57<00:00, 459.31s/it]\n"
     ]
    }
   ],
   "source": [
    "n_dim       = 1000   \n",
    "sample_size = 1000\n",
    "\n",
    "trial = simul_func(sample_size, n_dim, n_info, num_rep, step_size, rnd_seed)\n",
    "trial.simul_bolasso()"
   ]
  },
  {
   "cell_type": "markdown",
   "metadata": {},
   "source": [
    "# feature number = 1200"
   ]
  },
  {
   "cell_type": "code",
   "execution_count": 12,
   "metadata": {},
   "outputs": [
    {
     "name": "stderr",
     "output_type": "stream",
     "text": [
      "100%|███████████████████████████████████████████████████████████████████████████████████████████████████████████████████████| 3/3 [46:58<00:00, 939.53s/it]\n"
     ]
    }
   ],
   "source": [
    "n_dim       = 1200   \n",
    "sample_size = 1200\n",
    "\n",
    "trial = simul_func(sample_size, n_dim, n_info, num_rep, step_size, rnd_seed)\n",
    "trial.simul_bolasso()"
   ]
  },
  {
   "cell_type": "markdown",
   "metadata": {},
   "source": [
    "# feature number = 1400"
   ]
  },
  {
   "cell_type": "code",
   "execution_count": 13,
   "metadata": {},
   "outputs": [
    {
     "name": "stderr",
     "output_type": "stream",
     "text": [
      "100%|████████████████████████████████████████████████████████████████████████████████████████████████████████████████████| 3/3 [1:27:38<00:00, 1752.76s/it]\n"
     ]
    }
   ],
   "source": [
    "n_dim       = 1400   \n",
    "sample_size = 1400\n",
    "\n",
    "trial = simul_func(sample_size, n_dim, n_info, num_rep, step_size, rnd_seed)\n",
    "trial.simul_bolasso()"
   ]
  },
  {
   "cell_type": "markdown",
   "metadata": {},
   "source": [
    "# feature number = 1600"
   ]
  },
  {
   "cell_type": "code",
   "execution_count": 14,
   "metadata": {},
   "outputs": [
    {
     "name": "stderr",
     "output_type": "stream",
     "text": [
      "100%|████████████████████████████████████████████████████████████████████████████████████████████████████████████████████| 3/3 [2:24:09<00:00, 2883.30s/it]\n"
     ]
    }
   ],
   "source": [
    "n_dim       = 1600   \n",
    "sample_size = 1600\n",
    "\n",
    "trial = simul_func(sample_size, n_dim, n_info, num_rep, step_size, rnd_seed)\n",
    "trial.simul_bolasso()"
   ]
  },
  {
   "cell_type": "markdown",
   "metadata": {
    "tags": []
   },
   "source": [
    "---\n",
    "\n",
    "## #6. output the raw results into HTML"
   ]
  },
  {
   "cell_type": "code",
   "execution_count": 3,
   "metadata": {},
   "outputs": [
    {
     "name": "stdout",
     "output_type": "stream",
     "text": [
      "[NbConvertApp] Converting notebook bolasso_cd_runtime.ipynb to html\n",
      "[NbConvertApp] Writing 645603 bytes to bolasso_cd_runtime.html\n"
     ]
    }
   ],
   "source": [
    "!rm -rf bolasso_cd_runtime.html\n",
    "!jupyter nbconvert --to html bolasso_cd_runtime.ipynb "
   ]
  },
  {
   "cell_type": "code",
   "execution_count": null,
   "metadata": {},
   "outputs": [],
   "source": []
  }
 ],
 "metadata": {
  "kernelspec": {
   "display_name": "Python 3 (ipykernel)",
   "language": "python",
   "name": "python3"
  },
  "language_info": {
   "codemirror_mode": {
    "name": "ipython",
    "version": 3
   },
   "file_extension": ".py",
   "mimetype": "text/x-python",
   "name": "python",
   "nbconvert_exporter": "python",
   "pygments_lexer": "ipython3",
   "version": "3.9.12"
  }
 },
 "nbformat": 4,
 "nbformat_minor": 4
}
