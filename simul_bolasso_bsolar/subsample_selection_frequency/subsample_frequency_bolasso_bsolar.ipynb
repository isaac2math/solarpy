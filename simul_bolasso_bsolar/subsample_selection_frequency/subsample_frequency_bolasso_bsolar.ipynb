{
 "cells": [
  {
   "cell_type": "markdown",
   "metadata": {},
   "source": [
    "<center><h1> bsolar vs bolasso : the subsample selection frequency </h1></center>\n",
    "\n",
    "## this ipynb file illustrates the comparison of subsample selection frequency between bsolar and bolasso </font> "
   ]
  },
  {
   "cell_type": "markdown",
   "metadata": {},
   "source": [
    "---\n",
    "\n",
    "## Check the following before running the code\n",
    "\n",
    "### (a) Read \"README.pdf\" in this folder first, which introduces the package\n",
    "\n",
    "### (b) Before replication, delete all .p files in the \"./numerical_result\" folder. The .p files record the numerical results of the our computation.\n",
    "\n",
    "### (c) To avoid confusion, reset your kernel before you running the notebook (to clear memory): \n",
    "* <font size=\"4.5\"> In Jupyter Notebook/Lab : go to Menu \"Kernel\" $\\rightarrow$ \"Restart Kernel and clear all outputs\". </font> \n",
    "\n",
    "### (d) To evaluate the code for simulation replication in Jupyter Notebook/Lab,\n",
    "* <font size=\"4.5\"> click : Menu \"Kernel\" $\\rightarrow$ \"Restart Kernel and Run All Cells\" </font>\n",
    "* <font size=\"4.5\"> or, select a cell of code, press \"shift\" and \"enter\". Run all cells to avoid errors </font>\n",
    "\n",
    "### (e) Check \"joblib\", \"scikit-learn\", \"numpy\", \"matplotlib\" and \"tqdm\" are installed. If not,\n",
    "* <font size=\"4.5\"> we highly recommend installing Anaconda3 version 2020-11 directly to avoid package management (all packages mentioned above are installed by default).</font>\n",
    "\n",
    "---"
   ]
  },
  {
   "cell_type": "markdown",
   "metadata": {},
   "source": [
    "## #1: import all modules\n",
    "\n",
    "* <font size=\"4.5\"> For simplicity and elegancy, all relevant functions and classes are coded in \"bootstrap_demo_parallel.py\". </font>"
   ]
  },
  {
   "cell_type": "code",
   "execution_count": 1,
   "metadata": {},
   "outputs": [],
   "source": [
    "%reset -f\n",
    "\n",
    "import numpy                as np\n",
    "import matplotlib.pyplot    as plt\n",
    "import pickle\n",
    "import os\n",
    "import errno\n",
    "import warnings\n",
    "\n",
    "from bootstrap_demo_parallel import one_shot_simul\n",
    "\n",
    "warnings.simplefilter(action='ignore', category=FutureWarning)"
   ]
  },
  {
   "cell_type": "markdown",
   "metadata": {},
   "source": [
    "## make sure we use the Intel MKL C++/Fortran compiler for maximum performance."
   ]
  },
  {
   "cell_type": "code",
   "execution_count": 2,
   "metadata": {},
   "outputs": [
    {
     "data": {
      "text/plain": [
       "'Intel(R) oneAPI Math Kernel Library Version 2021.4-Product Build 20210904 for Intel(R) 64 architecture applications'"
      ]
     },
     "execution_count": 2,
     "metadata": {},
     "output_type": "execute_result"
    }
   ],
   "source": [
    "import mkl\n",
    "\n",
    "mkl.get_version_string()"
   ]
  },
  {
   "cell_type": "code",
   "execution_count": 3,
   "metadata": {},
   "outputs": [
    {
     "name": "stdout",
     "output_type": "stream",
     "text": [
      "The results in this file are obtained using the following mkl configuration:\n",
      "blas_mkl_info:\n",
      "    libraries = ['mkl_rt', 'pthread']\n",
      "    library_dirs = ['/Users/ning/anaconda3/lib']\n",
      "    define_macros = [('SCIPY_MKL_H', None), ('HAVE_CBLAS', None)]\n",
      "    include_dirs = ['/Users/ning/anaconda3/include']\n",
      "blas_opt_info:\n",
      "    libraries = ['mkl_rt', 'pthread']\n",
      "    library_dirs = ['/Users/ning/anaconda3/lib']\n",
      "    define_macros = [('SCIPY_MKL_H', None), ('HAVE_CBLAS', None)]\n",
      "    include_dirs = ['/Users/ning/anaconda3/include']\n",
      "lapack_mkl_info:\n",
      "    libraries = ['mkl_rt', 'pthread']\n",
      "    library_dirs = ['/Users/ning/anaconda3/lib']\n",
      "    define_macros = [('SCIPY_MKL_H', None), ('HAVE_CBLAS', None)]\n",
      "    include_dirs = ['/Users/ning/anaconda3/include']\n",
      "lapack_opt_info:\n",
      "    libraries = ['mkl_rt', 'pthread']\n",
      "    library_dirs = ['/Users/ning/anaconda3/lib']\n",
      "    define_macros = [('SCIPY_MKL_H', None), ('HAVE_CBLAS', None)]\n",
      "    include_dirs = ['/Users/ning/anaconda3/include']\n",
      "Supported SIMD extensions in this NumPy install:\n",
      "    baseline = SSE,SSE2,SSE3\n",
      "    found = SSSE3,SSE41,POPCNT,SSE42,AVX,F16C,FMA3,AVX2\n",
      "    not found = AVX512F,AVX512CD,AVX512_KNL,AVX512_SKX,AVX512_CLX,AVX512_CNL,AVX512_ICL\n"
     ]
    }
   ],
   "source": [
    "print('The results in this file are obtained using the following mkl configuration:')\n",
    "\n",
    "np.show_config()"
   ]
  },
  {
   "cell_type": "markdown",
   "metadata": {},
   "source": [
    "---\n",
    "\n",
    "## #2(a): define inputs values\n",
    "\n",
    "| <font size=\"4.5\"> variable name </font> | <font size=\"4.5\">  meaning </font> |\n",
    "|-|-|\n",
    "| <font size=\"4.5\">  sample_size  </font> | <font size=\"4.5\">  the sample size $n$ in the paper; </font>| \n",
    "| <font size=\"4.5\">  n_dim        </font> | <font size=\"4.5\">  the number of variables (informative + redundant) in $X$, $p$ in the paper; </font>| \n",
    "| <font size=\"4.5\">  n_info       </font> | <font size=\"4.5\">  the number of informative variables in $X$; </font>| \n",
    "| <font size=\"4.5\">  n_repeat_solar </font> | <font size=\"4.5\">  the number of subsamples generated by solar; </font>| \n",
    "| <font size=\"4.5\">  n_repeat_bsolar </font> | <font size=\"4.5\">  the number of subsamples generated by bsolar; </font>| \n",
    "| <font size=\"4.5\">  num_rep      </font> | <font size=\"4.5\">  the total repetition number of this simulation; </font>|\n",
    "| <font size=\"4.5\">  step_size    </font> | <font size=\"4.5\">  the step size for tuning $c$; </font>| \n",
    "| <font size=\"4.5\">  rnd_seed     </font> | <font size=\"4.5\">  the random seed value; </font>| \n",
    "\n",
    "## #2(b): define DGP\n",
    "\n",
    "* <font size=\"4.5\"> the population regression equation is $$Y = 2\\cdot \\mathbf{x}_0 + 3\\cdot \\mathbf{x}_1 + 4\\cdot \\mathbf{x}_2 + 5\\cdot \\mathbf{x}_3 + 6\\cdot \\mathbf{x}_4  + u,$$ \n",
    "* <font size=\"4.5\"> To change the simulation settings, simply change the input values. If you change *n_info* you will adjust the DGP as follows: </font>\n",
    "    * <font size=\"4.5\"> If $i > \\mbox{n_info} - 1$ and $i \\in \\left[ 0, 1, 2, \\ldots, p-1 \\right]$, $\\beta_i = 0$ in population;</font>\n",
    "    * <font size=\"4.5\"> If $i \\leqslant \\mbox{n_info} - 1$ and $i \\in \\left[ 0, 1, 2, \\ldots, p-1 \\right]$, $\\beta_i = i + 2$ in population</font>"
   ]
  },
  {
   "cell_type": "code",
   "execution_count": 4,
   "metadata": {},
   "outputs": [],
   "source": [
    "sample_size     = 200\n",
    "n_dim           = 100\n",
    "n_info          = 5\n",
    "n_repeat_solar  = 10\n",
    "n_repeat_bsolar = 10\n",
    "step_size       = -0.02\n",
    "rnd_seed        = 0\n",
    "plot_on         = False"
   ]
  },
  {
   "cell_type": "markdown",
   "metadata": {},
   "source": [
    "---\n",
    "\n",
    "## #3: compute bsolar and bolasso\n",
    "\n",
    "### Numpy, sklearn and python are actively updated. If you use different version, replication results may be slightly different from the paper (see Read_me_first.docx for detail)."
   ]
  },
  {
   "cell_type": "markdown",
   "metadata": {},
   "source": [
    "### first, we call the class for simulation from \"solar_simul_one_shot.py\""
   ]
  },
  {
   "cell_type": "code",
   "execution_count": 5,
   "metadata": {},
   "outputs": [],
   "source": [
    "#control the random seed for reproduction\n",
    "np.random.seed(rnd_seed)\n",
    "\n",
    "trial = one_shot_simul(sample_size, n_dim, n_info, n_repeat_solar, n_repeat_bsolar, step_size, rnd_seed, plot_on)"
   ]
  },
  {
   "cell_type": "markdown",
   "metadata": {},
   "source": [
    " * <font size=\"5\">  if you only want to see our raw result, set *repro=False* </font> \n",
    " * <font size=\"5\">  for replication, set *repro=True* </font> "
   ]
  },
  {
   "cell_type": "code",
   "execution_count": 6,
   "metadata": {},
   "outputs": [],
   "source": [
    "repro = True"
   ]
  },
  {
   "cell_type": "markdown",
   "metadata": {},
   "source": [
    "### then we compute bsolar on the simulated data and return the result"
   ]
  },
  {
   "cell_type": "code",
   "execution_count": 7,
   "metadata": {},
   "outputs": [],
   "source": [
    "pkl_file = \"./numerical_result/bsolar_demo.p\"\n",
    "\n",
    "if repro == True:\n",
    "    #compute everything\n",
    "    Qc_list_bsolar, Qc_list_bolasso = trial.simul_func()\n",
    "\n",
    "    #save all the computation result into \"solar_graph_n_(sample size).p\" files\n",
    "    #create the subdirectory if not existing\n",
    "    if not os.path.exists(os.path.dirname(pkl_file)):\n",
    "        try:\n",
    "            os.makedirs(os.path.dirname(pkl_file))\n",
    "        # Guard against race condition\n",
    "        except OSError as exc: \n",
    "            if exc.errno != errno.EEXIST:\n",
    "                raise\n",
    "\n",
    "    with open(pkl_file, \"wb\") as f:\n",
    "        pickle.dump( Qc_list_bsolar , f)\n",
    "        pickle.dump( Qc_list_bolasso, f)\n",
    "\n",
    "else:    \n",
    "    #load everything from pickle if you don't want to recompute everything\n",
    "    with open(pkl_file, \"rb\") as f:\n",
    "        Qc_list_bsolar  = pickle.load( f )\n",
    "        Qc_list_bolasso = pickle.load( f )"
   ]
  },
  {
   "cell_type": "markdown",
   "metadata": {},
   "source": [
    "---\n",
    "\n",
    "## #4: plots and results of the simulation"
   ]
  },
  {
   "cell_type": "markdown",
   "metadata": {},
   "source": [
    "### step 1: we plot the subsample selection frequency list of bsolar"
   ]
  },
  {
   "cell_type": "code",
   "execution_count": 8,
   "metadata": {},
   "outputs": [
    {
     "name": "stdout",
     "output_type": "stream",
     "text": [
      "selection frequency >=  1.0\n",
      "[['X4', 'X3', 'X2', 'X1', 'X0']]\n",
      "selection frequency >=  0.1111111111111111\n",
      "[['X4', 'X3', 'X2', 'X1', 'X0'], ['X91', 'X71']]\n"
     ]
    }
   ],
   "source": [
    "trial.q_list_bsolar(Qc_list_bsolar)"
   ]
  },
  {
   "cell_type": "markdown",
   "metadata": {},
   "source": [
    "### step 2 : we the subsample selection frequency list of bolasso (repeating lasso 256 times)"
   ]
  },
  {
   "cell_type": "code",
   "execution_count": 9,
   "metadata": {},
   "outputs": [
    {
     "name": "stdout",
     "output_type": "stream",
     "text": [
      "selection frequency >=  1.0\n",
      "[['X4', 'X3', 'X2', 'X1', 'X0']]\n",
      "selection frequency >=  0.89\n",
      "[['X4', 'X3', 'X2', 'X1', 'X0'], ['X28']]\n",
      "selection frequency >=  0.85\n",
      "[['X4', 'X3', 'X2', 'X1', 'X0'], ['X28'], ['X71']]\n",
      "selection frequency >=  0.76\n",
      "[['X4', 'X3', 'X2', 'X1', 'X0'], ['X28'], ['X71'], ['X91']]\n",
      "selection frequency >=  0.72\n",
      "[['X4', 'X3', 'X2', 'X1', 'X0'], ['X28'], ['X71'], ['X91'], ['X70']]\n",
      "selection frequency >=  0.7\n",
      "[['X4', 'X3', 'X2', 'X1', 'X0'], ['X28'], ['X71'], ['X91'], ['X70'], ['X94', 'X40']]\n",
      "selection frequency >=  0.67\n",
      "[['X4', 'X3', 'X2', 'X1', 'X0'], ['X28'], ['X71'], ['X91'], ['X70'], ['X94', 'X40'], ['X90']]\n",
      "selection frequency >=  0.58\n",
      "[['X4', 'X3', 'X2', 'X1', 'X0'], ['X28'], ['X71'], ['X91'], ['X70'], ['X94', 'X40'], ['X90'], ['X58', 'X17']]\n",
      "selection frequency >=  0.56\n",
      "[['X4', 'X3', 'X2', 'X1', 'X0'], ['X28'], ['X71'], ['X91'], ['X70'], ['X94', 'X40'], ['X90'], ['X58', 'X17'], ['X87', 'X36']]\n",
      "selection frequency >=  0.55\n",
      "[['X4', 'X3', 'X2', 'X1', 'X0'], ['X28'], ['X71'], ['X91'], ['X70'], ['X94', 'X40'], ['X90'], ['X58', 'X17'], ['X87', 'X36'], ['X44', 'X34']]\n",
      "selection frequency >=  0.53\n",
      "[['X4', 'X3', 'X2', 'X1', 'X0'], ['X28'], ['X71'], ['X91'], ['X70'], ['X94', 'X40'], ['X90'], ['X58', 'X17'], ['X87', 'X36'], ['X44', 'X34'], ['X6']]\n",
      "selection frequency >=  0.52\n",
      "[['X4', 'X3', 'X2', 'X1', 'X0'], ['X28'], ['X71'], ['X91'], ['X70'], ['X94', 'X40'], ['X90'], ['X58', 'X17'], ['X87', 'X36'], ['X44', 'X34'], ['X6'], ['X20']]\n",
      "selection frequency >=  0.5\n",
      "[['X4', 'X3', 'X2', 'X1', 'X0'], ['X28'], ['X71'], ['X91'], ['X70'], ['X94', 'X40'], ['X90'], ['X58', 'X17'], ['X87', 'X36'], ['X44', 'X34'], ['X6'], ['X20'], ['X74', 'X60']]\n",
      "selection frequency >=  0.49\n",
      "[['X4', 'X3', 'X2', 'X1', 'X0'], ['X28'], ['X71'], ['X91'], ['X70'], ['X94', 'X40'], ['X90'], ['X58', 'X17'], ['X87', 'X36'], ['X44', 'X34'], ['X6'], ['X20'], ['X74', 'X60'], ['X52']]\n",
      "selection frequency >=  0.48\n",
      "[['X4', 'X3', 'X2', 'X1', 'X0'], ['X28'], ['X71'], ['X91'], ['X70'], ['X94', 'X40'], ['X90'], ['X58', 'X17'], ['X87', 'X36'], ['X44', 'X34'], ['X6'], ['X20'], ['X74', 'X60'], ['X52'], ['X99', 'X31']]\n",
      "selection frequency >=  0.45999999999999996\n",
      "[['X4', 'X3', 'X2', 'X1', 'X0'], ['X28'], ['X71'], ['X91'], ['X70'], ['X94', 'X40'], ['X90'], ['X58', 'X17'], ['X87', 'X36'], ['X44', 'X34'], ['X6'], ['X20'], ['X74', 'X60'], ['X52'], ['X99', 'X31'], ['X66', 'X19', 'X14']]\n",
      "selection frequency >=  0.45000000000000007\n",
      "[['X4', 'X3', 'X2', 'X1', 'X0'], ['X28'], ['X71'], ['X91'], ['X70'], ['X94', 'X40'], ['X90'], ['X58', 'X17'], ['X87', 'X36'], ['X44', 'X34'], ['X6'], ['X20'], ['X74', 'X60'], ['X52'], ['X99', 'X31'], ['X66', 'X19', 'X14'], ['X68']]\n",
      "selection frequency >=  0.44000000000000006\n",
      "[['X4', 'X3', 'X2', 'X1', 'X0'], ['X28'], ['X71'], ['X91'], ['X70'], ['X94', 'X40'], ['X90'], ['X58', 'X17'], ['X87', 'X36'], ['X44', 'X34'], ['X6'], ['X20'], ['X74', 'X60'], ['X52'], ['X99', 'X31'], ['X66', 'X19', 'X14'], ['X68'], ['X96', 'X65', 'X42']]\n",
      "selection frequency >=  0.42000000000000004\n",
      "[['X4', 'X3', 'X2', 'X1', 'X0'], ['X28'], ['X71'], ['X91'], ['X70'], ['X94', 'X40'], ['X90'], ['X58', 'X17'], ['X87', 'X36'], ['X44', 'X34'], ['X6'], ['X20'], ['X74', 'X60'], ['X52'], ['X99', 'X31'], ['X66', 'X19', 'X14'], ['X68'], ['X96', 'X65', 'X42'], ['X83']]\n",
      "selection frequency >=  0.41000000000000003\n",
      "[['X4', 'X3', 'X2', 'X1', 'X0'], ['X28'], ['X71'], ['X91'], ['X70'], ['X94', 'X40'], ['X90'], ['X58', 'X17'], ['X87', 'X36'], ['X44', 'X34'], ['X6'], ['X20'], ['X74', 'X60'], ['X52'], ['X99', 'X31'], ['X66', 'X19', 'X14'], ['X68'], ['X96', 'X65', 'X42'], ['X83'], ['X80', 'X78', 'X77', 'X39']]\n",
      "selection frequency >=  0.4\n",
      "[['X4', 'X3', 'X2', 'X1', 'X0'], ['X28'], ['X71'], ['X91'], ['X70'], ['X94', 'X40'], ['X90'], ['X58', 'X17'], ['X87', 'X36'], ['X44', 'X34'], ['X6'], ['X20'], ['X74', 'X60'], ['X52'], ['X99', 'X31'], ['X66', 'X19', 'X14'], ['X68'], ['X96', 'X65', 'X42'], ['X83'], ['X80', 'X78', 'X77', 'X39'], ['X75', 'X38', 'X29']]\n",
      "selection frequency >=  0.39\n",
      "[['X4', 'X3', 'X2', 'X1', 'X0'], ['X28'], ['X71'], ['X91'], ['X70'], ['X94', 'X40'], ['X90'], ['X58', 'X17'], ['X87', 'X36'], ['X44', 'X34'], ['X6'], ['X20'], ['X74', 'X60'], ['X52'], ['X99', 'X31'], ['X66', 'X19', 'X14'], ['X68'], ['X96', 'X65', 'X42'], ['X83'], ['X80', 'X78', 'X77', 'X39'], ['X75', 'X38', 'X29'], ['X86', 'X59', 'X51', 'X23']]\n",
      "selection frequency >=  0.38\n",
      "[['X4', 'X3', 'X2', 'X1', 'X0'], ['X28'], ['X71'], ['X91'], ['X70'], ['X94', 'X40'], ['X90'], ['X58', 'X17'], ['X87', 'X36'], ['X44', 'X34'], ['X6'], ['X20'], ['X74', 'X60'], ['X52'], ['X99', 'X31'], ['X66', 'X19', 'X14'], ['X68'], ['X96', 'X65', 'X42'], ['X83'], ['X80', 'X78', 'X77', 'X39'], ['X75', 'X38', 'X29'], ['X86', 'X59', 'X51', 'X23'], ['X15']]\n",
      "selection frequency >=  0.37\n",
      "[['X4', 'X3', 'X2', 'X1', 'X0'], ['X28'], ['X71'], ['X91'], ['X70'], ['X94', 'X40'], ['X90'], ['X58', 'X17'], ['X87', 'X36'], ['X44', 'X34'], ['X6'], ['X20'], ['X74', 'X60'], ['X52'], ['X99', 'X31'], ['X66', 'X19', 'X14'], ['X68'], ['X96', 'X65', 'X42'], ['X83'], ['X80', 'X78', 'X77', 'X39'], ['X75', 'X38', 'X29'], ['X86', 'X59', 'X51', 'X23'], ['X15'], ['X54', 'X53', 'X45']]\n",
      "selection frequency >=  0.36\n",
      "[['X4', 'X3', 'X2', 'X1', 'X0'], ['X28'], ['X71'], ['X91'], ['X70'], ['X94', 'X40'], ['X90'], ['X58', 'X17'], ['X87', 'X36'], ['X44', 'X34'], ['X6'], ['X20'], ['X74', 'X60'], ['X52'], ['X99', 'X31'], ['X66', 'X19', 'X14'], ['X68'], ['X96', 'X65', 'X42'], ['X83'], ['X80', 'X78', 'X77', 'X39'], ['X75', 'X38', 'X29'], ['X86', 'X59', 'X51', 'X23'], ['X15'], ['X54', 'X53', 'X45'], ['X84', 'X41', 'X18']]\n",
      "selection frequency >=  0.35\n",
      "[['X4', 'X3', 'X2', 'X1', 'X0'], ['X28'], ['X71'], ['X91'], ['X70'], ['X94', 'X40'], ['X90'], ['X58', 'X17'], ['X87', 'X36'], ['X44', 'X34'], ['X6'], ['X20'], ['X74', 'X60'], ['X52'], ['X99', 'X31'], ['X66', 'X19', 'X14'], ['X68'], ['X96', 'X65', 'X42'], ['X83'], ['X80', 'X78', 'X77', 'X39'], ['X75', 'X38', 'X29'], ['X86', 'X59', 'X51', 'X23'], ['X15'], ['X54', 'X53', 'X45'], ['X84', 'X41', 'X18'], ['X82', 'X76', 'X69', 'X64', 'X37', 'X32']]\n",
      "selection frequency >=  0.33999999999999997\n",
      "[['X4', 'X3', 'X2', 'X1', 'X0'], ['X28'], ['X71'], ['X91'], ['X70'], ['X94', 'X40'], ['X90'], ['X58', 'X17'], ['X87', 'X36'], ['X44', 'X34'], ['X6'], ['X20'], ['X74', 'X60'], ['X52'], ['X99', 'X31'], ['X66', 'X19', 'X14'], ['X68'], ['X96', 'X65', 'X42'], ['X83'], ['X80', 'X78', 'X77', 'X39'], ['X75', 'X38', 'X29'], ['X86', 'X59', 'X51', 'X23'], ['X15'], ['X54', 'X53', 'X45'], ['X84', 'X41', 'X18'], ['X82', 'X76', 'X69', 'X64', 'X37', 'X32'], ['X89', 'X88', 'X49']]\n",
      "selection frequency >=  0.33\n",
      "[['X4', 'X3', 'X2', 'X1', 'X0'], ['X28'], ['X71'], ['X91'], ['X70'], ['X94', 'X40'], ['X90'], ['X58', 'X17'], ['X87', 'X36'], ['X44', 'X34'], ['X6'], ['X20'], ['X74', 'X60'], ['X52'], ['X99', 'X31'], ['X66', 'X19', 'X14'], ['X68'], ['X96', 'X65', 'X42'], ['X83'], ['X80', 'X78', 'X77', 'X39'], ['X75', 'X38', 'X29'], ['X86', 'X59', 'X51', 'X23'], ['X15'], ['X54', 'X53', 'X45'], ['X84', 'X41', 'X18'], ['X82', 'X76', 'X69', 'X64', 'X37', 'X32'], ['X89', 'X88', 'X49'], ['X63', 'X55', 'X24', 'X16', 'X10', 'X7', 'X5']]\n",
      "selection frequency >=  0.32\n",
      "[['X4', 'X3', 'X2', 'X1', 'X0'], ['X28'], ['X71'], ['X91'], ['X70'], ['X94', 'X40'], ['X90'], ['X58', 'X17'], ['X87', 'X36'], ['X44', 'X34'], ['X6'], ['X20'], ['X74', 'X60'], ['X52'], ['X99', 'X31'], ['X66', 'X19', 'X14'], ['X68'], ['X96', 'X65', 'X42'], ['X83'], ['X80', 'X78', 'X77', 'X39'], ['X75', 'X38', 'X29'], ['X86', 'X59', 'X51', 'X23'], ['X15'], ['X54', 'X53', 'X45'], ['X84', 'X41', 'X18'], ['X82', 'X76', 'X69', 'X64', 'X37', 'X32'], ['X89', 'X88', 'X49'], ['X63', 'X55', 'X24', 'X16', 'X10', 'X7', 'X5'], ['X57', 'X33', 'X22', 'X13']]\n",
      "selection frequency >=  0.31\n",
      "[['X4', 'X3', 'X2', 'X1', 'X0'], ['X28'], ['X71'], ['X91'], ['X70'], ['X94', 'X40'], ['X90'], ['X58', 'X17'], ['X87', 'X36'], ['X44', 'X34'], ['X6'], ['X20'], ['X74', 'X60'], ['X52'], ['X99', 'X31'], ['X66', 'X19', 'X14'], ['X68'], ['X96', 'X65', 'X42'], ['X83'], ['X80', 'X78', 'X77', 'X39'], ['X75', 'X38', 'X29'], ['X86', 'X59', 'X51', 'X23'], ['X15'], ['X54', 'X53', 'X45'], ['X84', 'X41', 'X18'], ['X82', 'X76', 'X69', 'X64', 'X37', 'X32'], ['X89', 'X88', 'X49'], ['X63', 'X55', 'X24', 'X16', 'X10', 'X7', 'X5'], ['X57', 'X33', 'X22', 'X13'], ['X95', 'X43']]\n",
      "selection frequency >=  0.30000000000000004\n",
      "[['X4', 'X3', 'X2', 'X1', 'X0'], ['X28'], ['X71'], ['X91'], ['X70'], ['X94', 'X40'], ['X90'], ['X58', 'X17'], ['X87', 'X36'], ['X44', 'X34'], ['X6'], ['X20'], ['X74', 'X60'], ['X52'], ['X99', 'X31'], ['X66', 'X19', 'X14'], ['X68'], ['X96', 'X65', 'X42'], ['X83'], ['X80', 'X78', 'X77', 'X39'], ['X75', 'X38', 'X29'], ['X86', 'X59', 'X51', 'X23'], ['X15'], ['X54', 'X53', 'X45'], ['X84', 'X41', 'X18'], ['X82', 'X76', 'X69', 'X64', 'X37', 'X32'], ['X89', 'X88', 'X49'], ['X63', 'X55', 'X24', 'X16', 'X10', 'X7', 'X5'], ['X57', 'X33', 'X22', 'X13'], ['X95', 'X43'], ['X98', 'X50', 'X47', 'X35', 'X11']]\n",
      "selection frequency >=  0.29000000000000004\n",
      "[['X4', 'X3', 'X2', 'X1', 'X0'], ['X28'], ['X71'], ['X91'], ['X70'], ['X94', 'X40'], ['X90'], ['X58', 'X17'], ['X87', 'X36'], ['X44', 'X34'], ['X6'], ['X20'], ['X74', 'X60'], ['X52'], ['X99', 'X31'], ['X66', 'X19', 'X14'], ['X68'], ['X96', 'X65', 'X42'], ['X83'], ['X80', 'X78', 'X77', 'X39'], ['X75', 'X38', 'X29'], ['X86', 'X59', 'X51', 'X23'], ['X15'], ['X54', 'X53', 'X45'], ['X84', 'X41', 'X18'], ['X82', 'X76', 'X69', 'X64', 'X37', 'X32'], ['X89', 'X88', 'X49'], ['X63', 'X55', 'X24', 'X16', 'X10', 'X7', 'X5'], ['X57', 'X33', 'X22', 'X13'], ['X95', 'X43'], ['X98', 'X50', 'X47', 'X35', 'X11'], ['X81', 'X46', 'X25', 'X9']]\n",
      "selection frequency >=  0.28\n",
      "[['X4', 'X3', 'X2', 'X1', 'X0'], ['X28'], ['X71'], ['X91'], ['X70'], ['X94', 'X40'], ['X90'], ['X58', 'X17'], ['X87', 'X36'], ['X44', 'X34'], ['X6'], ['X20'], ['X74', 'X60'], ['X52'], ['X99', 'X31'], ['X66', 'X19', 'X14'], ['X68'], ['X96', 'X65', 'X42'], ['X83'], ['X80', 'X78', 'X77', 'X39'], ['X75', 'X38', 'X29'], ['X86', 'X59', 'X51', 'X23'], ['X15'], ['X54', 'X53', 'X45'], ['X84', 'X41', 'X18'], ['X82', 'X76', 'X69', 'X64', 'X37', 'X32'], ['X89', 'X88', 'X49'], ['X63', 'X55', 'X24', 'X16', 'X10', 'X7', 'X5'], ['X57', 'X33', 'X22', 'X13'], ['X95', 'X43'], ['X98', 'X50', 'X47', 'X35', 'X11'], ['X81', 'X46', 'X25', 'X9'], ['X97', 'X93', 'X73', 'X67', 'X56']]\n",
      "selection frequency >=  0.27\n",
      "[['X4', 'X3', 'X2', 'X1', 'X0'], ['X28'], ['X71'], ['X91'], ['X70'], ['X94', 'X40'], ['X90'], ['X58', 'X17'], ['X87', 'X36'], ['X44', 'X34'], ['X6'], ['X20'], ['X74', 'X60'], ['X52'], ['X99', 'X31'], ['X66', 'X19', 'X14'], ['X68'], ['X96', 'X65', 'X42'], ['X83'], ['X80', 'X78', 'X77', 'X39'], ['X75', 'X38', 'X29'], ['X86', 'X59', 'X51', 'X23'], ['X15'], ['X54', 'X53', 'X45'], ['X84', 'X41', 'X18'], ['X82', 'X76', 'X69', 'X64', 'X37', 'X32'], ['X89', 'X88', 'X49'], ['X63', 'X55', 'X24', 'X16', 'X10', 'X7', 'X5'], ['X57', 'X33', 'X22', 'X13'], ['X95', 'X43'], ['X98', 'X50', 'X47', 'X35', 'X11'], ['X81', 'X46', 'X25', 'X9'], ['X97', 'X93', 'X73', 'X67', 'X56'], ['X92', 'X62', 'X48', 'X30', 'X21']]\n",
      "selection frequency >=  0.26\n",
      "[['X4', 'X3', 'X2', 'X1', 'X0'], ['X28'], ['X71'], ['X91'], ['X70'], ['X94', 'X40'], ['X90'], ['X58', 'X17'], ['X87', 'X36'], ['X44', 'X34'], ['X6'], ['X20'], ['X74', 'X60'], ['X52'], ['X99', 'X31'], ['X66', 'X19', 'X14'], ['X68'], ['X96', 'X65', 'X42'], ['X83'], ['X80', 'X78', 'X77', 'X39'], ['X75', 'X38', 'X29'], ['X86', 'X59', 'X51', 'X23'], ['X15'], ['X54', 'X53', 'X45'], ['X84', 'X41', 'X18'], ['X82', 'X76', 'X69', 'X64', 'X37', 'X32'], ['X89', 'X88', 'X49'], ['X63', 'X55', 'X24', 'X16', 'X10', 'X7', 'X5'], ['X57', 'X33', 'X22', 'X13'], ['X95', 'X43'], ['X98', 'X50', 'X47', 'X35', 'X11'], ['X81', 'X46', 'X25', 'X9'], ['X97', 'X93', 'X73', 'X67', 'X56'], ['X92', 'X62', 'X48', 'X30', 'X21'], ['X27', 'X26']]\n",
      "selection frequency >=  0.25\n",
      "[['X4', 'X3', 'X2', 'X1', 'X0'], ['X28'], ['X71'], ['X91'], ['X70'], ['X94', 'X40'], ['X90'], ['X58', 'X17'], ['X87', 'X36'], ['X44', 'X34'], ['X6'], ['X20'], ['X74', 'X60'], ['X52'], ['X99', 'X31'], ['X66', 'X19', 'X14'], ['X68'], ['X96', 'X65', 'X42'], ['X83'], ['X80', 'X78', 'X77', 'X39'], ['X75', 'X38', 'X29'], ['X86', 'X59', 'X51', 'X23'], ['X15'], ['X54', 'X53', 'X45'], ['X84', 'X41', 'X18'], ['X82', 'X76', 'X69', 'X64', 'X37', 'X32'], ['X89', 'X88', 'X49'], ['X63', 'X55', 'X24', 'X16', 'X10', 'X7', 'X5'], ['X57', 'X33', 'X22', 'X13'], ['X95', 'X43'], ['X98', 'X50', 'X47', 'X35', 'X11'], ['X81', 'X46', 'X25', 'X9'], ['X97', 'X93', 'X73', 'X67', 'X56'], ['X92', 'X62', 'X48', 'X30', 'X21'], ['X27', 'X26'], ['X85', 'X72']]\n",
      "selection frequency >=  0.23\n",
      "[['X4', 'X3', 'X2', 'X1', 'X0'], ['X28'], ['X71'], ['X91'], ['X70'], ['X94', 'X40'], ['X90'], ['X58', 'X17'], ['X87', 'X36'], ['X44', 'X34'], ['X6'], ['X20'], ['X74', 'X60'], ['X52'], ['X99', 'X31'], ['X66', 'X19', 'X14'], ['X68'], ['X96', 'X65', 'X42'], ['X83'], ['X80', 'X78', 'X77', 'X39'], ['X75', 'X38', 'X29'], ['X86', 'X59', 'X51', 'X23'], ['X15'], ['X54', 'X53', 'X45'], ['X84', 'X41', 'X18'], ['X82', 'X76', 'X69', 'X64', 'X37', 'X32'], ['X89', 'X88', 'X49'], ['X63', 'X55', 'X24', 'X16', 'X10', 'X7', 'X5'], ['X57', 'X33', 'X22', 'X13'], ['X95', 'X43'], ['X98', 'X50', 'X47', 'X35', 'X11'], ['X81', 'X46', 'X25', 'X9'], ['X97', 'X93', 'X73', 'X67', 'X56'], ['X92', 'X62', 'X48', 'X30', 'X21'], ['X27', 'X26'], ['X85', 'X72'], ['X79', 'X61', 'X12', 'X8']]\n"
     ]
    }
   ],
   "source": [
    "trial.q_list_bolasso(Qc_list_bolasso)"
   ]
  },
  {
   "cell_type": "markdown",
   "metadata": {},
   "source": [
    "### Finally we produce the HTML file"
   ]
  },
  {
   "cell_type": "code",
   "execution_count": 1,
   "metadata": {},
   "outputs": [
    {
     "name": "stdout",
     "output_type": "stream",
     "text": [
      "[NbConvertApp] Converting notebook subsample_frequency_bolasso_bsolar.ipynb to html\n",
      "[NbConvertApp] Writing 629758 bytes to subsample_frequency_bolasso_bsolar.html\n"
     ]
    }
   ],
   "source": [
    "!rm -rf subsample_frequency_bolasso_bsolar.html\n",
    "!jupyter nbconvert --to html subsample_frequency_bolasso_bsolar.ipynb"
   ]
  },
  {
   "cell_type": "code",
   "execution_count": null,
   "metadata": {},
   "outputs": [],
   "source": []
  }
 ],
 "metadata": {
  "kernelspec": {
   "display_name": "Python 3 (ipykernel)",
   "language": "python",
   "name": "python3"
  },
  "language_info": {
   "codemirror_mode": {
    "name": "ipython",
    "version": 3
   },
   "file_extension": ".py",
   "mimetype": "text/x-python",
   "name": "python",
   "nbconvert_exporter": "python",
   "pygments_lexer": "ipython3",
   "version": "3.9.12"
  }
 },
 "nbformat": 4,
 "nbformat_minor": 4
}
