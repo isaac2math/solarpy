{
 "cells": [
  {
   "cell_type": "markdown",
   "metadata": {},
   "source": [
    "<center><h1> solar demostration </h1></center>\n",
    "\n",
    "### this \".ipynb\" file produces the graphical and numerical results for solar demonstration </font>\n",
    "### this demostration is not included in the paper </font>\n",
    "### we set it up for the step-by-step illustration of solar computation </font>"
   ]
  },
  {
   "cell_type": "markdown",
   "metadata": {},
   "source": [
    "---\n",
    "\n",
    "## Check the following before running the code\n",
    "\n",
    "### (a) Read \"README.pdf\" in this folder first, which introduces the package\n",
    "\n",
    "### (b) Before replication, delete all .p files in the \"./numerical_result\" folder. The .p files record the numerical results of the our computation.\n",
    "\n",
    "### (c) To avoid confusion, reset your kernel before you running the notebook (to clear memory): \n",
    "* <font size=\"4.5\"> In Jupyter Notebook/Lab : go to Menu \"Kernel\" $\\rightarrow$ \"Restart Kernel and clear all outputs\". </font> \n",
    "\n",
    "### (d) To evaluate the code for simulation replication in Jupyter Notebook/Lab,\n",
    "* <font size=\"4.5\"> click : Menu \"Kernel\" $\\rightarrow$ \"Restart Kernel and Run All Cells\" </font>\n",
    "* <font size=\"4.5\"> or, select a cell of code, press \"shift\" and \"enter\". Run all cells to avoid errors </font>\n",
    "\n",
    "### (e) Check \"joblib\", \"scikit-learn\", \"numpy\", \"matplotlib\" and \"tqdm\" are installed. If not,\n",
    "* <font size=\"4.5\"> we highly recommend installing Anaconda3 version 2020-11 directly to avoid package management (all packages mentioned above are installed by default).</font>\n",
    "\n",
    "---"
   ]
  },
  {
   "cell_type": "markdown",
   "metadata": {},
   "source": [
    "## #1: import all modules\n",
    "\n",
    "* <font size=\"4.5\"> For simplicity and elegancy, all relevant functions and classes are coded in \"solar_simul_demo.py\". </font>"
   ]
  },
  {
   "cell_type": "code",
   "execution_count": 1,
   "metadata": {},
   "outputs": [],
   "source": [
    "import numpy             as np\n",
    "import matplotlib.pyplot as plt\n",
    "\n",
    "from solar_simul_demo import one_shot_simul"
   ]
  },
  {
   "cell_type": "markdown",
   "metadata": {},
   "source": [
    "## make sure we use the Intel MKL C++/Fortran compiler for maximum performance."
   ]
  },
  {
   "cell_type": "code",
   "execution_count": 2,
   "metadata": {},
   "outputs": [
    {
     "data": {
      "text/plain": [
       "'Intel(R) oneAPI Math Kernel Library Version 2021.4-Product Build 20210904 for Intel(R) 64 architecture applications'"
      ]
     },
     "execution_count": 2,
     "metadata": {},
     "output_type": "execute_result"
    }
   ],
   "source": [
    "import mkl\n",
    "\n",
    "mkl.get_version_string()"
   ]
  },
  {
   "cell_type": "code",
   "execution_count": 3,
   "metadata": {},
   "outputs": [
    {
     "name": "stdout",
     "output_type": "stream",
     "text": [
      "This was obtained using the following Numpy configuration:\n",
      "blas_mkl_info:\n",
      "    libraries = ['mkl_rt', 'pthread']\n",
      "    library_dirs = ['/Users/ning/anaconda3/lib']\n",
      "    define_macros = [('SCIPY_MKL_H', None), ('HAVE_CBLAS', None)]\n",
      "    include_dirs = ['/Users/ning/anaconda3/include']\n",
      "blas_opt_info:\n",
      "    libraries = ['mkl_rt', 'pthread']\n",
      "    library_dirs = ['/Users/ning/anaconda3/lib']\n",
      "    define_macros = [('SCIPY_MKL_H', None), ('HAVE_CBLAS', None)]\n",
      "    include_dirs = ['/Users/ning/anaconda3/include']\n",
      "lapack_mkl_info:\n",
      "    libraries = ['mkl_rt', 'pthread']\n",
      "    library_dirs = ['/Users/ning/anaconda3/lib']\n",
      "    define_macros = [('SCIPY_MKL_H', None), ('HAVE_CBLAS', None)]\n",
      "    include_dirs = ['/Users/ning/anaconda3/include']\n",
      "lapack_opt_info:\n",
      "    libraries = ['mkl_rt', 'pthread']\n",
      "    library_dirs = ['/Users/ning/anaconda3/lib']\n",
      "    define_macros = [('SCIPY_MKL_H', None), ('HAVE_CBLAS', None)]\n",
      "    include_dirs = ['/Users/ning/anaconda3/include']\n",
      "Supported SIMD extensions in this NumPy install:\n",
      "    baseline = SSE,SSE2,SSE3\n",
      "    found = SSSE3,SSE41,POPCNT,SSE42,AVX,F16C,FMA3,AVX2\n",
      "    not found = AVX512F,AVX512CD,AVX512_KNL,AVX512_SKX,AVX512_CLX,AVX512_CNL,AVX512_ICL\n"
     ]
    }
   ],
   "source": [
    "print('This was obtained using the following Numpy configuration:')\n",
    "\n",
    "np.show_config()"
   ]
  },
  {
   "cell_type": "markdown",
   "metadata": {},
   "source": [
    "---\n",
    "\n",
    "## #2(a): define inputs values\n",
    "\n",
    "| <font size=\"4.5\"> variable name </font> | <font size=\"4.5\">  meaning </font> |\n",
    "|-|-|\n",
    "| <font size=\"4.5\">  sample_size  </font> | <font size=\"4.5\">  the sample size $n$ in the paper; </font>| \n",
    "| <font size=\"4.5\">  n_dim        </font> | <font size=\"4.5\">  the number of variables(informative + redundant) in $X$, $p$ in the paper; </font>| \n",
    "| <font size=\"4.5\">  n_info       </font> | <font size=\"4.5\">  the number of informative variables in $X$; </font>| \n",
    "| <font size=\"4.5\">  n_repeat     </font> | <font size=\"4.5\">  the number of subsamples generated by solar; </font>| \n",
    "| <font size=\"4.5\">  step_size    </font> | <font size=\"4.5\">  the step size for tuning $c$; </font>| \n",
    "| <font size=\"4.5\">  rnd_seed     </font> | <font size=\"4.5\">  the random seed value; </font>| \n",
    "| <font size=\"4.5\">  plot_on      </font> | <font size=\"4.5\">  the binary value that controls whether the simulation plots will be saved as PDF; </font>| \n",
    "\n",
    "### #2(b): define DGP\n",
    "\n",
    "* <font size=\"4.5\"> the population regression equation is $$Y = 2\\cdot \\mathbf{x}_0 + 3\\cdot \\mathbf{x}_1 + 4\\cdot \\mathbf{x}_2 + 5\\cdot \\mathbf{x}_3 + 6\\cdot \\mathbf{x}_4  + y,$$ \n",
    "* <font size=\"4.5\"> To change the simulation settings, simply change the input values. If you change *n_info* you will adjust the DGP as follows: </font>\n",
    "    * <font size=\"4.5\"> If $i > \\mbox{n_info} - 1$ and $i \\in \\left[ 0, 1, 2, \\ldots, p-1 \\right]$, $\\beta_i = 0$ in population;</font>\n",
    "    * <font size=\"4.5\"> If $i \\leqslant \\mbox{n_info} - 1$ and $i \\in \\left[ 0, 1, 2, \\ldots, p-1 \\right]$, $\\beta_i = i + 2$ in population</font>"
   ]
  },
  {
   "cell_type": "code",
   "execution_count": 4,
   "metadata": {},
   "outputs": [],
   "source": [
    "sample_size = 200\n",
    "n_dim       = 100\n",
    "n_info      = 5\n",
    "n_repeat    = 10\n",
    "step_size   = -0.02\n",
    "rnd_seed    = 0\n",
    "plot_on     = False"
   ]
  },
  {
   "cell_type": "markdown",
   "metadata": {},
   "source": [
    "---\n",
    "\n",
    "## #4: compute solar, CV-lars-lasso (lasso solved by CV-lars) and CV-cd (lasso solved by warm-start cylindrical coordinate descent)\n",
    "\n",
    "### Numpy, sklearn and python are actively updated. If you use different version, replication results may be slightly different from the paper (see Read_me_first.docx for detail)."
   ]
  },
  {
   "cell_type": "code",
   "execution_count": 5,
   "metadata": {},
   "outputs": [],
   "source": [
    "#control the random seed for reproduction\n",
    "np.random.seed(rnd_seed)"
   ]
  },
  {
   "cell_type": "markdown",
   "metadata": {},
   "source": [
    "### first, we call the class for simulation from \"solar_simul_demo.py\""
   ]
  },
  {
   "cell_type": "code",
   "execution_count": 6,
   "metadata": {},
   "outputs": [],
   "source": [
    "trial = one_shot_simul(sample_size, n_dim, n_info, n_repeat,  step_size, rnd_seed, plot_on)"
   ]
  },
  {
   "cell_type": "markdown",
   "metadata": {},
   "source": [
    "### then we compute cv-lars-lasso, cv-cd and solar on the simulated data and return the result"
   ]
  },
  {
   "cell_type": "code",
   "execution_count": 7,
   "metadata": {},
   "outputs": [],
   "source": [
    "solar_coef, opt_c, test_error, Qc_list, la_list, la_vari_list, cd_list, cd_vari_list = trial.simul_func()"
   ]
  },
  {
   "cell_type": "markdown",
   "metadata": {},
   "source": [
    "---\n",
    "\n",
    "## #4: plots and results of the simulation"
   ]
  },
  {
   "cell_type": "markdown",
   "metadata": {},
   "source": [
    "### first, we plot the result of $c$ tuning (via validation error minimization) in algorithm 2"
   ]
  },
  {
   "cell_type": "code",
   "execution_count": 8,
   "metadata": {},
   "outputs": [
    {
     "data": {
      "image/png": "[encoded data removed]",
      "text/plain": [
       "<Figure size 432x288 with 1 Axes>"
      ]
     },
     "metadata": {
      "needs_background": "light"
     },
     "output_type": "display_data"
    }
   ],
   "source": [
    "trial.q_plot(test_error, opt_c)"
   ]
  },
  {
   "cell_type": "markdown",
   "metadata": {},
   "source": [
    "###  then we report the $Q(c) = \\left\\{ \\mathbf{x}_j \\; \\vert \\; \\widehat{q}_j \\geqslant c \\right\\}$ under different value of $c$."
   ]
  },
  {
   "cell_type": "code",
   "execution_count": 9,
   "metadata": {},
   "outputs": [
    {
     "name": "stdout",
     "output_type": "stream",
     "text": [
      "q_hat value >=  1.0\n",
      "[['X4']]\n",
      "q_hat value >=  0.9777777777777777\n",
      "[['X4'], ['X3', 'X2']]\n",
      "q_hat value >=  0.9555555555555556\n",
      "[['X4'], ['X3', 'X2'], ['X1', 'X0']]\n",
      "q_hat value >=  0.9111111111111111\n",
      "[['X4'], ['X3', 'X2'], ['X1', 'X0'], ['X19', 'X18']]\n",
      "q_hat value >=  0.8888888888888888\n",
      "[['X4'], ['X3', 'X2'], ['X1', 'X0'], ['X19', 'X18'], ['X68']]\n",
      "q_hat value >=  0.8666666666666667\n",
      "[['X4'], ['X3', 'X2'], ['X1', 'X0'], ['X19', 'X18'], ['X68'], ['X71', 'X40']]\n",
      "q_hat value >=  0.8222222222222222\n",
      "[['X4'], ['X3', 'X2'], ['X1', 'X0'], ['X19', 'X18'], ['X68'], ['X71', 'X40'], ['X37']]\n",
      "q_hat value >=  0.7777777777777778\n",
      "[['X4'], ['X3', 'X2'], ['X1', 'X0'], ['X19', 'X18'], ['X68'], ['X71', 'X40'], ['X37'], ['X91']]\n",
      "q_hat value >=  0.7111111111111111\n",
      "[['X4'], ['X3', 'X2'], ['X1', 'X0'], ['X19', 'X18'], ['X68'], ['X71', 'X40'], ['X37'], ['X91'], ['X72', 'X35']]\n",
      "q_hat value >=  0.6888888888888889\n",
      "[['X4'], ['X3', 'X2'], ['X1', 'X0'], ['X19', 'X18'], ['X68'], ['X71', 'X40'], ['X37'], ['X91'], ['X72', 'X35'], ['X15']]\n",
      "q_hat value >=  0.6666666666666666\n",
      "[['X4'], ['X3', 'X2'], ['X1', 'X0'], ['X19', 'X18'], ['X68'], ['X71', 'X40'], ['X37'], ['X91'], ['X72', 'X35'], ['X15'], ['X59']]\n",
      "q_hat value >=  0.6444444444444445\n",
      "[['X4'], ['X3', 'X2'], ['X1', 'X0'], ['X19', 'X18'], ['X68'], ['X71', 'X40'], ['X37'], ['X91'], ['X72', 'X35'], ['X15'], ['X59'], ['X94']]\n",
      "q_hat value >=  0.6222222222222222\n",
      "[['X4'], ['X3', 'X2'], ['X1', 'X0'], ['X19', 'X18'], ['X68'], ['X71', 'X40'], ['X37'], ['X91'], ['X72', 'X35'], ['X15'], ['X59'], ['X94'], ['X28']]\n",
      "q_hat value >=  0.6\n",
      "[['X4'], ['X3', 'X2'], ['X1', 'X0'], ['X19', 'X18'], ['X68'], ['X71', 'X40'], ['X37'], ['X91'], ['X72', 'X35'], ['X15'], ['X59'], ['X94'], ['X28'], ['X70', 'X58', 'X17']]\n",
      "q_hat value >=  0.5777777777777777\n",
      "[['X4'], ['X3', 'X2'], ['X1', 'X0'], ['X19', 'X18'], ['X68'], ['X71', 'X40'], ['X37'], ['X91'], ['X72', 'X35'], ['X15'], ['X59'], ['X94'], ['X28'], ['X70', 'X58', 'X17'], ['X88']]\n",
      "q_hat value >=  0.5555555555555556\n",
      "[['X4'], ['X3', 'X2'], ['X1', 'X0'], ['X19', 'X18'], ['X68'], ['X71', 'X40'], ['X37'], ['X91'], ['X72', 'X35'], ['X15'], ['X59'], ['X94'], ['X28'], ['X70', 'X58', 'X17'], ['X88'], ['X41']]\n",
      "q_hat value >=  0.5111111111111111\n",
      "[['X4'], ['X3', 'X2'], ['X1', 'X0'], ['X19', 'X18'], ['X68'], ['X71', 'X40'], ['X37'], ['X91'], ['X72', 'X35'], ['X15'], ['X59'], ['X94'], ['X28'], ['X70', 'X58', 'X17'], ['X88'], ['X41'], ['X64', 'X62', 'X51', 'X31', 'X26']]\n",
      "q_hat value >=  0.4888888888888889\n",
      "[['X4'], ['X3', 'X2'], ['X1', 'X0'], ['X19', 'X18'], ['X68'], ['X71', 'X40'], ['X37'], ['X91'], ['X72', 'X35'], ['X15'], ['X59'], ['X94'], ['X28'], ['X70', 'X58', 'X17'], ['X88'], ['X41'], ['X64', 'X62', 'X51', 'X31', 'X26'], ['X45', 'X24', 'X20']]\n",
      "q_hat value >=  0.4666666666666667\n",
      "[['X4'], ['X3', 'X2'], ['X1', 'X0'], ['X19', 'X18'], ['X68'], ['X71', 'X40'], ['X37'], ['X91'], ['X72', 'X35'], ['X15'], ['X59'], ['X94'], ['X28'], ['X70', 'X58', 'X17'], ['X88'], ['X41'], ['X64', 'X62', 'X51', 'X31', 'X26'], ['X45', 'X24', 'X20'], ['X93', 'X90', 'X74', 'X67', 'X56', 'X52', 'X34', 'X5']]\n",
      "q_hat value >=  0.4444444444444444\n",
      "[['X4'], ['X3', 'X2'], ['X1', 'X0'], ['X19', 'X18'], ['X68'], ['X71', 'X40'], ['X37'], ['X91'], ['X72', 'X35'], ['X15'], ['X59'], ['X94'], ['X28'], ['X70', 'X58', 'X17'], ['X88'], ['X41'], ['X64', 'X62', 'X51', 'X31', 'X26'], ['X45', 'X24', 'X20'], ['X93', 'X90', 'X74', 'X67', 'X56', 'X52', 'X34', 'X5'], ['X69', 'X21']]\n",
      "q_hat value >=  0.4222222222222222\n",
      "[['X4'], ['X3', 'X2'], ['X1', 'X0'], ['X19', 'X18'], ['X68'], ['X71', 'X40'], ['X37'], ['X91'], ['X72', 'X35'], ['X15'], ['X59'], ['X94'], ['X28'], ['X70', 'X58', 'X17'], ['X88'], ['X41'], ['X64', 'X62', 'X51', 'X31', 'X26'], ['X45', 'X24', 'X20'], ['X93', 'X90', 'X74', 'X67', 'X56', 'X52', 'X34', 'X5'], ['X69', 'X21'], ['X83', 'X44', 'X22']]\n",
      "q_hat value >=  0.4\n",
      "[['X4'], ['X3', 'X2'], ['X1', 'X0'], ['X19', 'X18'], ['X68'], ['X71', 'X40'], ['X37'], ['X91'], ['X72', 'X35'], ['X15'], ['X59'], ['X94'], ['X28'], ['X70', 'X58', 'X17'], ['X88'], ['X41'], ['X64', 'X62', 'X51', 'X31', 'X26'], ['X45', 'X24', 'X20'], ['X93', 'X90', 'X74', 'X67', 'X56', 'X52', 'X34', 'X5'], ['X69', 'X21'], ['X83', 'X44', 'X22'], ['X79', 'X66']]\n",
      "q_hat value >=  0.37777777777777777\n",
      "[['X4'], ['X3', 'X2'], ['X1', 'X0'], ['X19', 'X18'], ['X68'], ['X71', 'X40'], ['X37'], ['X91'], ['X72', 'X35'], ['X15'], ['X59'], ['X94'], ['X28'], ['X70', 'X58', 'X17'], ['X88'], ['X41'], ['X64', 'X62', 'X51', 'X31', 'X26'], ['X45', 'X24', 'X20'], ['X93', 'X90', 'X74', 'X67', 'X56', 'X52', 'X34', 'X5'], ['X69', 'X21'], ['X83', 'X44', 'X22'], ['X79', 'X66'], ['X8']]\n",
      "q_hat value >=  0.35555555555555557\n",
      "[['X4'], ['X3', 'X2'], ['X1', 'X0'], ['X19', 'X18'], ['X68'], ['X71', 'X40'], ['X37'], ['X91'], ['X72', 'X35'], ['X15'], ['X59'], ['X94'], ['X28'], ['X70', 'X58', 'X17'], ['X88'], ['X41'], ['X64', 'X62', 'X51', 'X31', 'X26'], ['X45', 'X24', 'X20'], ['X93', 'X90', 'X74', 'X67', 'X56', 'X52', 'X34', 'X5'], ['X69', 'X21'], ['X83', 'X44', 'X22'], ['X79', 'X66'], ['X8'], ['X89', 'X82', 'X78', 'X61', 'X46', 'X39', 'X23', 'X14', 'X13']]\n",
      "q_hat value >=  0.3333333333333333\n",
      "[['X4'], ['X3', 'X2'], ['X1', 'X0'], ['X19', 'X18'], ['X68'], ['X71', 'X40'], ['X37'], ['X91'], ['X72', 'X35'], ['X15'], ['X59'], ['X94'], ['X28'], ['X70', 'X58', 'X17'], ['X88'], ['X41'], ['X64', 'X62', 'X51', 'X31', 'X26'], ['X45', 'X24', 'X20'], ['X93', 'X90', 'X74', 'X67', 'X56', 'X52', 'X34', 'X5'], ['X69', 'X21'], ['X83', 'X44', 'X22'], ['X79', 'X66'], ['X8'], ['X89', 'X82', 'X78', 'X61', 'X46', 'X39', 'X23', 'X14', 'X13'], ['X99', 'X84', 'X81', 'X80', 'X32', 'X7']]\n",
      "q_hat value >=  0.3111111111111111\n",
      "[['X4'], ['X3', 'X2'], ['X1', 'X0'], ['X19', 'X18'], ['X68'], ['X71', 'X40'], ['X37'], ['X91'], ['X72', 'X35'], ['X15'], ['X59'], ['X94'], ['X28'], ['X70', 'X58', 'X17'], ['X88'], ['X41'], ['X64', 'X62', 'X51', 'X31', 'X26'], ['X45', 'X24', 'X20'], ['X93', 'X90', 'X74', 'X67', 'X56', 'X52', 'X34', 'X5'], ['X69', 'X21'], ['X83', 'X44', 'X22'], ['X79', 'X66'], ['X8'], ['X89', 'X82', 'X78', 'X61', 'X46', 'X39', 'X23', 'X14', 'X13'], ['X99', 'X84', 'X81', 'X80', 'X32', 'X7'], ['X98', 'X50', 'X48', 'X43', 'X30', 'X16']]\n",
      "q_hat value >=  0.28888888888888886\n",
      "[['X4'], ['X3', 'X2'], ['X1', 'X0'], ['X19', 'X18'], ['X68'], ['X71', 'X40'], ['X37'], ['X91'], ['X72', 'X35'], ['X15'], ['X59'], ['X94'], ['X28'], ['X70', 'X58', 'X17'], ['X88'], ['X41'], ['X64', 'X62', 'X51', 'X31', 'X26'], ['X45', 'X24', 'X20'], ['X93', 'X90', 'X74', 'X67', 'X56', 'X52', 'X34', 'X5'], ['X69', 'X21'], ['X83', 'X44', 'X22'], ['X79', 'X66'], ['X8'], ['X89', 'X82', 'X78', 'X61', 'X46', 'X39', 'X23', 'X14', 'X13'], ['X99', 'X84', 'X81', 'X80', 'X32', 'X7'], ['X98', 'X50', 'X48', 'X43', 'X30', 'X16'], ['X77', 'X60', 'X29']]\n",
      "q_hat value >=  0.26666666666666666\n",
      "[['X4'], ['X3', 'X2'], ['X1', 'X0'], ['X19', 'X18'], ['X68'], ['X71', 'X40'], ['X37'], ['X91'], ['X72', 'X35'], ['X15'], ['X59'], ['X94'], ['X28'], ['X70', 'X58', 'X17'], ['X88'], ['X41'], ['X64', 'X62', 'X51', 'X31', 'X26'], ['X45', 'X24', 'X20'], ['X93', 'X90', 'X74', 'X67', 'X56', 'X52', 'X34', 'X5'], ['X69', 'X21'], ['X83', 'X44', 'X22'], ['X79', 'X66'], ['X8'], ['X89', 'X82', 'X78', 'X61', 'X46', 'X39', 'X23', 'X14', 'X13'], ['X99', 'X84', 'X81', 'X80', 'X32', 'X7'], ['X98', 'X50', 'X48', 'X43', 'X30', 'X16'], ['X77', 'X60', 'X29'], ['X87', 'X73', 'X55', 'X36', 'X27']]\n",
      "q_hat value >=  0.24444444444444444\n",
      "[['X4'], ['X3', 'X2'], ['X1', 'X0'], ['X19', 'X18'], ['X68'], ['X71', 'X40'], ['X37'], ['X91'], ['X72', 'X35'], ['X15'], ['X59'], ['X94'], ['X28'], ['X70', 'X58', 'X17'], ['X88'], ['X41'], ['X64', 'X62', 'X51', 'X31', 'X26'], ['X45', 'X24', 'X20'], ['X93', 'X90', 'X74', 'X67', 'X56', 'X52', 'X34', 'X5'], ['X69', 'X21'], ['X83', 'X44', 'X22'], ['X79', 'X66'], ['X8'], ['X89', 'X82', 'X78', 'X61', 'X46', 'X39', 'X23', 'X14', 'X13'], ['X99', 'X84', 'X81', 'X80', 'X32', 'X7'], ['X98', 'X50', 'X48', 'X43', 'X30', 'X16'], ['X77', 'X60', 'X29'], ['X87', 'X73', 'X55', 'X36', 'X27'], ['X97', 'X86', 'X76', 'X54', 'X38', 'X12']]\n",
      "q_hat value >=  0.2222222222222222\n",
      "[['X4'], ['X3', 'X2'], ['X1', 'X0'], ['X19', 'X18'], ['X68'], ['X71', 'X40'], ['X37'], ['X91'], ['X72', 'X35'], ['X15'], ['X59'], ['X94'], ['X28'], ['X70', 'X58', 'X17'], ['X88'], ['X41'], ['X64', 'X62', 'X51', 'X31', 'X26'], ['X45', 'X24', 'X20'], ['X93', 'X90', 'X74', 'X67', 'X56', 'X52', 'X34', 'X5'], ['X69', 'X21'], ['X83', 'X44', 'X22'], ['X79', 'X66'], ['X8'], ['X89', 'X82', 'X78', 'X61', 'X46', 'X39', 'X23', 'X14', 'X13'], ['X99', 'X84', 'X81', 'X80', 'X32', 'X7'], ['X98', 'X50', 'X48', 'X43', 'X30', 'X16'], ['X77', 'X60', 'X29'], ['X87', 'X73', 'X55', 'X36', 'X27'], ['X97', 'X86', 'X76', 'X54', 'X38', 'X12'], ['X95', 'X57', 'X53', 'X47', 'X10']]\n",
      "q_hat value >=  0.2\n",
      "[['X4'], ['X3', 'X2'], ['X1', 'X0'], ['X19', 'X18'], ['X68'], ['X71', 'X40'], ['X37'], ['X91'], ['X72', 'X35'], ['X15'], ['X59'], ['X94'], ['X28'], ['X70', 'X58', 'X17'], ['X88'], ['X41'], ['X64', 'X62', 'X51', 'X31', 'X26'], ['X45', 'X24', 'X20'], ['X93', 'X90', 'X74', 'X67', 'X56', 'X52', 'X34', 'X5'], ['X69', 'X21'], ['X83', 'X44', 'X22'], ['X79', 'X66'], ['X8'], ['X89', 'X82', 'X78', 'X61', 'X46', 'X39', 'X23', 'X14', 'X13'], ['X99', 'X84', 'X81', 'X80', 'X32', 'X7'], ['X98', 'X50', 'X48', 'X43', 'X30', 'X16'], ['X77', 'X60', 'X29'], ['X87', 'X73', 'X55', 'X36', 'X27'], ['X97', 'X86', 'X76', 'X54', 'X38', 'X12'], ['X95', 'X57', 'X53', 'X47', 'X10'], ['X63']]\n",
      "q_hat value >=  0.17777777777777778\n",
      "[['X4'], ['X3', 'X2'], ['X1', 'X0'], ['X19', 'X18'], ['X68'], ['X71', 'X40'], ['X37'], ['X91'], ['X72', 'X35'], ['X15'], ['X59'], ['X94'], ['X28'], ['X70', 'X58', 'X17'], ['X88'], ['X41'], ['X64', 'X62', 'X51', 'X31', 'X26'], ['X45', 'X24', 'X20'], ['X93', 'X90', 'X74', 'X67', 'X56', 'X52', 'X34', 'X5'], ['X69', 'X21'], ['X83', 'X44', 'X22'], ['X79', 'X66'], ['X8'], ['X89', 'X82', 'X78', 'X61', 'X46', 'X39', 'X23', 'X14', 'X13'], ['X99', 'X84', 'X81', 'X80', 'X32', 'X7'], ['X98', 'X50', 'X48', 'X43', 'X30', 'X16'], ['X77', 'X60', 'X29'], ['X87', 'X73', 'X55', 'X36', 'X27'], ['X97', 'X86', 'X76', 'X54', 'X38', 'X12'], ['X95', 'X57', 'X53', 'X47', 'X10'], ['X63'], ['X85', 'X75', 'X49', 'X33']]\n",
      "q_hat value >=  0.15555555555555556\n",
      "[['X4'], ['X3', 'X2'], ['X1', 'X0'], ['X19', 'X18'], ['X68'], ['X71', 'X40'], ['X37'], ['X91'], ['X72', 'X35'], ['X15'], ['X59'], ['X94'], ['X28'], ['X70', 'X58', 'X17'], ['X88'], ['X41'], ['X64', 'X62', 'X51', 'X31', 'X26'], ['X45', 'X24', 'X20'], ['X93', 'X90', 'X74', 'X67', 'X56', 'X52', 'X34', 'X5'], ['X69', 'X21'], ['X83', 'X44', 'X22'], ['X79', 'X66'], ['X8'], ['X89', 'X82', 'X78', 'X61', 'X46', 'X39', 'X23', 'X14', 'X13'], ['X99', 'X84', 'X81', 'X80', 'X32', 'X7'], ['X98', 'X50', 'X48', 'X43', 'X30', 'X16'], ['X77', 'X60', 'X29'], ['X87', 'X73', 'X55', 'X36', 'X27'], ['X97', 'X86', 'X76', 'X54', 'X38', 'X12'], ['X95', 'X57', 'X53', 'X47', 'X10'], ['X63'], ['X85', 'X75', 'X49', 'X33'], ['X92', 'X65', 'X42', 'X25', 'X9']]\n",
      "q_hat value >=  0.13333333333333333\n",
      "[['X4'], ['X3', 'X2'], ['X1', 'X0'], ['X19', 'X18'], ['X68'], ['X71', 'X40'], ['X37'], ['X91'], ['X72', 'X35'], ['X15'], ['X59'], ['X94'], ['X28'], ['X70', 'X58', 'X17'], ['X88'], ['X41'], ['X64', 'X62', 'X51', 'X31', 'X26'], ['X45', 'X24', 'X20'], ['X93', 'X90', 'X74', 'X67', 'X56', 'X52', 'X34', 'X5'], ['X69', 'X21'], ['X83', 'X44', 'X22'], ['X79', 'X66'], ['X8'], ['X89', 'X82', 'X78', 'X61', 'X46', 'X39', 'X23', 'X14', 'X13'], ['X99', 'X84', 'X81', 'X80', 'X32', 'X7'], ['X98', 'X50', 'X48', 'X43', 'X30', 'X16'], ['X77', 'X60', 'X29'], ['X87', 'X73', 'X55', 'X36', 'X27'], ['X97', 'X86', 'X76', 'X54', 'X38', 'X12'], ['X95', 'X57', 'X53', 'X47', 'X10'], ['X63'], ['X85', 'X75', 'X49', 'X33'], ['X92', 'X65', 'X42', 'X25', 'X9'], ['X11']]\n",
      "q_hat value >=  0.06666666666666667\n",
      "[['X4'], ['X3', 'X2'], ['X1', 'X0'], ['X19', 'X18'], ['X68'], ['X71', 'X40'], ['X37'], ['X91'], ['X72', 'X35'], ['X15'], ['X59'], ['X94'], ['X28'], ['X70', 'X58', 'X17'], ['X88'], ['X41'], ['X64', 'X62', 'X51', 'X31', 'X26'], ['X45', 'X24', 'X20'], ['X93', 'X90', 'X74', 'X67', 'X56', 'X52', 'X34', 'X5'], ['X69', 'X21'], ['X83', 'X44', 'X22'], ['X79', 'X66'], ['X8'], ['X89', 'X82', 'X78', 'X61', 'X46', 'X39', 'X23', 'X14', 'X13'], ['X99', 'X84', 'X81', 'X80', 'X32', 'X7'], ['X98', 'X50', 'X48', 'X43', 'X30', 'X16'], ['X77', 'X60', 'X29'], ['X87', 'X73', 'X55', 'X36', 'X27'], ['X97', 'X86', 'X76', 'X54', 'X38', 'X12'], ['X95', 'X57', 'X53', 'X47', 'X10'], ['X63'], ['X85', 'X75', 'X49', 'X33'], ['X92', 'X65', 'X42', 'X25', 'X9'], ['X11'], ['X96']]\n",
      "q_hat value >=  0.044444444444444446\n",
      "[['X4'], ['X3', 'X2'], ['X1', 'X0'], ['X19', 'X18'], ['X68'], ['X71', 'X40'], ['X37'], ['X91'], ['X72', 'X35'], ['X15'], ['X59'], ['X94'], ['X28'], ['X70', 'X58', 'X17'], ['X88'], ['X41'], ['X64', 'X62', 'X51', 'X31', 'X26'], ['X45', 'X24', 'X20'], ['X93', 'X90', 'X74', 'X67', 'X56', 'X52', 'X34', 'X5'], ['X69', 'X21'], ['X83', 'X44', 'X22'], ['X79', 'X66'], ['X8'], ['X89', 'X82', 'X78', 'X61', 'X46', 'X39', 'X23', 'X14', 'X13'], ['X99', 'X84', 'X81', 'X80', 'X32', 'X7'], ['X98', 'X50', 'X48', 'X43', 'X30', 'X16'], ['X77', 'X60', 'X29'], ['X87', 'X73', 'X55', 'X36', 'X27'], ['X97', 'X86', 'X76', 'X54', 'X38', 'X12'], ['X95', 'X57', 'X53', 'X47', 'X10'], ['X63'], ['X85', 'X75', 'X49', 'X33'], ['X92', 'X65', 'X42', 'X25', 'X9'], ['X11'], ['X96'], ['X6']]\n"
     ]
    }
   ],
   "source": [
    "trial.q_list(Qc_list)"
   ]
  },
  {
   "cell_type": "markdown",
   "metadata": {},
   "source": [
    "### then we report solar regression coefficents"
   ]
  },
  {
   "cell_type": "code",
   "execution_count": 10,
   "metadata": {},
   "outputs": [
    {
     "name": "stdout",
     "output_type": "stream",
     "text": [
      "[[1.84462064]\n",
      " [2.73659388]\n",
      " [4.11540405]\n",
      " [5.18360444]\n",
      " [6.47553208]\n",
      " [0.        ]\n",
      " [0.        ]\n",
      " [0.        ]\n",
      " [0.        ]\n",
      " [0.        ]\n",
      " [0.        ]\n",
      " [0.        ]\n",
      " [0.        ]\n",
      " [0.        ]\n",
      " [0.        ]\n",
      " [0.        ]\n",
      " [0.        ]\n",
      " [0.        ]\n",
      " [0.        ]\n",
      " [0.        ]\n",
      " [0.        ]\n",
      " [0.        ]\n",
      " [0.        ]\n",
      " [0.        ]\n",
      " [0.        ]\n",
      " [0.        ]\n",
      " [0.        ]\n",
      " [0.        ]\n",
      " [0.        ]\n",
      " [0.        ]\n",
      " [0.        ]\n",
      " [0.        ]\n",
      " [0.        ]\n",
      " [0.        ]\n",
      " [0.        ]\n",
      " [0.        ]\n",
      " [0.        ]\n",
      " [0.        ]\n",
      " [0.        ]\n",
      " [0.        ]\n",
      " [0.        ]\n",
      " [0.        ]\n",
      " [0.        ]\n",
      " [0.        ]\n",
      " [0.        ]\n",
      " [0.        ]\n",
      " [0.        ]\n",
      " [0.        ]\n",
      " [0.        ]\n",
      " [0.        ]\n",
      " [0.        ]\n",
      " [0.        ]\n",
      " [0.        ]\n",
      " [0.        ]\n",
      " [0.        ]\n",
      " [0.        ]\n",
      " [0.        ]\n",
      " [0.        ]\n",
      " [0.        ]\n",
      " [0.        ]\n",
      " [0.        ]\n",
      " [0.        ]\n",
      " [0.        ]\n",
      " [0.        ]\n",
      " [0.        ]\n",
      " [0.        ]\n",
      " [0.        ]\n",
      " [0.        ]\n",
      " [0.        ]\n",
      " [0.        ]\n",
      " [0.        ]\n",
      " [0.        ]\n",
      " [0.        ]\n",
      " [0.        ]\n",
      " [0.        ]\n",
      " [0.        ]\n",
      " [0.        ]\n",
      " [0.        ]\n",
      " [0.        ]\n",
      " [0.        ]\n",
      " [0.        ]\n",
      " [0.        ]\n",
      " [0.        ]\n",
      " [0.        ]\n",
      " [0.        ]\n",
      " [0.        ]\n",
      " [0.        ]\n",
      " [0.        ]\n",
      " [0.        ]\n",
      " [0.        ]\n",
      " [0.        ]\n",
      " [0.        ]\n",
      " [0.        ]\n",
      " [0.        ]\n",
      " [0.        ]\n",
      " [0.        ]\n",
      " [0.        ]\n",
      " [0.        ]\n",
      " [0.        ]\n",
      " [0.        ]]\n"
     ]
    }
   ],
   "source": [
    "print(solar_coef)"
   ]
  },
  {
   "cell_type": "markdown",
   "metadata": {},
   "source": [
    "### report $c^*$ of solar\n",
    "### the reason we print max(opt_c) is because sometimes multiple values of $c$ is assigned with the same value of validation error"
   ]
  },
  {
   "cell_type": "code",
   "execution_count": 11,
   "metadata": {},
   "outputs": [
    {
     "name": "stdout",
     "output_type": "stream",
     "text": [
      "0.96\n"
     ]
    }
   ],
   "source": [
    "print(max(opt_c))"
   ]
  },
  {
   "cell_type": "markdown",
   "metadata": {},
   "source": [
    "### and the number of variables selected by cv-lars-lasso"
   ]
  },
  {
   "cell_type": "code",
   "execution_count": 12,
   "metadata": {},
   "outputs": [
    {
     "name": "stdout",
     "output_type": "stream",
     "text": [
      "14\n"
     ]
    }
   ],
   "source": [
    "print(la_list)"
   ]
  },
  {
   "cell_type": "markdown",
   "metadata": {},
   "source": [
    "### and the number of variables selected by cv-cd"
   ]
  },
  {
   "cell_type": "code",
   "execution_count": 13,
   "metadata": {},
   "outputs": [
    {
     "name": "stdout",
     "output_type": "stream",
     "text": [
      "14\n"
     ]
    }
   ],
   "source": [
    "print(cd_list)"
   ]
  },
  {
   "cell_type": "markdown",
   "metadata": {},
   "source": [
    "### and variables selected by cv-lars-lasso"
   ]
  },
  {
   "cell_type": "code",
   "execution_count": 14,
   "metadata": {},
   "outputs": [
    {
     "name": "stdout",
     "output_type": "stream",
     "text": [
      "variables selected by cv-lars-lasso:  ['X4', 'X3', 'X2', 'X1', 'X0', 'X71', 'X91', 'X90', 'X17', 'X40', 'X70', 'X65', 'X94', 'X28']\n"
     ]
    }
   ],
   "source": [
    "print('variables selected by cv-lars-lasso: ', [ 'X' + str(i) for i in la_vari_list])"
   ]
  },
  {
   "cell_type": "markdown",
   "metadata": {},
   "source": [
    "### and variables selected by cv-cd"
   ]
  },
  {
   "cell_type": "code",
   "execution_count": 15,
   "metadata": {},
   "outputs": [
    {
     "name": "stdout",
     "output_type": "stream",
     "text": [
      "variables selected by cv-cd:  ['X0', 'X1', 'X2', 'X3', 'X4', 'X17', 'X28', 'X40', 'X65', 'X70', 'X71', 'X90', 'X91', 'X94']\n"
     ]
    }
   ],
   "source": [
    "print('variables selected by cv-cd: ', [ 'X' + str(i) for i in cd_vari_list])"
   ]
  },
  {
   "cell_type": "markdown",
   "metadata": {},
   "source": [
    "### Finally we produce the HTML file"
   ]
  },
  {
   "cell_type": "code",
   "execution_count": 1,
   "metadata": {},
   "outputs": [
    {
     "name": "stdout",
     "output_type": "stream",
     "text": [
      "[NbConvertApp] Converting notebook solar_demo.ipynb to html\n",
      "[NbConvertApp] Writing 655432 bytes to solar_demo.html\n"
     ]
    }
   ],
   "source": [
    "!rm -rf solar_demo.html\n",
    "!jupyter nbconvert --to html solar_demo.ipynb"
   ]
  },
  {
   "cell_type": "code",
   "execution_count": null,
   "metadata": {},
   "outputs": [],
   "source": []
  }
 ],
 "metadata": {
  "kernelspec": {
   "display_name": "Python 3 (ipykernel)",
   "language": "python",
   "name": "python3"
  },
  "language_info": {
   "codemirror_mode": {
    "name": "ipython",
    "version": 3
   },
   "file_extension": ".py",
   "mimetype": "text/x-python",
   "name": "python",
   "nbconvert_exporter": "python",
   "pygments_lexer": "ipython3",
   "version": "3.9.12"
  }
 },
 "nbformat": 4,
 "nbformat_minor": 4
}
