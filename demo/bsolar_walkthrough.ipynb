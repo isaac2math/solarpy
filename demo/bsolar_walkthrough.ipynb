{
 "cells": [
  {
   "cell_type": "markdown",
   "id": "demographic-aerospace",
   "metadata": {
    "pycharm": {
     "name": "#%% md\n"
    }
   },
   "source": [
    "<center><h1> bsolar demonstration </h1></center>\n",
    "\n",
    "## In this file, we carefully show the output of the key steps in \"bsolar_parallel.py\" (the parallel version of bsolar)"
   ]
  },
  {
   "cell_type": "markdown",
   "id": "9d29db27-1fb6-422c-855b-85f2a8a2227d",
   "metadata": {},
   "source": [
    "---\n",
    "\n",
    "## Check the following before running the code\n",
    "\n",
    "### (a) Read \"README.pdf\" in this folder first, which introduces the package\n",
    "\n",
    "### (b) Before replication, delete all .p files in the \"./numerical_result\" folder. The .p files record the numerical results of the our computation.\n",
    "\n",
    "### (c) To avoid confusion, reset your kernel before you running the notebook (to clear memory): \n",
    "* <font size=\"4.5\"> In Jupyter Notebook/Lab : go to Menu \"Kernel\" $\\rightarrow$ \"Restart Kernel and clear all outputs\". </font> \n",
    "\n",
    "### (d) To evaluate the code for simulation replication in Jupyter Notebook/Lab,\n",
    "* <font size=\"4.5\"> click : Menu \"Kernel\" $\\rightarrow$ \"Restart Kernel and Run All Cells\" </font>\n",
    "* <font size=\"4.5\"> or, select a cell of code, press \"shift\" and \"enter\". Run all cells to avoid errors </font>\n",
    "\n",
    "### (e) Check \"joblib\", \"scikit-learn\", \"numpy\", \"matplotlib\" and \"tqdm\" are installed. If not,\n",
    "* <font size=\"4.5\"> we highly recommend installing Anaconda3 version 2020-11 directly to avoid package management (all packages mentioned above are installed by default).</font>\n",
    "\n",
    "---"
   ]
  },
  {
   "cell_type": "markdown",
   "id": "hundred-faith",
   "metadata": {
    "pycharm": {
     "name": "#%% md\n"
    }
   },
   "source": [
    "## Preparation 1: we import all the packages"
   ]
  },
  {
   "cell_type": "code",
   "execution_count": 1,
   "id": "western-messenger",
   "metadata": {
    "pycharm": {
     "name": "#%%\n"
    }
   },
   "outputs": [],
   "source": [
    "%reset -f\n",
    "\n",
    "import numpy             as np\n",
    "import matplotlib.pyplot as plt\n",
    "import time\n",
    "import warnings\n",
    "\n",
    "from matplotlib.ticker    import MaxNLocator\n",
    "from joblib               import Parallel, delayed\n",
    "from sklearn.linear_model import LinearRegression\n",
    "from solar                import solar\n",
    "from sklearn.exceptions   import ConvergenceWarning\n",
    "\n",
    "# For recent version of Scikit-learn: since the class 'Lars' may rely on the Cholesky decomposition and hence may have potential convergence warning in high dimensional data (p is much larger than n), we input the following commmand to skip the convergence warning.\n",
    "warnings.filterwarnings(\"ignore\", category=ConvergenceWarning, module=\"sklearn\")"
   ]
  },
  {
   "cell_type": "markdown",
   "id": "03570cb9-bf17-4f7d-a732-5a428589e2a9",
   "metadata": {},
   "source": [
    "## make sure we use the Intel MKL C++/Fortran compiler for maximum performance."
   ]
  },
  {
   "cell_type": "code",
   "execution_count": 2,
   "id": "8504ea33-d918-4a30-8eab-2ed99a4be79c",
   "metadata": {},
   "outputs": [
    {
     "data": {
      "text/plain": [
       "'Intel(R) oneAPI Math Kernel Library Version 2021.4-Product Build 20210904 for Intel(R) 64 architecture applications'"
      ]
     },
     "execution_count": 2,
     "metadata": {},
     "output_type": "execute_result"
    }
   ],
   "source": [
    "import mkl\n",
    "\n",
    "mkl.get_version_string()"
   ]
  },
  {
   "cell_type": "code",
   "execution_count": 3,
   "id": "31cfd348-dd19-423d-8ae3-04e5da1d1ecb",
   "metadata": {},
   "outputs": [
    {
     "name": "stdout",
     "output_type": "stream",
     "text": [
      "This was obtained using the following Numpy configuration:\n",
      "blas_mkl_info:\n",
      "    libraries = ['mkl_rt', 'pthread']\n",
      "    library_dirs = ['/Users/ning/anaconda3/lib']\n",
      "    define_macros = [('SCIPY_MKL_H', None), ('HAVE_CBLAS', None)]\n",
      "    include_dirs = ['/Users/ning/anaconda3/include']\n",
      "blas_opt_info:\n",
      "    libraries = ['mkl_rt', 'pthread']\n",
      "    library_dirs = ['/Users/ning/anaconda3/lib']\n",
      "    define_macros = [('SCIPY_MKL_H', None), ('HAVE_CBLAS', None)]\n",
      "    include_dirs = ['/Users/ning/anaconda3/include']\n",
      "lapack_mkl_info:\n",
      "    libraries = ['mkl_rt', 'pthread']\n",
      "    library_dirs = ['/Users/ning/anaconda3/lib']\n",
      "    define_macros = [('SCIPY_MKL_H', None), ('HAVE_CBLAS', None)]\n",
      "    include_dirs = ['/Users/ning/anaconda3/include']\n",
      "lapack_opt_info:\n",
      "    libraries = ['mkl_rt', 'pthread']\n",
      "    library_dirs = ['/Users/ning/anaconda3/lib']\n",
      "    define_macros = [('SCIPY_MKL_H', None), ('HAVE_CBLAS', None)]\n",
      "    include_dirs = ['/Users/ning/anaconda3/include']\n",
      "Supported SIMD extensions in this NumPy install:\n",
      "    baseline = SSE,SSE2,SSE3\n",
      "    found = SSSE3,SSE41,POPCNT,SSE42,AVX,F16C,FMA3,AVX2\n",
      "    not found = AVX512F,AVX512CD,AVX512_KNL,AVX512_SKX,AVX512_CLX,AVX512_CNL,AVX512_ICL\n"
     ]
    }
   ],
   "source": [
    "print('This was obtained using the following Numpy configuration:')\n",
    "\n",
    "np.show_config()"
   ]
  },
  {
   "cell_type": "markdown",
   "id": "functional-potential",
   "metadata": {
    "pycharm": {
     "name": "#%% md\n"
    }
   },
   "source": [
    "\n",
    "## Preparation 2 : we define the data generator for simulations (which is copied from \"simulator.py\")"
   ]
  },
  {
   "cell_type": "code",
   "execution_count": 4,
   "id": "hidden-andorra",
   "metadata": {
    "pycharm": {
     "name": "#%%\n"
    }
   },
   "outputs": [],
   "source": [
    "class simul:\n",
    "\n",
    "    def __init__(self, sample_size, n_dim, n_info):\n",
    "    ##for convinience, we define the common variable (variables we need to use for each of the following functions) in the class as follows (the common variable is defined as self.xxxx)\n",
    "\n",
    "        self.sample_size   = sample_size\n",
    "        self.n_dim         = n_dim\n",
    "        self.n_info        = n_info\n",
    "\n",
    "\n",
    "    #data-generating process\n",
    "    def data_gen(self):\n",
    "\n",
    "        ##1. generating the covariance matrix for X,\n",
    "        #we add a matrix full of 1/2 with an identity matrix multiplied with 1/2\n",
    "        a = np.ones((self.n_dim, self.n_dim)) * 0.5; A = np.eye(self.n_dim)*0.5\n",
    "\n",
    "        cov_x = a + A\n",
    "\n",
    "        ##2. generating the mean of each column in X (which is 0)\n",
    "        mean_x = np.zeros(self.n_dim)\n",
    "\n",
    "        ##3. generating X as a multivariate Gaussian\n",
    "        X = np.random.multivariate_normal(mean_x, cov_x, self.sample_size)\n",
    "\n",
    "        ##4. generate regression coefficients in DGP as an increasing sequence (2,3,4,5,6 in our paper)\n",
    "        beta_info = np.arange(2, self.n_info + 2)\n",
    "\n",
    "        #in DGP, generate regression coefficients of redundant variables as 0\n",
    "        #concatenate the regression coefficients of informative variables and redundant variables\n",
    "        beta = np.concatenate((beta_info, np.zeros(self.n_dim - self.n_info)), axis = 0)\n",
    "\n",
    "        ##5. generate the Gaussian random noise\n",
    "        noise = np.random.normal(0, 1, self.sample_size)\n",
    "\n",
    "        #transform Gaussian random noise into a column\n",
    "        #transform regression coefficients in DGP into a row (based on the requirement of np.inner )\n",
    "        noise.shape = (self.sample_size, 1); beta.shape = (1, self.n_dim)\n",
    "\n",
    "        ##6. generate Y by adding random noise with the inner product of X and beta\n",
    "        Y = np.inner(X,beta) + noise\n",
    "\n",
    "        return X, Y"
   ]
  },
  {
   "cell_type": "markdown",
   "id": "ethical-camel",
   "metadata": {
    "pycharm": {
     "name": "#%% md\n"
    }
   },
   "source": [
    "---\n",
    "## Now we show the output of key steps in \"bsolar_parallel.py\"\n",
    "* <font size=\"4.5\"> using a parallel for-loop (coded with Joblib), bsolar trains a solar on each random subsample (based on a child random seed)</font>\n",
    "\n",
    "## #1. firstly,  we only run the parallel for-loop once and check \n",
    "* <font size=\"4.5\"> the random seed generation </font>\n",
    "* <font size=\"4.5\"> the solar result on the first subsample </font>\n",
    "* <font size=\"4.5\"> the variable \"qhat_k\" that we use to represent which variable is picked by solar </font>\n",
    "\n",
    "### after turning step 3 and 4 into comments, we only show the output of the first repetition in step 2."
   ]
  },
  {
   "cell_type": "code",
   "execution_count": 5,
   "id": "hired-conservative",
   "metadata": {
    "pycharm": {
     "name": "#%%\n"
    }
   },
   "outputs": [],
   "source": [
    "class bsolar:\n",
    "\n",
    "    def __init__(self, X, Y, n_repeat_solar, n_repeat_bsolar, step_size, rnd=0):\n",
    "        # for convinience, we define the common variable (variables we need to use for each of the following functions) in the class as follows (the common variable is defined as self.xxxx)\n",
    "\n",
    "        # sample size\n",
    "        self.sample_size = X.shape[0]\n",
    "        # the number of subsamples generated in solar\n",
    "        self.n_repeat_solar = n_repeat_solar\n",
    "        # the number of subsamples generated in bsolar\n",
    "        self.n_repeat_bsolar = n_repeat_bsolar\n",
    "        # (grid search) step size for tuning the threshold of subsample selection frequency for bsolar\n",
    "        self.step_size = -0.02\n",
    "        # the Numpy random seed for replication\n",
    "        self.rnd = rnd \n",
    "        # the size of each subsample\n",
    "        self.subsample_size = int(self.sample_size * 0.9)\n",
    "        # the number of total variables in X\n",
    "        self.n_dim = X.shape[1]\n",
    "        # the maximum value of c in its grid search (for plotting only)\n",
    "        self.q_start = 1\n",
    "        # the minimum value of c in its grid search (for plotting only)\n",
    "        self.q_end = 0.1\n",
    "        # step size of c in its grid search (for plotting only)\n",
    "        self.q_step = -0.02\n",
    "        # the sample we generate via data-generating process\n",
    "        self.X = X; self.y = Y\n",
    "\n",
    "    def fit(self):\n",
    "\n",
    "        #1. construct a placeholder called 'qhat_k_container', which is the list of all qhat^k (a binary string representing whether each variable is selected by solar on subsample k) of each subsample\n",
    "        qhat_k_container = list()\n",
    "\n",
    "        #2. train a solar on each subsample, find out which variable is selected on a given sample and save the corresponding selection result on subsample k as qhat^k\n",
    "\n",
    "        # parallel computing starts\n",
    "        # 2a. to make parallel computing replicable, set random seeds\n",
    "        np.random.seed(self.rnd)\n",
    "\n",
    "        # 2b. Spawn off child seed sequences to pass to child processes.\n",
    "        seeds = np.random.randint(2e8, size=self.n_repeat_bsolar)\n",
    "\n",
    "        # 2c. first we define what we do in each stage of the loop\n",
    "        def loop_fun(self, j, seeds, qhat_k_container):\n",
    "\n",
    "            # 2c(1). fix random seed for replication\n",
    "            np.random.seed(seeds[j])\n",
    "\n",
    "            # 2c(2). randomly choose a subset of sample points (whose index is 'index_subsample') and use them to generate a subsample in the given repeat of for-loop\n",
    "            index_subsample = np.random.choice(self.sample_size, self.subsample_size, replace=False)\n",
    "            # 2c(3). based on 'index_subsample', take the corresponding observations of X as the \"X_subample\"\n",
    "            X_subsample = self.X[index_subsample]\n",
    "            # 2c(4).based on 'index_subsample', take the corresponding observations of Y out and save them as the subample\n",
    "            y_subsample = self.y[index_subsample]\n",
    "            # 2c(5). change dimension for solar training\n",
    "            y_subsample.shape = (y_subsample.shape[0],1)\n",
    "            # 2c(6). given a subsample, compute solar on it\n",
    "            # call the class 'solar'\n",
    "            trial2 = solar( X_subsample, y_subsample, self.n_repeat_solar, self.step_size, lasso=False)\n",
    "            # compute solar on the subsample\n",
    "            solar_coef, _, _, _, _, _, _, _,_ = trial2.fit()\n",
    "            # save the active set of solar on this subsample (indices of variables select by solar) as 'active'.\n",
    "            active = np.nonzero(solar_coef)[0]\n",
    "            # 2c(7). based on the active set of solar, we compute qhat^k as the binary string of whether each variable is selected by solar on subsample K\n",
    "            # we generate 'qhat_k' as a row of zeros;\n",
    "            qhat_k = np.zeros((1, self.n_dim))\n",
    "            # if a variable (the ith column in matrix X) is selected by solar, we change the ith value of qhat_k as 1\n",
    "            for i in active:\n",
    "\n",
    "                qhat_k[0, i] = 1\n",
    "\n",
    "            # we append the result into 'qhat_k_container' and save it as one element of the list\n",
    "            qhat_k_container.append(qhat_k)\n",
    "        \n",
    "            return seeds, active, qhat_k_container\n",
    "        \n",
    "        seeds, active, qhat_k_container = loop_fun(self, 0, seeds, qhat_k_container)\n",
    "        \n",
    "        return seeds, active, qhat_k_container\n",
    "        \n",
    "        '''\n",
    "        # 2d. parallel the whole for-loop using the function we define previously and save the result\n",
    "        qhat_k_container = Parallel(n_jobs=-1, prefer=\"processes\")(delayed(loop_fun)(self, j, seeds, qhat_k_container) for j in range(self.n_repeat_bsolar))\n",
    "\n",
    "        # 3. compute the subsample selection frequency for all variables\n",
    "        # 3a. we transform the list of all qhat^k ('qhat_k_container') into a matrix ('qhat_k_container_matrix')\n",
    "        # row of the matrix    : the qhat^k on a given subsample for all variables\n",
    "        # column of the matrix : the corresponding values of qhat^k for variable \"X_i\" on all subsamples\n",
    "        # axis =0  means that we treat each item as a row;\n",
    "        qhat_k_container_matrix = np.concatenate(qhat_k_container, axis=0)\n",
    "        # 3b. compute the the value of qhat for each variable (the subsample selection frequency of each variable)\n",
    "        # e.g., compute the mean of each column\n",
    "        qhat_value = np.mean(qhat_k_container_matrix, axis=0)\n",
    "        # 3c. set 'Qc_list' as the container for the subsample selection frequencies for all variables, ranking in decreasing order.\n",
    "        Qc_list = list()\n",
    "        # 3d. set 'c_seq' as the sequence of c (the threshold of subsample selection frequency in bsolar)\n",
    "        c_seq = np.arange(1, 0.1, -0.02)\n",
    "        # 3e. for each value of c, generate Q(c) --- the set of variables with subsample selection frequency larger or equal to c\n",
    "        for j in c_seq:\n",
    "            # 3e(1). define 'container' as the placeholder of Q(c) when c == j;\n",
    "            container = list()\n",
    "\n",
    "            for i in range(self.X.shape[1]):\n",
    "                # 3e(2). include all variables into 'container' if their corresponding values in q-hat are larger or equal to j;\n",
    "                if (qhat_value[0][i] >= j):\n",
    "\n",
    "                    container.append(i)\n",
    "            # 3e(3). append 'container' (Q(c) when c == j) into 'Qc_list' (the container of Q(c) for all value of c);\n",
    "            Qc_list.append(container)\n",
    "\n",
    "        # 4. pick the variable that are selected most of the time;\n",
    "        # 4a. if it is bsolar-S, choose c = 0.9\n",
    "        Q_opt_c_S = Qc_list[5]\n",
    "        # if it is bsolar-H, choose c = 1\n",
    "        Q_opt_c_H = Qc_list[0]\n",
    "\n",
    "        # 5. output the bsolar-S result (Q_opt_c_S is the active set of bolasso-S)\n",
    "        # 5a. if Q_opt_c_S is empty, return a zero array and empty active set\n",
    "        if Q_opt_c_S == []:\n",
    "\n",
    "            bsolar_coef_S = np.zeros([self.n_dim, 1])\n",
    "        # 5b. otherwise, regress Y onto the selected variables in X (variables in Q_opt_c_S)\n",
    "        else :\n",
    "            # 5b(1). call the LinearRegression class;\n",
    "            OLS_S = LinearRegression()\n",
    "            # 5b(2). fit OLS of Y to the variables of Q_opt_c_S on X;\n",
    "            OLS_S.fit(self.X[:, Q_opt_c_S], self.y)\n",
    "            # 5b(3). set 'bsolar_coef_S' (an array of zeros) as the placeholder of bsolar-S regression coefficents\n",
    "            bsolar_coef_S = np.zeros([self.n_dim, 1])\n",
    "            # 5b(4). put the estimated regression coefficents into their corresponding place of 'bsolarS_coef'\n",
    "            bsolar_coef_S[Q_opt_c_S, 0] = OLS_S.coef_\n",
    "\n",
    "        # 5c. output the bsolar-H result (Q_opt_c_H is the active set of bolasso-H)\n",
    "        # if Q_opt_c_H is empty, return a zero array and empty active set\n",
    "        if Q_opt_c_H == []:\n",
    "\n",
    "            bsolar_coef_H = np.zeros([self.n_dim, 1])\n",
    "        # 5d. otherwise, regress Y onto the selected variables in X (variables in Q_opt_c_H)\n",
    "        else :\n",
    "            # 5d(1). call the LinearRegression class;\n",
    "            OLS_H = LinearRegression()\n",
    "            # 5d(2). fit OLS of Y on the variables of Q(c*) in X;\n",
    "            OLS_H.fit(self.X[:, Q_opt_c_H], self.y)\n",
    "            # 5d(3). set 'bsolar_coef_H' (an array of zeros) as the placeholder of bsolar regression coefficents\n",
    "            bsolar_coef_H = np.zeros([self.n_dim, 1])\n",
    "            # 5d(4). put the estimated regression coefficents into their corresponding place of 'bsolarH_coef'\n",
    "            bsolar_coef_H[Q_opt_c_H, 0] = OLS_H.coef_\n",
    "\n",
    "        return bsolar_coef_H, bsolar_coef_S, Qc_list, Q_opt_c_H, Q_opt_c_S\n",
    "\n",
    "    # return the full list of subsample selection frequency for each variable in bsolar\n",
    "    def q_list(self, Qc_list):\n",
    "\n",
    "        # 1. concatenate Qc_list into a matrix\n",
    "        var_mark_plot = np.concatenate(Qc_list)\n",
    "        # 2. compute the value of c for each Q(c) and the corresponding variables in each Q(c)\n",
    "        var_index, counts = np.unique(var_mark_plot, return_counts=True)\n",
    "\n",
    "        var_index_ordered = [x for _, x in sorted(zip(counts, var_index))]\n",
    "\n",
    "        var_plot = var_index_ordered[::-1]\n",
    "\n",
    "        cou_plot = np.sort(counts)[::-1] / \\\n",
    "            ((self.q_end - self.q_start) / self.q_step)\n",
    "\n",
    "        var_plot = ['X' + str(i) for i in var_plot]\n",
    "\n",
    "        # 3. print the list of variables with different value of c\n",
    "\n",
    "        var_loc_list = list()\n",
    "        var_q_list = list()\n",
    "\n",
    "        q_value_list = np.unique(cou_plot)[::-1]\n",
    "\n",
    "        i = 1\n",
    "\n",
    "        for j in q_value_list:\n",
    "\n",
    "            ans_ind = np.where([cou_plot == j])[1]\n",
    "            ans_var = [var_plot[i] for i in ans_ind]\n",
    "\n",
    "            var_loc_list.append(ans_ind)\n",
    "            var_q_list.append(ans_var)\n",
    "\n",
    "            print('selection frequency >= ', j)\n",
    "            print(var_q_list[:i])\n",
    "\n",
    "            i += 1\n",
    "\n",
    "        '''"
   ]
  },
  {
   "cell_type": "markdown",
   "id": "forbidden-foster",
   "metadata": {
    "pycharm": {
     "name": "#%% md\n"
    }
   },
   "source": [
    "### now run the function above under the following simulation setting"
   ]
  },
  {
   "cell_type": "code",
   "execution_count": 6,
   "id": "infinite-passport",
   "metadata": {
    "pycharm": {
     "name": "#%%\n"
    }
   },
   "outputs": [],
   "source": [
    "sample_size     = 20\n",
    "n_dim           = 12\n",
    "n_info          = 5\n",
    "n_repeat_solar  = 10\n",
    "n_repeat_bsolar = 3\n",
    "step_size       = -0.02\n",
    "\n",
    "np.random.seed(0)\n",
    "\n",
    "# generate X and Y\n",
    "trial1 = simul(sample_size, n_dim, n_info)\n",
    "X, Y = trial1.data_gen()\n",
    "\n",
    "# train bsolar\n",
    "trial2 = bsolar(X, Y, n_repeat_solar, n_repeat_bsolar, step_size)\n",
    "\n",
    "seeds, active, qhat_k_container = trial2.fit()"
   ]
  },
  {
   "cell_type": "markdown",
   "id": "oriented-wallet",
   "metadata": {
    "pycharm": {
     "name": "#%% md\n"
    }
   },
   "source": [
    "## Now let's check the result\n",
    "\n",
    "### all 3 random seeds for each solar repetition in bsolar-3"
   ]
  },
  {
   "cell_type": "code",
   "execution_count": 7,
   "id": "electric-pathology",
   "metadata": {
    "pycharm": {
     "name": "#%%\n"
    }
   },
   "outputs": [
    {
     "name": "stdout",
     "output_type": "stream",
     "text": [
      "[130329135 118924917 136432832]\n"
     ]
    }
   ],
   "source": [
    "print(seeds)"
   ]
  },
  {
   "cell_type": "markdown",
   "id": "labeled-platinum",
   "metadata": {
    "pycharm": {
     "name": "#%% md\n"
    }
   },
   "source": [
    "## check the solar active set on the first subsample"
   ]
  },
  {
   "cell_type": "code",
   "execution_count": 8,
   "id": "organic-criminal",
   "metadata": {
    "pycharm": {
     "name": "#%%\n"
    }
   },
   "outputs": [
    {
     "name": "stdout",
     "output_type": "stream",
     "text": [
      "the active set of solar : [0 1 2 3 4 5 6 7 8 9]\n"
     ]
    }
   ],
   "source": [
    "print(\"the active set of solar :\", active)"
   ]
  },
  {
   "cell_type": "markdown",
   "id": "defined-memphis",
   "metadata": {
    "pycharm": {
     "name": "#%% md\n"
    }
   },
   "source": [
    "## check variable \"qhat_k\" on the first subsample\n",
    "\n",
    "* <font size=\"4.5\"> if you find the $i^{th}$ value in \"qhat_k\" is 1, the $i^{th}$ variable is selected on this bootstrap sample</font>"
   ]
  },
  {
   "cell_type": "code",
   "execution_count": 9,
   "id": "moved-stuart",
   "metadata": {
    "pycharm": {
     "name": "#%%\n"
    }
   },
   "outputs": [
    {
     "name": "stdout",
     "output_type": "stream",
     "text": [
      "the qhat for each varaible in X on the first bootstrap sample\n",
      "[array([[1., 1., 1., 1., 1., 1., 1., 1., 1., 1., 0., 0.]])]\n"
     ]
    }
   ],
   "source": [
    "print(\"the qhat for each varaible in X on the first bootstrap sample\")\n",
    "print(qhat_k_container)"
   ]
  },
  {
   "cell_type": "markdown",
   "id": "extended-doubt",
   "metadata": {
    "pycharm": {
     "name": "#%% md\n"
    }
   },
   "source": [
    "---\n",
    "\n",
    "## #2. now, let's check \n",
    "* <font size=\"4.5\"> the qhat for all solar repetitions </font>\n",
    "* <font size=\"4.5\"> the subsample selection frequency of all variables </font>\n",
    "* <font size=\"4.5\"> active set of bsolar3-S and bsolar3-H </font>\n",
    "\n",
    "### we turning the last step into comments since it only produces the post-bsolar OLS coefficients."
   ]
  },
  {
   "cell_type": "code",
   "execution_count": 10,
   "id": "herbal-windows",
   "metadata": {
    "pycharm": {
     "name": "#%%\n"
    }
   },
   "outputs": [],
   "source": [
    "class bsolar:\n",
    "\n",
    "    def __init__(self, X, Y, n_repeat_solar, n_repeat_bsolar, step_size, rnd=0):\n",
    "        # for convinience, we define the common variable (variables we need to use for each of the following functions) in the class as follows (the common variable is defined as self.xxxx)\n",
    "\n",
    "        # sample size\n",
    "        self.sample_size = X.shape[0]\n",
    "        # the number of subsamples generated in solar\n",
    "        self.n_repeat_solar = n_repeat_solar\n",
    "        # the number of subsamples generated in bsolar\n",
    "        self.n_repeat_bsolar = n_repeat_bsolar\n",
    "        # (grid search) step size for tuning the threshold of subsample selection frequency for bsolar\n",
    "        self.step_size = -0.02\n",
    "        # the Numpy random seed for replication\n",
    "        self.rnd = rnd \n",
    "        # the size of each subsample\n",
    "        self.subsample_size = int(self.sample_size * 0.9)\n",
    "        # the number of total variables in X\n",
    "        self.n_dim = X.shape[1]\n",
    "        # the maximum value of c in its grid search (for plotting only)\n",
    "        self.q_start = 1\n",
    "        # the minimum value of c in its grid search (for plotting only)\n",
    "        self.q_end = 0.1\n",
    "        # step size of c in its grid search (for plotting only)\n",
    "        self.q_step = -0.02\n",
    "        # the sample we generate via data-generating process\n",
    "        self.X = X; self.y = Y\n",
    "\n",
    "    def fit(self):\n",
    "\n",
    "        #1. construct a placeholder called 'qhat_k_container', which is the list of all qhat^k (a binary string representing whether each variable is selected by solar on subsample k) of each subsample\n",
    "        qhat_k_container = list()\n",
    "\n",
    "        #2. train a solar on each subsample, find out which variable is selected on a given sample and save the corresponding selection result on subsample k as qhat^k\n",
    "\n",
    "        # parallel computing starts\n",
    "        # 2a. to make parallel computing replicable, set random seeds\n",
    "        np.random.seed(self.rnd)\n",
    "\n",
    "        # 2b. Spawn off child seed sequences to pass to child processes.\n",
    "        seeds = np.random.randint(2e8, size=self.n_repeat_bsolar)\n",
    "\n",
    "        # 2c. first we define what we do in each stage of the loop\n",
    "        def loop_fun(self, j, seeds, qhat_k_container):\n",
    "\n",
    "            # 2c(1). fix random seed for replication\n",
    "            np.random.seed(seeds[j])\n",
    "\n",
    "            # 2c(2). randomly choose a subset of sample points (whose index is 'index_subsample') and use them to generate a subsample in the given repeat of for-loop\n",
    "            index_subsample = np.random.choice(self.sample_size, self.subsample_size, replace=False)\n",
    "            # 2c(3). based on 'index_subsample', take the corresponding observations of X as the \"X_subample\"\n",
    "            X_subsample = self.X[index_subsample]\n",
    "            # 2c(4).based on 'index_subsample', take the corresponding observations of Y out and save them as the subample\n",
    "            y_subsample = self.y[index_subsample]\n",
    "            # 2c(5). change dimension for solar training\n",
    "            y_subsample.shape = (y_subsample.shape[0],1)\n",
    "            # 2c(6). given a subsample, compute solar on it\n",
    "            # call the class 'solar'\n",
    "            trial2 = solar( X_subsample, y_subsample, self.n_repeat_solar, self.step_size, lasso=False)\n",
    "            # compute solar on the subsample\n",
    "            solar_coef, _, _, _, _, _, _, _,_ = trial2.fit()\n",
    "            # save the active set of solar on this subsample (indices of variables select by solar) as 'active'.\n",
    "            active = np.nonzero(solar_coef)[0]\n",
    "            # 2c(7). based on the active set of solar, we compute qhat^k as the binary string of whether each variable is selected by solar on subsample K\n",
    "            # we generate 'qhat_k' as a row of zeros;\n",
    "            qhat_k = np.zeros((1, self.n_dim))\n",
    "            # if a variable (the ith column in matrix X) is selected by solar, we change the ith value of qhat_k as 1\n",
    "            for i in active:\n",
    "\n",
    "                qhat_k[0, i] = 1\n",
    "\n",
    "            # we append the result into 'qhat_k_container' and save it as one element of the list\n",
    "            qhat_k_container.append(qhat_k)\n",
    "        \n",
    "            return qhat_k_container\n",
    "        \n",
    "        # 2d. parallel the whole for-loop using the function we define previously and save the result\n",
    "        qhat_k_container = Parallel(n_jobs=-1, prefer=\"processes\")(delayed(loop_fun)(self, j, seeds, qhat_k_container) for j in range(self.n_repeat_bsolar))\n",
    "\n",
    "        # 3. compute the subsample selection frequency for all variables\n",
    "        # 3a. we transform the list of all qhat^k ('qhat_k_container') into a matrix ('qhat_k_container_matrix')\n",
    "        # row of the matrix    : the qhat^k on a given subsample for all variables\n",
    "        # column of the matrix : the corresponding values of qhat^k for variable \"X_i\" on all subsamples\n",
    "        # axis =0  means that we treat each item as a row;\n",
    "        qhat_k_container_matrix = np.concatenate(qhat_k_container, axis=0)\n",
    "        # 3b. compute the the value of qhat for each variable (the subsample selection frequency of each variable)\n",
    "        # e.g., compute the mean of each column\n",
    "        qhat_value = np.mean(qhat_k_container_matrix, axis=0)\n",
    "        # 3c. set 'Qc_list' as the container for the subsample selection frequencies for all variables, ranking in decreasing order.\n",
    "        Qc_list = list()\n",
    "        # 3d. set 'c_seq' as the sequence of c (the threshold of subsample selection frequency in bsolar)\n",
    "        c_seq = np.arange(1, 0.1, -0.02)\n",
    "        # 3e. for each value of c, generate Q(c) --- the set of variables with subsample selection frequency larger or equal to c\n",
    "        for j in c_seq:\n",
    "            # 3e(1). define 'container' as the placeholder of Q(c) when c == j;\n",
    "            container = list()\n",
    "\n",
    "            for i in range(self.X.shape[1]):\n",
    "                # 3e(2). include all variables into 'container' if their corresponding values in q-hat are larger or equal to j;\n",
    "                if (qhat_value[0][i] >= j):\n",
    "\n",
    "                    container.append(i)\n",
    "            # 3e(3). append 'container' (Q(c) when c == j) into 'Qc_list' (the container of Q(c) for all value of c);\n",
    "            Qc_list.append(container)\n",
    "\n",
    "        # 4. pick the variable that are selected most of the time;\n",
    "        # 4a. if it is bsolar-S, choose c = 0.9\n",
    "        Q_opt_c_S = Qc_list[5]\n",
    "        # if it is bsolar-H, choose c = 1\n",
    "        Q_opt_c_H = Qc_list[0]\n",
    "        \n",
    "        return qhat_k_container, qhat_value, Qc_list, Q_opt_c_H, Q_opt_c_S\n",
    "        \n",
    "        '''\n",
    "        # 5. output the bsolar-S result (Q_opt_c_S is the active set of bolasso-S)\n",
    "        # 5a. if Q_opt_c_S is empty, return a zero array and empty active set\n",
    "        if Q_opt_c_S == []:\n",
    "\n",
    "            bsolar_coef_S = np.zeros([self.n_dim, 1])\n",
    "        # 5b. otherwise, regress Y onto the selected variables in X (variables in Q_opt_c_S)\n",
    "        else :\n",
    "            # 5b(1). call the LinearRegression class;\n",
    "            OLS_S = LinearRegression()\n",
    "            # 5b(2). fit OLS of Y to the variables of Q_opt_c_S on X;\n",
    "            OLS_S.fit(self.X[:, Q_opt_c_S], self.y)\n",
    "            # 5b(3). set 'bsolar_coef_S' (an array of zeros) as the placeholder of bsolar-S regression coefficents\n",
    "            bsolar_coef_S = np.zeros([self.n_dim, 1])\n",
    "            # 5b(4). put the estimated regression coefficents into their corresponding place of 'bsolarS_coef'\n",
    "            bsolar_coef_S[Q_opt_c_S, 0] = OLS_S.coef_\n",
    "\n",
    "        # 5c. output the bsolar-H result (Q_opt_c_H is the active set of bolasso-H)\n",
    "        # if Q_opt_c_H is empty, return a zero array and empty active set\n",
    "        if Q_opt_c_H == []:\n",
    "\n",
    "            bsolar_coef_H = np.zeros([self.n_dim, 1])\n",
    "        # 5d. otherwise, regress Y onto the selected variables in X (variables in Q_opt_c_H)\n",
    "        else :\n",
    "            # 5d(1). call the LinearRegression class;\n",
    "            OLS_H = LinearRegression()\n",
    "            # 5d(2). fit OLS of Y on the variables of Q(c*) in X;\n",
    "            OLS_H.fit(self.X[:, Q_opt_c_H], self.y)\n",
    "            # 5d(3). set 'bsolar_coef_H' (an array of zeros) as the placeholder of bsolar regression coefficents\n",
    "            bsolar_coef_H = np.zeros([self.n_dim, 1])\n",
    "            # 5d(4). put the estimated regression coefficents into their corresponding place of 'bsolarH_coef'\n",
    "            bsolar_coef_H[Q_opt_c_H, 0] = OLS_H.coef_\n",
    "\n",
    "        return bsolar_coef_H, bsolar_coef_S, Qc_list, Q_opt_c_H, Q_opt_c_S\n",
    "\n",
    "    # return the full list of subsample selection frequency for each variable in bsolar\n",
    "    def q_list(self, Qc_list):\n",
    "\n",
    "        # 1. concatenate Qc_list into a matrix\n",
    "        var_mark_plot = np.concatenate(Qc_list)\n",
    "        # 2. compute the value of c for each Q(c) and the corresponding variables in each Q(c)\n",
    "        var_index, counts = np.unique(var_mark_plot, return_counts=True)\n",
    "\n",
    "        var_index_ordered = [x for _, x in sorted(zip(counts, var_index))]\n",
    "\n",
    "        var_plot = var_index_ordered[::-1]\n",
    "\n",
    "        cou_plot = np.sort(counts)[::-1] / \\\n",
    "            ((self.q_end - self.q_start) / self.q_step)\n",
    "\n",
    "        var_plot = ['X' + str(i) for i in var_plot]\n",
    "\n",
    "        # 3. print the list of variables with different value of c\n",
    "\n",
    "        var_loc_list = list()\n",
    "        var_q_list = list()\n",
    "\n",
    "        q_value_list = np.unique(cou_plot)[::-1]\n",
    "\n",
    "        i = 1\n",
    "\n",
    "        for j in q_value_list:\n",
    "\n",
    "            ans_ind = np.where([cou_plot == j])[1]\n",
    "            ans_var = [var_plot[i] for i in ans_ind]\n",
    "\n",
    "            var_loc_list.append(ans_ind)\n",
    "            var_q_list.append(ans_var)\n",
    "\n",
    "            print('selection frequency >= ', j)\n",
    "            print(var_q_list[:i])\n",
    "\n",
    "            i += 1\n",
    "\n",
    "        '''"
   ]
  },
  {
   "cell_type": "markdown",
   "id": "collectible-contrary",
   "metadata": {
    "pycharm": {
     "name": "#%% md\n"
    }
   },
   "source": [
    "### now run the function above under the following simulation setting"
   ]
  },
  {
   "cell_type": "code",
   "execution_count": 11,
   "id": "supposed-response",
   "metadata": {
    "pycharm": {
     "name": "#%%\n"
    }
   },
   "outputs": [],
   "source": [
    "sample_size     = 100\n",
    "n_dim           = 12\n",
    "n_info          = 5\n",
    "n_repeat_solar  = 10\n",
    "n_repeat_bsolar = 3\n",
    "step_size       = -0.02\n",
    "\n",
    "np.random.seed(0)\n",
    "\n",
    "# generate X and Y\n",
    "trial1 = simul(sample_size, n_dim, n_info)\n",
    "X, Y = trial1.data_gen()\n",
    "\n",
    "# train bsolar\n",
    "trial2 = bsolar(X, Y, n_repeat_solar, n_repeat_bsolar, step_size)\n",
    "\n",
    "qhat_k_container, qhat_value, Qc_list, Q_opt_c_H, Q_opt_c_S = trial2.fit()"
   ]
  },
  {
   "cell_type": "markdown",
   "id": "ready-christmas",
   "metadata": {
    "pycharm": {
     "name": "#%% md\n"
    }
   },
   "source": [
    "## Now let's check the result\n",
    "\n",
    "### the qhat for first 3 subsamples of bsolar-3"
   ]
  },
  {
   "cell_type": "code",
   "execution_count": 12,
   "id": "nutritional-religious",
   "metadata": {
    "pycharm": {
     "name": "#%%\n"
    }
   },
   "outputs": [
    {
     "data": {
      "text/plain": [
       "[[array([[1., 1., 1., 1., 1., 0., 0., 0., 0., 0., 0., 0.]])],\n",
       " [array([[1., 1., 1., 1., 1., 0., 1., 0., 1., 0., 0., 0.]])],\n",
       " [array([[1., 1., 1., 1., 1., 0., 0., 0., 0., 0., 0., 0.]])]]"
      ]
     },
     "execution_count": 12,
     "metadata": {},
     "output_type": "execute_result"
    }
   ],
   "source": [
    "qhat_k_container[0:3]"
   ]
  },
  {
   "cell_type": "markdown",
   "id": "international-brain",
   "metadata": {
    "pycharm": {
     "name": "#%% md\n"
    }
   },
   "source": [
    "### the subsample selection frequency of each varaible on 256 subsamples"
   ]
  },
  {
   "cell_type": "code",
   "execution_count": 13,
   "id": "forward-exclusion",
   "metadata": {
    "pycharm": {
     "name": "#%%\n"
    }
   },
   "outputs": [
    {
     "name": "stdout",
     "output_type": "stream",
     "text": [
      "[[1.         1.         1.         1.         1.         0.\n",
      "  0.33333333 0.         0.33333333 0.         0.         0.        ]]\n"
     ]
    }
   ],
   "source": [
    "print(qhat_value)"
   ]
  },
  {
   "cell_type": "markdown",
   "id": "rural-harassment",
   "metadata": {
    "pycharm": {
     "name": "#%% md\n"
    }
   },
   "source": [
    "### the correpsonding barplot"
   ]
  },
  {
   "cell_type": "code",
   "execution_count": 14,
   "id": "postal-insurance",
   "metadata": {
    "pycharm": {
     "name": "#%%\n"
    }
   },
   "outputs": [
    {
     "data": {
      "image/png": "[encoded data removed]",
      "text/plain": [
       "<Figure size 864x216 with 1 Axes>"
      ]
     },
     "metadata": {
      "needs_background": "light"
     },
     "output_type": "display_data"
    }
   ],
   "source": [
    "ind = np.arange(12)\n",
    "\n",
    "fig, ax = plt.subplots(figsize=(12,3))\n",
    "\n",
    "ax.bar(ind, qhat_value[0], 0.35, edgecolor=\"black\", color=\"white\")\n",
    "ax.hlines(1, -1, 13, linewidth=3, color='red', linestyles='dashed')\n",
    "ax.hlines(0.9, -1, 13, linewidth=3, color='green', linestyles='dashed')\n",
    "\n",
    "ax.set_xlim([-0.5, 11.5])\n",
    "ax.set_ylim([0.3, 1.02])\n",
    "\n",
    "ax.xaxis.set_major_locator(MaxNLocator(integer=True))\n",
    "\n",
    "plt.xlabel(\"the index of each varaible in X\")\n",
    "plt.ylabel(\"subsample selection frequency\")\n",
    "\n",
    "plt.show()"
   ]
  },
  {
   "cell_type": "markdown",
   "id": "cosmetic-junior",
   "metadata": {
    "pycharm": {
     "name": "#%% md\n"
    }
   },
   "source": [
    "## check the active set of bsolar"
   ]
  },
  {
   "cell_type": "code",
   "execution_count": 15,
   "id": "determined-beijing",
   "metadata": {
    "pycharm": {
     "name": "#%%\n"
    }
   },
   "outputs": [
    {
     "name": "stdout",
     "output_type": "stream",
     "text": [
      "the active set with f=1.0 : [0, 1, 2, 3, 4]\n"
     ]
    }
   ],
   "source": [
    "print(\"the active set with f=1.0 :\", Q_opt_c_H)"
   ]
  },
  {
   "cell_type": "code",
   "execution_count": 16,
   "id": "processed-israeli",
   "metadata": {
    "pycharm": {
     "name": "#%%\n"
    }
   },
   "outputs": [
    {
     "name": "stdout",
     "output_type": "stream",
     "text": [
      "the active set with f=0.9 : [0, 1, 2, 3, 4]\n"
     ]
    }
   ],
   "source": [
    "print(\"the active set with f=0.9 :\", Q_opt_c_S)"
   ]
  },
  {
   "cell_type": "markdown",
   "id": "least-manual",
   "metadata": {
    "pycharm": {
     "name": "#%% md\n"
    }
   },
   "source": [
    "## finaly, producing this into html"
   ]
  },
  {
   "cell_type": "code",
   "execution_count": 1,
   "id": "cooked-netscape",
   "metadata": {
    "pycharm": {
     "name": "#%%\n"
    }
   },
   "outputs": [
    {
     "name": "stdout",
     "output_type": "stream",
     "text": [
      "[NbConvertApp] Converting notebook bsolar_walkthrough.ipynb to html\n",
      "[NbConvertApp] Writing 675806 bytes to bsolar_walkthrough.html\n"
     ]
    }
   ],
   "source": [
    "!rm -rf bsolar_walkthrough.html\n",
    "!jupyter nbconvert --to html bsolar_walkthrough.ipynb "
   ]
  },
  {
   "cell_type": "code",
   "execution_count": null,
   "id": "japanese-tender",
   "metadata": {
    "pycharm": {
     "name": "#%%\n"
    }
   },
   "outputs": [],
   "source": []
  }
 ],
 "metadata": {
  "kernelspec": {
   "display_name": "Python 3 (ipykernel)",
   "language": "python",
   "name": "python3"
  },
  "language_info": {
   "codemirror_mode": {
    "name": "ipython",
    "version": 3
   },
   "file_extension": ".py",
   "mimetype": "text/x-python",
   "name": "python",
   "nbconvert_exporter": "python",
   "pygments_lexer": "ipython3",
   "version": "3.9.12"
  }
 },
 "nbformat": 4,
 "nbformat_minor": 5
}
