{
 "cells": [
  {
   "cell_type": "markdown",
   "id": "bound-quarterly",
   "metadata": {},
   "source": [
    "<center><h1> bolasso demonstration </h1></center>\n",
    "\n",
    "## In this file, we carefully show the output of the key steps in \"bolasso_parallel.py\" (the parallel version of bolasso)\n"
   ]
  },
  {
   "cell_type": "markdown",
   "id": "ba094797-ffb8-496d-9626-19bcad1f5a56",
   "metadata": {},
   "source": [
    "---\n",
    "\n",
    "## Check the following before running the code\n",
    "\n",
    "### (a) Read \"README.pdf\" in this folder first, which introduces the package\n",
    "\n",
    "### (b) Before replication, delete all .p files in the \"./numerical_result\" folder. The .p files record the numerical results of the our computation.\n",
    "\n",
    "### (c) To avoid confusion, reset your kernel before you running the notebook (to clear memory): \n",
    "* <font size=\"4.5\"> In Jupyter Notebook/Lab : go to Menu \"Kernel\" $\\rightarrow$ \"Restart Kernel and clear all outputs\". </font> \n",
    "\n",
    "### (d) To evaluate the code for simulation replication in Jupyter Notebook/Lab,\n",
    "* <font size=\"4.5\"> click : Menu \"Kernel\" $\\rightarrow$ \"Restart Kernel and Run All Cells\" </font>\n",
    "* <font size=\"4.5\"> or, select a cell of code, press \"shift\" and \"enter\". Run all cells to avoid errors </font>\n",
    "\n",
    "### (e) Check \"joblib\", \"scikit-learn\", \"numpy\", \"matplotlib\" and \"tqdm\" are installed. If not,\n",
    "* <font size=\"4.5\"> we highly recommend installing Anaconda3 version 2020-11 directly to avoid package management (all packages mentioned above are installed by default).</font>\n",
    "\n",
    "---"
   ]
  },
  {
   "cell_type": "markdown",
   "id": "surprising-circus",
   "metadata": {},
   "source": [
    "## Preparation 1: we import all the packages"
   ]
  },
  {
   "cell_type": "code",
   "execution_count": 1,
   "id": "southwest-exchange",
   "metadata": {},
   "outputs": [],
   "source": [
    "%reset -f\n",
    "\n",
    "import numpy             as np\n",
    "import matplotlib.pyplot as plt\n",
    "import time\n",
    "import warnings\n",
    "\n",
    "from matplotlib.ticker    import MaxNLocator\n",
    "from joblib               import Parallel, delayed\n",
    "from sklearn.linear_model import LassoLarsCV, LinearRegression\n",
    "from sklearn.exceptions   import ConvergenceWarning\n",
    "from sklearn              import preprocessing\n",
    "from importlib.metadata   import version\n",
    "\n",
    "assert version('scikit-learn') <= '1.2.0', \"Please make sure the scikit-learn version <= 1.2.0\"\n",
    "\n",
    "# For recent version of Scikit-learn: since the class 'Lars' may rely on the Cholesky decomposition and hence may have potential convergence warning in high dimensional data (p is much larger than n), we input the following commmand to skip the convergence warning.\n",
    "warnings.filterwarnings(\"ignore\", category=ConvergenceWarning, module=\"sklearn\")"
   ]
  },
  {
   "cell_type": "markdown",
   "id": "e4983019-3d14-41db-8c4a-0557d5c1ca9c",
   "metadata": {},
   "source": [
    "## make sure we use the Intel MKL C++/Fortran compiler for maximum performance."
   ]
  },
  {
   "cell_type": "code",
   "execution_count": 2,
   "id": "cc917a84-8027-41a7-9034-eef66074f38b",
   "metadata": {},
   "outputs": [
    {
     "data": {
      "text/plain": [
       "'Intel(R) oneAPI Math Kernel Library Version 2021.4-Product Build 20210904 for Intel(R) 64 architecture applications'"
      ]
     },
     "execution_count": 2,
     "metadata": {},
     "output_type": "execute_result"
    }
   ],
   "source": [
    "import mkl\n",
    "\n",
    "mkl.get_version_string()"
   ]
  },
  {
   "cell_type": "code",
   "execution_count": 3,
   "id": "fa9e7a0b-42c1-4bd1-b447-d449b882f5f5",
   "metadata": {},
   "outputs": [
    {
     "name": "stdout",
     "output_type": "stream",
     "text": [
      "This was obtained using the following Numpy configuration:\n",
      "blas_mkl_info:\n",
      "    libraries = ['mkl_rt', 'pthread']\n",
      "    library_dirs = ['/Users/ning/anaconda3/lib']\n",
      "    define_macros = [('SCIPY_MKL_H', None), ('HAVE_CBLAS', None)]\n",
      "    include_dirs = ['/Users/ning/anaconda3/include']\n",
      "blas_opt_info:\n",
      "    libraries = ['mkl_rt', 'pthread']\n",
      "    library_dirs = ['/Users/ning/anaconda3/lib']\n",
      "    define_macros = [('SCIPY_MKL_H', None), ('HAVE_CBLAS', None)]\n",
      "    include_dirs = ['/Users/ning/anaconda3/include']\n",
      "lapack_mkl_info:\n",
      "    libraries = ['mkl_rt', 'pthread']\n",
      "    library_dirs = ['/Users/ning/anaconda3/lib']\n",
      "    define_macros = [('SCIPY_MKL_H', None), ('HAVE_CBLAS', None)]\n",
      "    include_dirs = ['/Users/ning/anaconda3/include']\n",
      "lapack_opt_info:\n",
      "    libraries = ['mkl_rt', 'pthread']\n",
      "    library_dirs = ['/Users/ning/anaconda3/lib']\n",
      "    define_macros = [('SCIPY_MKL_H', None), ('HAVE_CBLAS', None)]\n",
      "    include_dirs = ['/Users/ning/anaconda3/include']\n",
      "Supported SIMD extensions in this NumPy install:\n",
      "    baseline = SSE,SSE2,SSE3\n",
      "    found = SSSE3,SSE41,POPCNT,SSE42,AVX,F16C,FMA3,AVX2\n",
      "    not found = AVX512F,AVX512CD,AVX512_KNL,AVX512_SKX,AVX512_CLX,AVX512_CNL,AVX512_ICL\n"
     ]
    }
   ],
   "source": [
    "print('This was obtained using the following Numpy configuration:')\n",
    "\n",
    "np.show_config()"
   ]
  },
  {
   "cell_type": "markdown",
   "id": "human-disposal",
   "metadata": {},
   "source": [
    "\n",
    "## Preparation 2 : we define the data generator for simulations (which is copied from \"simulator.py\")"
   ]
  },
  {
   "cell_type": "code",
   "execution_count": 4,
   "id": "alternative-bryan",
   "metadata": {},
   "outputs": [],
   "source": [
    "class simul:\n",
    "\n",
    "    def __init__(self, sample_size, n_dim, n_info):\n",
    "    ##for convinience, we define the common variable (variables we need to use for each of the following functions) in the class as follows (the common variable is defined as self.xxxx)\n",
    "\n",
    "        self.sample_size   = sample_size\n",
    "        self.n_dim         = n_dim\n",
    "        self.n_info        = n_info\n",
    "\n",
    "\n",
    "    #data-generating process\n",
    "    def data_gen(self):\n",
    "\n",
    "        ##1. generating the covariance matrix for X,\n",
    "        #we add a matrix full of 1/2 with an identity matrix multiplied with 1/2\n",
    "        a = np.ones((self.n_dim, self.n_dim)) * 0.5; A = np.eye(self.n_dim)*0.5\n",
    "\n",
    "        cov_x = a + A\n",
    "\n",
    "        ##2. generating the mean of each column in X (which is 0)\n",
    "        mean_x = np.zeros(self.n_dim)\n",
    "\n",
    "        ##3. generating X as a multivariate Gaussian\n",
    "        X = np.random.multivariate_normal(mean_x, cov_x, self.sample_size)\n",
    "\n",
    "        ##4. generate regression coefficients in DGP as an increasing sequence (2,3,4,5,6 in our paper)\n",
    "        beta_info = np.arange(2, self.n_info + 2)\n",
    "\n",
    "        #in DGP, generate regression coefficients of redundant variables as 0\n",
    "        #concatenate the regression coefficients of informative variables and redundant variables\n",
    "        beta = np.concatenate((beta_info, np.zeros(self.n_dim - self.n_info)), axis = 0)\n",
    "\n",
    "        ##5. generate the Gaussian random noise\n",
    "        noise = np.random.normal(0, 1, self.sample_size)\n",
    "\n",
    "        #transform Gaussian random noise into a column\n",
    "        #transform regression coefficients in DGP into a row (based on the requirement of np.inner )\n",
    "        noise.shape = (self.sample_size, 1); beta.shape = (1, self.n_dim)\n",
    "\n",
    "        ##6. generate Y by adding random noise with the inner product of X and beta\n",
    "        Y = np.inner(X,beta) + noise\n",
    "\n",
    "        return X, Y"
   ]
  },
  {
   "cell_type": "markdown",
   "id": "vertical-thong",
   "metadata": {},
   "source": [
    "---\n",
    "\n",
    "## Now we show the output of key steps in \"bolasso_parallel.py\"\n",
    "* <font size=\"4.5\"> using a parallel for-loop (coded with Joblib), bolasso trains a lasso on each bootstrap sample (based on a child random seed)</font>\n",
    "\n",
    "## #1. firstly,  we only run the parallel for-loop once and check \n",
    "* <font size=\"4.5\"> the random seed generation </font>\n",
    "* <font size=\"4.5\"> bootstrapping and bootstrap sample </font>\n",
    "* <font size=\"4.5\"> the lasso result on first bootstrap sample </font>\n",
    "* <font size=\"4.5\"> the variable \"qhat_k\" that we use to represent which variable is picked by lasso </font>\n",
    "\n",
    "### after turning step 3 and 4 into comments, we only show the output of the first repetition in step 2."
   ]
  },
  {
   "cell_type": "code",
   "execution_count": 5,
   "id": "pointed-investing",
   "metadata": {},
   "outputs": [],
   "source": [
    "class bolasso:\n",
    "\n",
    "    def __init__(self, X, Y, n_repeat_bolasso, rnd=0):\n",
    "        # for convinience, we define the common variable (variables we need to use for each of the following functions) in the class as follows (the common variable is defined as self.xxxx)\n",
    "\n",
    "        # sample size\n",
    "        self.sample_size = X.shape[0]\n",
    "        # the number of subsamples generated in bolasso\n",
    "        self.n_repeat_bolasso = n_repeat_bolasso\n",
    "        # the number of total variables in X\n",
    "        self.n_dim = X.shape[1]\n",
    "        # randome seeds for parallel computations\n",
    "        self.rnd = rnd\n",
    "        # the maximum value of subsample selection frequency for plotting\n",
    "        self.q_start = 1\n",
    "        # the minimum value of subsample selection frequency for plotting\n",
    "        self.q_end = 0.1\n",
    "        # the sample we generate via data-generating process\n",
    "        self.X = X; self.y = Y\n",
    "\n",
    "    def fit(self):\n",
    "\n",
    "        #1. construct a placeholder called 'qhat_k_container', which is the list of all qhat^k (a binary string representing whether each variable is selected by lasso on subsample k) of each subsample\n",
    "        qhat_k_container = list()\n",
    "\n",
    "        #2. train a lasso on each subsample, find out which variable is selected on a given sample and save the corresponding selection result on subsample k as qhat^k\n",
    "\n",
    "        #parallel computing starts\n",
    "        # 2a. to make parallel computing replicable, set random seeds\n",
    "        np.random.seed(self.rnd)\n",
    "        # 2b. spawn off child seed sequences to pass to child processes.\n",
    "        seeds = np.random.randint(1e8, size=self.n_repeat_bolasso)\n",
    "\n",
    "        # 2c. first we define what we do in each stage of the loop\n",
    "        def loop_fun(self, i, seeds, qhat_k_container):\n",
    "\n",
    "            # 2c(1). fix random seed for replication\n",
    "            np.random.seed(seeds[i])\n",
    "\n",
    "            # 2c(2). randomly choose a bootstrap set of sample points (whose index is 'index_subsample'); \n",
    "            # e.g. choosing n points from n points with replacement\n",
    "            index_subsample = np.random.choice(self.sample_size, self.sample_size, replace=True)\n",
    "            # 2c(3). based on the index \"index_subsample\", take the corresponding observations of X as \"X_subample\"\n",
    "            X_subsample = self.X[index_subsample]\n",
    "            # 2c(4). based on the index \"index_subsample\", take the corresponding observations of Y as \"y_subample\"\n",
    "            y_subsample = self.y[index_subsample]\n",
    "\n",
    "            # 2c(5). change dimension for the Sklearn lasso package.\n",
    "            y_subsample.shape = (y_subsample.shape[0],)\n",
    "            \n",
    "            #standardize training data\n",
    "            scaler = preprocessing.StandardScaler().fit(X_subsample)\n",
    "            X_subsample = scaler.transform(X_subsample)\n",
    "\n",
    "            # 2c(6). given a subsample, compute lasso and output the active set;\n",
    "            # call the lasso class and set the number of fold as 10\n",
    "            trial_1 = LassoLarsCV(cv=10, normalize=False)\n",
    "            # fit lasso on the subsample\n",
    "            trial_1.fit(X_subsample, y_subsample)\n",
    "            # save the lasso active set (indices of variables select by lassso) as 'active'.\n",
    "            active = trial_1.active_\n",
    "\n",
    "            # 2c(7). based on the active set of lasso, we compute qhat^k as the binary string of whether each variable is selected by lasso on subsample K\n",
    "            # we generate 'qhat_k' as a row of zeros;\n",
    "            qhat_k = np.zeros((1, self.n_dim))\n",
    "            # if a variable (the ith column in matrix X) is selected by lasso, we change the ith value of qhat_k (the ith column) as 1\n",
    "            for i in active:\n",
    "\n",
    "                qhat_k[0, i] = 1\n",
    "\n",
    "            # we append the result into 'qhat_k_container' as one element of the list\n",
    "            qhat_k_container.append(qhat_k)\n",
    "\n",
    "            return seeds, index_subsample, X_subsample, y_subsample, active, qhat_k_container\n",
    "        \n",
    "        seeds, index_subsample, X_subsample, y_subsample, active, qhat_k_container = loop_fun(self, 0, seeds, qhat_k_container)\n",
    "        \n",
    "        return seeds, index_subsample, X_subsample, y_subsample, active, qhat_k_container\n",
    "    \n",
    "    '''\n",
    "        # 2d. parallel the whole for-loop using the function we define previously and save the result\n",
    "        # prefer=\"processes\"  means that we prefer use processes\n",
    "        # n_jobs=-1           means we use all possible processes\n",
    "        qhat_k_container = Parallel(n_jobs=-1, prefer=\"processes\")(delayed(loop_fun)(self, i, seeds, qhat_k_container) for i in range(self.n_repeat_bolasso))\n",
    "\n",
    "        # 3. compute subsample selection frequency for all variables\n",
    "        # 3a. we transform the list of all q_hat^k ('qhat_k_container') into a matrix ('qhat_k_container_matrix')\n",
    "        # axis = 0 means we treat each item as a row in matrix;\n",
    "        # row of the matrix   : the q_hat^k on a given subsample for all variables;\n",
    "        # column of the matrix: the corresponding value of qhat^k for variable \"X_i\" on all subsamples;\n",
    "        qhat_k_container_matrix = np.concatenate(qhat_k_container, axis=0)\n",
    "\n",
    "        # 3b. compute the the value of qhat for each variable (the subsample selection frequency of each variable)\n",
    "        # e.g., compute the mean of each column \n",
    "        qhat_value = np.mean(qhat_k_container_matrix, axis=0)\n",
    "\n",
    "        # 3c. set 'Qc_list' as the container for the subsample selection frequencies of all variables, ranking in decreasing order.\n",
    "        Qc_list = list()\n",
    "        # 3d. set 'c_seq' as the sequence of subsample selection frequency in bolasso\n",
    "        q_step = -0.02  #when I need a detailed subsample frequency table, I take it as -0.01; otherwise, I use -0.02 to speed up the computation. This option virtually have no effect on runtime and accuracy on my PC.\n",
    "        c_seq = np.arange(1, 0.1, q_step)\n",
    "\n",
    "        # 3e. for each value of c, generate Q(c) --- the set of variables with subsample frequency larger or equal to c;\n",
    "        for j in c_seq:\n",
    "            # 3e(1). define 'container' as the placeholder of Q(c) when c == j;\n",
    "            container = list()\n",
    "\n",
    "            for i in range(self.X.shape[1]):\n",
    "                # 3e(2). include all variables into 'container' if their corresponding values in q-hat \n",
    "                # (the subsample selection frequency of X_i) are larger or equal to j;\n",
    "                if (qhat_value[0][i] >= j):\n",
    "\n",
    "                    container.append(i)\n",
    "            # 3e(3). append 'container' (Q(c) when c == j) into 'Qc_list' (the container of Q(c) for all value of c);\n",
    "            Qc_list.append(container)\n",
    "\n",
    "        # 4. pick the variable that are selected most of the time;\n",
    "        # 4a. find the active set and save it as 'Q_opt_c';\n",
    "        # 4a(1). if it is bolasso-H, choose c == 1\n",
    "        Q_opt_c_H = Qc_list[0]\n",
    "        # 4a(2). if it is bolasso-S, choose c == 0.9\n",
    "        Q_opt_c_S = Qc_list[5]\n",
    "\n",
    "        # 5. output the bolasso-S result (Q_opt_c_S is the active set of bolasso-S)\n",
    "        # 5a. if Q_opt_c_S is empty, return a zero array and empty active set\n",
    "        if Q_opt_c_S == []:\n",
    "\n",
    "            bolassoS_coef = np.zeros([self.n_dim, 1])\n",
    "        # 5b. otherwise, regress Y onto the selected variables in X (variables in Q_opt_c_S)\n",
    "        else:\n",
    "            # 5b(1). call the LinearRegression class;\n",
    "            OLS_S = LinearRegression()\n",
    "            # 5b(2). fit OLS of Y to the variables in Q_opt_c_S on X;\n",
    "            OLS_S.fit(self.X[:, Q_opt_c_S], self.y)\n",
    "            # 5b(3). set 'bolassoS_coef' (an array of zeros) as the placeholder of bolasso-S regression coefficents\n",
    "            bolassoS_coef = np.zeros([self.n_dim, 1])\n",
    "            # 5b(4). put the estimated regression coefficents into their corresponding place of 'bolassoS_coef'\n",
    "            bolassoS_coef[Q_opt_c_S, 0] = OLS_S.coef_\n",
    "\n",
    "        # 5c. output the bolasso-H result (Q_opt_c_H is the active set of bolasso-H)\n",
    "        # if Q_opt_c_H is empty, return a zero array and empty active set\n",
    "        if Q_opt_c_H == []:\n",
    "\n",
    "            bolassoH_coef = np.zeros([self.n_dim, 1])\n",
    "        # 5d. otherwise, regress Y onto the selected variables in X (variables in Q_opt_c_H)\n",
    "        else:\n",
    "            # 5d(1). call the LinearRegression class;\n",
    "            OLS_H = LinearRegression()\n",
    "            # 5d(2). fit OLS of Y on the variables of Q_opt_c_H in X;\n",
    "            OLS_H.fit(self.X[:, Q_opt_c_H], self.y)\n",
    "            # 5d(3). set 'bolassoH_coef' (an array of zeros) as the placeholder of bolasso-H regression coefficents\n",
    "            bolassoH_coef = np.zeros([self.n_dim, 1])\n",
    "            # 5d(4). put the estimated regression coefficents into their corresponding place of 'bolassoH_coef'\n",
    "            bolassoH_coef[Q_opt_c_H, 0] = OLS_H.coef_\n",
    "\n",
    "        return bolassoS_coef, bolassoH_coef, Qc_list, Q_opt_c_S, Q_opt_c_H\n",
    "        '''"
   ]
  },
  {
   "cell_type": "markdown",
   "id": "coordinate-peninsula",
   "metadata": {},
   "source": [
    "### now run the function above under the following simulation setting"
   ]
  },
  {
   "cell_type": "code",
   "execution_count": 6,
   "id": "contained-lender",
   "metadata": {},
   "outputs": [],
   "source": [
    "sample_size = 20\n",
    "n_dim = 12\n",
    "n_info = 5\n",
    "n_repeat_bolasso = 256\n",
    "\n",
    "np.random.seed(2)\n",
    "\n",
    "# generate X and Y\n",
    "trial1 = simul(sample_size, n_dim, n_info)\n",
    "X, Y = trial1.data_gen()\n",
    "\n",
    "# train bolasso\n",
    "trial2 = bolasso(X, Y, n_repeat_bolasso)\n",
    "\n",
    "seeds, index_subsample, X_subsample, y_subsample, active, qhat_k_container = trial2.fit()"
   ]
  },
  {
   "cell_type": "markdown",
   "id": "average-italian",
   "metadata": {},
   "source": [
    "## Now let's check the result\n",
    "\n",
    "### check all 256 random seeds for each lasso repetition in bolasso"
   ]
  },
  {
   "cell_type": "code",
   "execution_count": 7,
   "id": "exciting-supervision",
   "metadata": {},
   "outputs": [
    {
     "name": "stdout",
     "output_type": "stream",
     "text": [
      "[75434668  2215104 38712131 60969723 58554051 15039847 74753033 89739541\n",
      " 40294130   374564 69941847 72039494 97308044 36256058 38290113 44989926\n",
      " 48220334 23813720 76385105 83093157 36662093 99522452 86837363 86414067\n",
      " 84418245 65931087 42384210 20865123 76916696 84442289 87950109 97193107\n",
      "  8085927 64085280 83836865 78826761 26299065 30790271 37003808 93837855\n",
      " 52216522 36129012 20832407 62515875 78031730 80102583 25486114 43886720\n",
      " 80701568 49997732 78794278 15338984 99574516 49344785 26835279 53472298\n",
      " 67679674 82950687 43513153 23752679  4548665 45168931 61795447 62962443\n",
      " 98279854 61856850 16863323  2946944 12577166 60476003 85730869 53889932\n",
      " 33057401 30818218  4730964 39831755 84283716 92123910 35625924 91812479\n",
      " 43202548 21730435 83109044 14137320 34869070 25544340 11680535 71404429\n",
      " 79466869   341845 20193840 56620337 39008425 51844771 26958943 36478149\n",
      " 58289758 14393600 74773796 10086306 13722416 33111901 13715843 41336362\n",
      " 34407373 47654887 58665877 88105161 85846399 34092544 18085770  6687090\n",
      " 46543403 67407231 63952919 52156091  4987257 23550050 23518782 34415523\n",
      " 51477214  7075963 21355090 11548590 17615587 91708564 66097361 38521394\n",
      " 99849627 44981006   818217 64027706 57752257 88529956 98982666 26065963\n",
      " 40186728 47933451 29196595 95237200 35030144 63265574 98014382 92648819\n",
      " 86361272 37325244 70609384 20166942 92091672 92627581 30573314 85933571\n",
      " 69738590 70626530 31037291 26228040 58657811 90616415 90359194 41884098\n",
      " 59790584 18604212 71100739 65493996 41340686 50241376 11418884 42180547\n",
      " 51450605 96430219 69522428 73116246  5574093 23923577 92366445 82416459\n",
      " 26213048 80628888  3085213 28928149 21610521 27935676 14681977  5688182\n",
      "  8402037 79816125 50607699 81562273 85337960 75613088 54302203 26274555\n",
      " 82434169  5936454 87294421 16851469 28952391 37914296 36344984 96717074\n",
      " 14827048 44985782 39141583 73153291 32061551 44223837 88331393 50789087\n",
      " 10200950   909528 36495384 10791890 92541935 69852931 15075020 65679651\n",
      " 72685270 44413950 24792773 70388439 44780075 27818016 24992779 56833640\n",
      " 36772052  2143926 27098600 26813186 35714587 93671379 45515993 18288947\n",
      " 90981550 22105013 28349981 64306755  4008483  8471335 28634505 59377737\n",
      " 42643753 68902787 59379502 14197466 83056562 97205100 93398787 29083423\n",
      " 71416585 51768714 51506715 50311597 64045255 69698983 28447805 48277845]\n"
     ]
    }
   ],
   "source": [
    "print(seeds)"
   ]
  },
  {
   "cell_type": "code",
   "execution_count": 8,
   "id": "conscious-martial",
   "metadata": {},
   "outputs": [
    {
     "data": {
      "text/plain": [
       "(256,)"
      ]
     },
     "execution_count": 8,
     "metadata": {},
     "output_type": "execute_result"
    }
   ],
   "source": [
    "seeds.shape"
   ]
  },
  {
   "cell_type": "markdown",
   "id": "continent-possible",
   "metadata": {},
   "source": [
    "## check the orignal sample index for each observation in the bootstrap sample"
   ]
  },
  {
   "cell_type": "code",
   "execution_count": 9,
   "id": "tender-cocktail",
   "metadata": {},
   "outputs": [
    {
     "name": "stdout",
     "output_type": "stream",
     "text": [
      "['point 10', 'point 19', 'point 7', 'point 8', 'point 11', 'point 7', 'point 19', 'point 10', 'point 9', 'point 14', 'point 18', 'point 16', 'point 13', 'point 14', 'point 17', 'point 16', 'point 14', 'point 0', 'point 7', 'point 13']\n"
     ]
    }
   ],
   "source": [
    "obs_index = ['point ' + str(i) for i in index_subsample]\n",
    "print(obs_index)"
   ]
  },
  {
   "cell_type": "markdown",
   "id": "falling-patch",
   "metadata": {},
   "source": [
    "### and the corresponding dot plot\n",
    "* <font size=\"4.5\"> horizontal axis is the observation index in orignal sample </font>\n",
    "* <font size=\"4.5\"> if you find 3 dots on horizontal value \"7\", in this bootstrap sample, point 7 from the original sample appears 3 times </font>"
   ]
  },
  {
   "cell_type": "code",
   "execution_count": 10,
   "id": "preliminary-poland",
   "metadata": {},
   "outputs": [
    {
     "data": {
      "image/png": "[encoded data removed]",
      "text/plain": [
       "<Figure size 1200x160 with 1 Axes>"
      ]
     },
     "metadata": {
      "needs_background": "light"
     },
     "output_type": "display_data"
    }
   ],
   "source": [
    "bins = 20\n",
    "\n",
    "fig1 = plt.figure(figsize=(15, 2), dpi=80)\n",
    "hist, edges = np.histogram(index_subsample, bins=bins)\n",
    "\n",
    "y  = np.arange(1,hist.max()+1)\n",
    "x  = np.arange(bins)\n",
    "X,Y = np.meshgrid(x,y)\n",
    "\n",
    "plt.scatter(X,Y, c=Y<=hist, cmap=\"Greys\")\n",
    "\n",
    "ax = fig1.gca()\n",
    "ax.xaxis.set_major_locator(MaxNLocator(integer=True))\n",
    "ax.yaxis.set_major_locator(MaxNLocator(integer=True))\n",
    "\n",
    "plt.xlabel(\"the observation index in orginal sample\")\n",
    "\n",
    "plt.show()"
   ]
  },
  {
   "cell_type": "markdown",
   "id": "wrong-kruger",
   "metadata": {},
   "source": [
    "## check the bootstrap sample size"
   ]
  },
  {
   "cell_type": "code",
   "execution_count": 11,
   "id": "virtual-albany",
   "metadata": {},
   "outputs": [
    {
     "name": "stdout",
     "output_type": "stream",
     "text": [
      "the number of obs and the number of variables in a bootstrap sample : (20, 12)\n"
     ]
    }
   ],
   "source": [
    "print(\"the number of obs and the number of variables in a bootstrap sample :\", X_subsample.shape)"
   ]
  },
  {
   "cell_type": "code",
   "execution_count": 12,
   "id": "desirable-margin",
   "metadata": {},
   "outputs": [
    {
     "name": "stdout",
     "output_type": "stream",
     "text": [
      "the number of obs in a bootstrap sample : (20,)\n"
     ]
    }
   ],
   "source": [
    "print(\"the number of obs in a bootstrap sample :\", y_subsample.shape)"
   ]
  },
  {
   "cell_type": "markdown",
   "id": "raising-murray",
   "metadata": {},
   "source": [
    "## check the lasso active set on the first bootstrap sample"
   ]
  },
  {
   "cell_type": "code",
   "execution_count": 13,
   "id": "willing-candy",
   "metadata": {},
   "outputs": [
    {
     "name": "stdout",
     "output_type": "stream",
     "text": [
      "the active set of lasso : [4, 1, 7, 2, 3, 0, 5, 6]\n"
     ]
    }
   ],
   "source": [
    "print(\"the active set of lasso :\", active)"
   ]
  },
  {
   "cell_type": "markdown",
   "id": "shaped-oxide",
   "metadata": {},
   "source": [
    "## check variable \"qhat_k\" on the first bootstrap sample\n",
    "* <font size=\"4.5\"> if you find the $i^{th}$ value in \"qhat_k\" is 1, the $i^{th}$ variable is selected on this bootstrap sample</font>"
   ]
  },
  {
   "cell_type": "code",
   "execution_count": 14,
   "id": "certain-verification",
   "metadata": {},
   "outputs": [
    {
     "name": "stdout",
     "output_type": "stream",
     "text": [
      "the qhat for each varaible in X on the first bootstrap sample\n",
      "[array([[1., 1., 1., 1., 1., 1., 1., 1., 0., 0., 0., 0.]])]\n"
     ]
    }
   ],
   "source": [
    "print(\"the qhat for each varaible in X on the first bootstrap sample\")\n",
    "print(qhat_k_container)"
   ]
  },
  {
   "cell_type": "markdown",
   "id": "civic-publicity",
   "metadata": {},
   "source": [
    "---\n",
    "\n",
    "## #2. now, let's check \n",
    "* <font size=\"4.5\"> the qhat for 256 bootstrap samples </font>\n",
    "* <font size=\"4.5\"> the subsample selection frequency of all variables </font>\n",
    "* <font size=\"4.5\"> active set of bolasso-S and bolasso-H </font>\n",
    "\n",
    "### we turning the last step into comments since it only produces the post-bolasso OLS coefficients."
   ]
  },
  {
   "cell_type": "code",
   "execution_count": 15,
   "id": "burning-armor",
   "metadata": {},
   "outputs": [],
   "source": [
    "class bolasso:\n",
    "\n",
    "    def __init__(self, X, Y, n_repeat_bolasso, rnd=0):\n",
    "        # for convinience, we define the common variable (variables we need to use for each of the following functions) in the class as follows (the common variable is defined as self.xxxx)\n",
    "\n",
    "        # sample size\n",
    "        self.sample_size = X.shape[0]\n",
    "        # the number of subsamples generated in bolasso\n",
    "        self.n_repeat_bolasso = n_repeat_bolasso\n",
    "        # the number of total variables in X\n",
    "        self.n_dim = X.shape[1]\n",
    "        # randome seeds for parallel computations\n",
    "        self.rnd = rnd\n",
    "        # the maximum value of subsample selection frequency for plotting\n",
    "        self.q_start = 1\n",
    "        # the minimum value of subsample selection frequency for plotting\n",
    "        self.q_end = 0.1\n",
    "        # the sample we generate via data-generating process\n",
    "        self.X = X; self.y = Y\n",
    "\n",
    "    def fit(self):\n",
    "\n",
    "        #1. construct a placeholder called 'qhat_k_container', which is the list of all qhat^k (a binary string representing whether each variable is selected by lasso on subsample k) of each subsample\n",
    "        qhat_k_container = list()\n",
    "\n",
    "        #2. train a lasso on each subsample, find out which variable is selected on a given sample and save the corresponding selection result on subsample k as qhat^k\n",
    "\n",
    "        #parallel computing starts\n",
    "        # 2a. to make parallel computing replicable, set random seeds\n",
    "        np.random.seed(self.rnd)\n",
    "        # 2b. spawn off child seed sequences to pass to child processes.\n",
    "        seeds = np.random.randint(1e8, size=self.n_repeat_bolasso)\n",
    "\n",
    "        # 2c. first we define what we do in each stage of the loop\n",
    "        def loop_fun(self, i, seeds, qhat_k_container):\n",
    "\n",
    "            # 2c(1). fix random seed for replication\n",
    "            np.random.seed(seeds[i])\n",
    "\n",
    "            # 2c(2). randomly choose a bootstrap set of sample points (whose index is 'index_subsample'); \n",
    "            # e.g. choosing n points from n points with replacement\n",
    "            index_subsample = np.random.choice(self.sample_size, self.sample_size, replace=True)\n",
    "            # 2c(3). based on the index \"index_subsample\", take the corresponding observations of X as \"X_subample\"\n",
    "            X_subsample = self.X[index_subsample]\n",
    "            # 2c(4). based on the index \"index_subsample\", take the corresponding observations of Y as \"y_subample\"\n",
    "            y_subsample = self.y[index_subsample]\n",
    "\n",
    "            # 2c(5). change dimension for the Sklearn lasso package.\n",
    "            y_subsample.shape = (y_subsample.shape[0],)\n",
    "            \n",
    "            #standardize training data\n",
    "            scaler = preprocessing.StandardScaler().fit(X_subsample)\n",
    "            X_subsample = scaler.transform(X_subsample)\n",
    "\n",
    "            # 2c(6). given a subsample, compute lasso and output the active set;\n",
    "            # call the lasso class and set the number of fold as 10\n",
    "            trial_1 = LassoLarsCV(cv=10, normalize=False)\n",
    "            # fit lasso on the subsample\n",
    "            trial_1.fit(X_subsample, y_subsample)\n",
    "            # save the lasso active set (indices of variables select by lassso) as 'active'.\n",
    "            active = trial_1.active_\n",
    "\n",
    "            # 2c(7). based on the active set of lasso, we compute qhat^k as the binary string of whether each variable is selected by lasso on subsample K\n",
    "            # we generate 'qhat_k' as a row of zeros;\n",
    "            qhat_k = np.zeros((1, self.n_dim))\n",
    "            # if a variable (the ith column in matrix X) is selected by lasso, we change the ith value of qhat_k (the ith column) as 1\n",
    "            for i in active:\n",
    "\n",
    "                qhat_k[0, i] = 1\n",
    "\n",
    "            # we append the result into 'qhat_k_container' as one element of the list\n",
    "            qhat_k_container.append(qhat_k)\n",
    "\n",
    "            return qhat_k_container\n",
    "    \n",
    "        # 2d. parallel the whole for-loop using the function we define previously and save the result\n",
    "        # prefer=\"processes\"  means that we prefer use processes\n",
    "        # n_jobs=-1           means we use all possible processes\n",
    "        qhat_k_container = Parallel(n_jobs=-1, prefer=\"processes\")(delayed(loop_fun)(self, i, seeds, qhat_k_container) for i in range(self.n_repeat_bolasso))\n",
    "\n",
    "        # 3. compute subsample selection frequency for all variables\n",
    "        # 3a. we transform the list of all q_hat^k ('qhat_k_container') into a matrix ('qhat_k_container_matrix')\n",
    "        # axis = 0 means we treat each item as a row in matrix;\n",
    "        # row of the matrix   : the q_hat^k on a given subsample for all variables;\n",
    "        # column of the matrix: the corresponding value of qhat^k for variable \"X_i\" on all subsamples;\n",
    "        qhat_k_container_matrix = np.concatenate(qhat_k_container, axis=0)\n",
    "\n",
    "        # 3b. compute the the value of qhat for each variable (the subsample selection frequency of each variable)\n",
    "        # e.g., compute the mean of each column \n",
    "        qhat_value = np.mean(qhat_k_container_matrix, axis=0)\n",
    "\n",
    "        # 3c. set 'Qc_list' as the container for the subsample selection frequencies of all variables, ranking in decreasing order.\n",
    "        Qc_list = list()\n",
    "        # 3d. set 'c_seq' as the sequence of subsample selection frequency in bolasso\n",
    "        q_step = -0.02  #when I need a detailed subsample frequency table, I take it as -0.01; otherwise, I use -0.02 to speed up the computation. This option virtually have no effect on runtime and accuracy on my PC.\n",
    "        c_seq = np.arange(1, 0.1, q_step)\n",
    "\n",
    "        # 3e. for each value of c, generate Q(c) --- the set of variables with subsample frequency larger or equal to c;\n",
    "        for j in c_seq:\n",
    "            # 3e(1). define 'container' as the placeholder of Q(c) when c == j;\n",
    "            container = list()\n",
    "\n",
    "            for i in range(self.X.shape[1]):\n",
    "                # 3e(2). include all variables into 'container' if their corresponding values in q-hat \n",
    "                # (the subsample selection frequency of X_i) are larger or equal to j;\n",
    "                if (qhat_value[0][i] >= j):\n",
    "\n",
    "                    container.append(i)\n",
    "            # 3e(3). append 'container' (Q(c) when c == j) into 'Qc_list' (the container of Q(c) for all value of c);\n",
    "            Qc_list.append(container)\n",
    "\n",
    "        # 4. pick the variable that are selected most of the time;\n",
    "        # 4a. find the active set and save it as 'Q_opt_c';\n",
    "        # 4a(1). if it is bolasso-H, choose c == 1\n",
    "        Q_opt_c_H = Qc_list[0]\n",
    "        # 4a(2). if it is bolasso-S, choose c == 0.9\n",
    "        Q_opt_c_S = Qc_list[5]\n",
    "        \n",
    "        return qhat_k_container, qhat_value, Qc_list, Q_opt_c_H, Q_opt_c_S\n",
    "        \n",
    "        '''\n",
    "        # 5. output the bolasso-S result (Q_opt_c_S is the active set of bolasso-S)\n",
    "        # 5a. if Q_opt_c_S is empty, return a zero array and empty active set\n",
    "        if Q_opt_c_S == []:\n",
    "\n",
    "            bolassoS_coef = np.zeros([self.n_dim, 1])\n",
    "        # 5b. otherwise, regress Y onto the selected variables in X (variables in Q_opt_c_S)\n",
    "        else:\n",
    "            # 5b(1). call the LinearRegression class;\n",
    "            OLS_S = LinearRegression()\n",
    "            # 5b(2). fit OLS of Y to the variables in Q_opt_c_S on X;\n",
    "            OLS_S.fit(self.X[:, Q_opt_c_S], self.y)\n",
    "            # 5b(3). set 'bolassoS_coef' (an array of zeros) as the placeholder of bolasso-S regression coefficents\n",
    "            bolassoS_coef = np.zeros([self.n_dim, 1])\n",
    "            # 5b(4). put the estimated regression coefficents into their corresponding place of 'bolassoS_coef'\n",
    "            bolassoS_coef[Q_opt_c_S, 0] = OLS_S.coef_\n",
    "\n",
    "        # 5c. output the bolasso-H result (Q_opt_c_H is the active set of bolasso-H)\n",
    "        # if Q_opt_c_H is empty, return a zero array and empty active set\n",
    "        if Q_opt_c_H == []:\n",
    "\n",
    "            bolassoH_coef = np.zeros([self.n_dim, 1])\n",
    "        # 5d. otherwise, regress Y onto the selected variables in X (variables in Q_opt_c_H)\n",
    "        else:\n",
    "            # 5d(1). call the LinearRegression class;\n",
    "            OLS_H = LinearRegression()\n",
    "            # 5d(2). fit OLS of Y on the variables of Q_opt_c_H in X;\n",
    "            OLS_H.fit(self.X[:, Q_opt_c_H], self.y)\n",
    "            # 5d(3). set 'bolassoH_coef' (an array of zeros) as the placeholder of bolasso-H regression coefficents\n",
    "            bolassoH_coef = np.zeros([self.n_dim, 1])\n",
    "            # 5d(4). put the estimated regression coefficents into their corresponding place of 'bolassoH_coef'\n",
    "            bolassoH_coef[Q_opt_c_H, 0] = OLS_H.coef_\n",
    "\n",
    "        return bolassoS_coef, bolassoH_coef, Qc_list, Q_opt_c_S, Q_opt_c_H\n",
    "        '''"
   ]
  },
  {
   "cell_type": "markdown",
   "id": "suburban-discount",
   "metadata": {},
   "source": [
    "### now run the function above under the following simulation setting"
   ]
  },
  {
   "cell_type": "code",
   "execution_count": 16,
   "id": "assured-posting",
   "metadata": {},
   "outputs": [],
   "source": [
    "sample_size      = 100\n",
    "n_dim            = 12\n",
    "n_info           = 5\n",
    "n_repeat_bolasso = 256\n",
    "\n",
    "np.random.seed(2)\n",
    "\n",
    "# generate X and Y\n",
    "trial1 = simul(sample_size, n_dim, n_info)\n",
    "X, Y = trial1.data_gen()\n",
    "\n",
    "# train bolasso\n",
    "trial2 = bolasso(X, Y, n_repeat_bolasso)\n",
    "\n",
    "qhat_k_container, qhat_value, Qc_list, Q_opt_c_H, Q_opt_c_S = trial2.fit()"
   ]
  },
  {
   "cell_type": "markdown",
   "id": "italian-casino",
   "metadata": {},
   "source": [
    "### check the qhat for first 5 subsamples of bolasso"
   ]
  },
  {
   "cell_type": "code",
   "execution_count": 17,
   "id": "warming-surveillance",
   "metadata": {},
   "outputs": [
    {
     "data": {
      "text/plain": [
       "[[array([[1., 1., 1., 1., 1., 0., 0., 1., 1., 1., 1., 1.]])],\n",
       " [array([[1., 1., 1., 1., 1., 1., 1., 1., 1., 1., 1., 1.]])],\n",
       " [array([[1., 1., 1., 1., 1., 1., 1., 1., 0., 1., 1., 1.]])],\n",
       " [array([[1., 1., 1., 1., 1., 0., 0., 1., 0., 1., 1., 0.]])],\n",
       " [array([[1., 1., 1., 1., 1., 1., 1., 1., 1., 1., 1., 1.]])]]"
      ]
     },
     "execution_count": 17,
     "metadata": {},
     "output_type": "execute_result"
    }
   ],
   "source": [
    "qhat_k_container[0:5]"
   ]
  },
  {
   "cell_type": "markdown",
   "id": "worth-alberta",
   "metadata": {},
   "source": [
    "### check the subsample selection frequency of each varaible on 256 subsamples"
   ]
  },
  {
   "cell_type": "code",
   "execution_count": 18,
   "id": "confirmed-nashville",
   "metadata": {},
   "outputs": [
    {
     "name": "stdout",
     "output_type": "stream",
     "text": [
      "[[1.         1.         1.         1.         1.         0.55078125\n",
      "  0.60351562 0.9609375  0.625      0.75       0.8515625  0.63085938]]\n"
     ]
    }
   ],
   "source": [
    "print(qhat_value)"
   ]
  },
  {
   "cell_type": "markdown",
   "id": "reverse-veteran",
   "metadata": {},
   "source": [
    "### and the corresponding barplot"
   ]
  },
  {
   "cell_type": "code",
   "execution_count": 19,
   "id": "israeli-imperial",
   "metadata": {},
   "outputs": [
    {
     "data": {
      "image/png": "[encoded data removed]",
      "text/plain": [
       "<Figure size 864x216 with 1 Axes>"
      ]
     },
     "metadata": {
      "needs_background": "light"
     },
     "output_type": "display_data"
    }
   ],
   "source": [
    "ind = np.arange(12)\n",
    "\n",
    "fig, ax = plt.subplots(figsize=(12,3))\n",
    "\n",
    "ax.bar(ind, qhat_value[0], 0.35, edgecolor=\"black\", color=\"white\")\n",
    "ax.hlines(1, -1, 13, linewidth=3, color='red', linestyles='dashed')\n",
    "ax.hlines(0.9, -1, 13, linewidth=3, color='green', linestyles='dashed')\n",
    "\n",
    "ax.set_xlim([-0.5, 11.5])\n",
    "ax.set_ylim([0.5, 1.02])\n",
    "\n",
    "ax.xaxis.set_major_locator(MaxNLocator(integer=True))\n",
    "\n",
    "plt.xlabel(\"the index of each varaible in X\")\n",
    "plt.ylabel(\"subsample selection frequency\")\n",
    "\n",
    "plt.show()"
   ]
  },
  {
   "cell_type": "markdown",
   "id": "distinguished-beauty",
   "metadata": {},
   "source": [
    "## check the active set of bolasso"
   ]
  },
  {
   "cell_type": "code",
   "execution_count": 20,
   "id": "latter-croatia",
   "metadata": {},
   "outputs": [
    {
     "name": "stdout",
     "output_type": "stream",
     "text": [
      "the active set with f=1.0 : [0, 1, 2, 3, 4]\n"
     ]
    }
   ],
   "source": [
    "print(\"the active set with f=1.0 :\", Q_opt_c_H)"
   ]
  },
  {
   "cell_type": "code",
   "execution_count": 21,
   "id": "emotional-elimination",
   "metadata": {},
   "outputs": [
    {
     "name": "stdout",
     "output_type": "stream",
     "text": [
      "the active set with f=0.9 : [0, 1, 2, 3, 4, 7]\n"
     ]
    }
   ],
   "source": [
    "print(\"the active set with f=0.9 :\", Q_opt_c_S)"
   ]
  },
  {
   "cell_type": "markdown",
   "id": "designed-stock",
   "metadata": {},
   "source": [
    "## finaly, producing this into html"
   ]
  },
  {
   "cell_type": "code",
   "execution_count": 1,
   "id": "accepted-afternoon",
   "metadata": {},
   "outputs": [
    {
     "name": "stdout",
     "output_type": "stream",
     "text": [
      "[NbConvertApp] Converting notebook bolasso_walkthrough.ipynb to html\n",
      "[NbConvertApp] Writing 695963 bytes to bolasso_walkthrough.html\n"
     ]
    }
   ],
   "source": [
    "!rm -rf bolasso_walkthrough.html\n",
    "!jupyter nbconvert --to html bolasso_walkthrough.ipynb "
   ]
  },
  {
   "cell_type": "code",
   "execution_count": null,
   "id": "complete-indonesian",
   "metadata": {},
   "outputs": [],
   "source": []
  }
 ],
 "metadata": {
  "kernelspec": {
   "display_name": "Python 3 (ipykernel)",
   "language": "python",
   "name": "python3"
  },
  "language_info": {
   "codemirror_mode": {
    "name": "ipython",
    "version": 3
   },
   "file_extension": ".py",
   "mimetype": "text/x-python",
   "name": "python",
   "nbconvert_exporter": "python",
   "pygments_lexer": "ipython3",
   "version": "3.9.12"
  }
 },
 "nbformat": 4,
 "nbformat_minor": 5
}
